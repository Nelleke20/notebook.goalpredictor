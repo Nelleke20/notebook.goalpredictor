{
 "cells": [
  {
   "cell_type": "markdown",
   "id": "eacc0df3-fe99-49bc-a2bf-9236dfcb564a",
   "metadata": {
    "tags": []
   },
   "source": [
    "### deploy the model with an api"
   ]
  },
  {
   "cell_type": "code",
   "execution_count": 51,
   "id": "24d77718-ac21-4c0b-b426-48f822801620",
   "metadata": {},
   "outputs": [],
   "source": [
    "from flask import Flask\n",
    "from joblib import load\n",
    "import pandas as pd\n",
    "import requests\n",
    "import json"
   ]
  },
  {
   "cell_type": "code",
   "execution_count": 130,
   "id": "e318c9de-2b3d-4b72-a83c-3f380f22d824",
   "metadata": {},
   "outputs": [],
   "source": [
    "# input data\n",
    "testset = pd.read_csv('../data/testset_api.csv')\n",
    "testset = testset.set_index('uniekid')\n",
    "testset = testset.drop('goal', axis=1)\n",
    "\n",
    "# Create an empty list\n",
    "rowlist =[]\n",
    "  \n",
    "# Iterate over each row\n",
    "for index, rows in testset.iterrows():      \n",
    "    # append the list to the final list\n",
    "    rowlist.append(rows)"
   ]
  },
  {
   "cell_type": "code",
   "execution_count": 133,
   "id": "32509105-6e9a-46e9-beab-48fd1ba5affb",
   "metadata": {},
   "outputs": [
    {
     "data": {
      "text/plain": [
       "'{\"data\":\"Hello World\"}\\n'"
      ]
     },
     "execution_count": 133,
     "metadata": {},
     "output_type": "execute_result"
    }
   ],
   "source": [
    "# test api call\n",
    "response = requests.get('http://localhost:5000')\n",
    "response.text"
   ]
  },
  {
   "cell_type": "code",
   "execution_count": 134,
   "id": "65dd1a2a-25e1-4bc4-83b6-d7e83b1e4574",
   "metadata": {},
   "outputs": [
    {
     "name": "stdout",
     "output_type": "stream",
     "text": [
      "\"[1.]\"\n",
      "\n"
     ]
    }
   ],
   "source": [
    "# test api call\n",
    "url = 'http://0.0.0.0:5000/api/predictSVC'\n",
    "\n",
    "row_features_as_list = rowlist[3].values.tolist()\n",
    "data = [row_features_as_list]\n",
    "json_data = json.dumps(data)\n",
    "headers = {'content-type': 'application/json', 'Accept-Charset': 'UTF-8'}\n",
    "response = requests.post(url, data=json_data, headers=headers)\n",
    "print(response.text)"
   ]
  },
  {
   "cell_type": "code",
   "execution_count": 135,
   "id": "061c5221-8587-457d-8dbf-5ca2a456c142",
   "metadata": {},
   "outputs": [
    {
     "name": "stdout",
     "output_type": "stream",
     "text": [
      "\"[0.]\"\n",
      "\n"
     ]
    }
   ],
   "source": [
    "# test api call\n",
    "url = 'http://0.0.0.0:5000/api/predictBAGGING'\n",
    "\n",
    "row_features_as_list = rowlist[3].values.tolist()\n",
    "data = [row_features_as_list]\n",
    "json_data = json.dumps(data)\n",
    "headers = {'content-type': 'application/json', 'Accept-Charset': 'UTF-8'}\n",
    "response = requests.post(url, data=json_data, headers=headers)\n",
    "print(response.text)"
   ]
  },
  {
   "cell_type": "code",
   "execution_count": null,
   "id": "160df79d-9ea6-437f-8bed-6316f2813059",
   "metadata": {},
   "outputs": [],
   "source": []
  }
 ],
 "metadata": {
  "kernelspec": {
   "display_name": "Python 3 (ipykernel)",
   "language": "python",
   "name": "python3"
  },
  "language_info": {
   "codemirror_mode": {
    "name": "ipython",
    "version": 3
   },
   "file_extension": ".py",
   "mimetype": "text/x-python",
   "name": "python",
   "nbconvert_exporter": "python",
   "pygments_lexer": "ipython3",
   "version": "3.8.6"
  }
 },
 "nbformat": 4,
 "nbformat_minor": 5
}
