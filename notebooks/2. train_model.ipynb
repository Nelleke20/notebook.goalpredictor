{
 "cells": [
  {
   "cell_type": "markdown",
   "id": "2b7d4ebd-e183-40ff-bd5a-fc9c8e7bec08",
   "metadata": {
    "tags": []
   },
   "source": [
    "### predict the chances for a goal in the next minute"
   ]
  },
  {
   "cell_type": "code",
   "execution_count": 1,
   "id": "d0f45c20-8b48-42e3-a8f1-89a315025653",
   "metadata": {},
   "outputs": [
    {
     "name": "stdout",
     "output_type": "stream",
     "text": [
      "/Users/nellekesmits/Documents/projects/notebook.goalpredictor\n"
     ]
    }
   ],
   "source": [
    "cd .."
   ]
  },
  {
   "cell_type": "code",
   "execution_count": 2,
   "id": "13b2491c-33a0-4e0f-8b51-3cd5d3de1ee7",
   "metadata": {},
   "outputs": [],
   "source": [
    "# to do:\n",
    "# read smoteENN functioning"
   ]
  },
  {
   "cell_type": "code",
   "execution_count": 3,
   "id": "5205f601-66c2-42af-a8b7-2d1b4e250825",
   "metadata": {},
   "outputs": [],
   "source": [
    "import warnings\n",
    "warnings.filterwarnings('ignore')"
   ]
  },
  {
   "cell_type": "code",
   "execution_count": 4,
   "id": "1a8e0e8d-43da-4011-9177-39cde3529e20",
   "metadata": {},
   "outputs": [],
   "source": [
    "import pandas as pd\n",
    "import matplotlib.pyplot as plt\n",
    "import numpy as np\n",
    "import seaborn as sns\n",
    "from statsbombpy import sb\n",
    "import notebooks.utils as utils\n",
    "import SoccermaticsForPython.FCPython as sfp_fcp\n",
    "import SoccermaticsForPython as sfp\n",
    "from sklearn.model_selection import train_test_split\n",
    "from imblearn.ensemble import BalancedBaggingClassifier\n",
    "from sklearn.metrics import plot_roc_curve\n",
    "import matplotlib.pyplot as plt\n",
    "\n",
    "pd.set_option('display.max_columns', None)"
   ]
  },
  {
   "cell_type": "code",
   "execution_count": 5,
   "id": "8d93fac7-037c-4039-a322-15d32e0f7090",
   "metadata": {},
   "outputs": [],
   "source": [
    "from sklearn.pipeline import make_pipeline\n",
    "from sklearn.preprocessing import StandardScaler\n",
    "from sklearn.model_selection import cross_val_score\n",
    "from sklearn.model_selection import cross_val_predict\n",
    "from sklearn.metrics import confusion_matrix\n",
    "from sklearn.metrics import plot_confusion_matrix\n",
    "from sklearn.linear_model import LogisticRegression\n",
    "from imblearn.under_sampling import RandomUnderSampler\n",
    "from imblearn.over_sampling import RandomOverSampler\n",
    "from imblearn.over_sampling import SMOTE\n",
    "from imblearn.combine import SMOTEENN \n",
    "from sklearn.svm import SVC\n",
    "from sklearn.svm import LinearSVC\n",
    "from sklearn.ensemble import RandomForestClassifier\n"
   ]
  },
  {
   "cell_type": "code",
   "execution_count": 6,
   "id": "58f6d9ee-ee3c-46ea-b1bd-e6d292e718dc",
   "metadata": {},
   "outputs": [
    {
     "ename": "NameError",
     "evalue": "name 'events_all_matches' is not defined",
     "output_type": "error",
     "traceback": [
      "\u001b[0;31m---------------------------------------------------------------------------\u001b[0m",
      "\u001b[0;31mNameError\u001b[0m                                 Traceback (most recent call last)",
      "Input \u001b[0;32mIn [6]\u001b[0m, in \u001b[0;36m<cell line: 1>\u001b[0;34m()\u001b[0m\n\u001b[0;32m----> 1\u001b[0m \u001b[43mevents_all_matches\u001b[49m[\u001b[38;5;124m'\u001b[39m\u001b[38;5;124mminute\u001b[39m\u001b[38;5;124m'\u001b[39m]\u001b[38;5;241m.\u001b[39mplot(kind\u001b[38;5;241m=\u001b[39m\u001b[38;5;124m'\u001b[39m\u001b[38;5;124mhist\u001b[39m\u001b[38;5;124m'\u001b[39m, bins\u001b[38;5;241m=\u001b[39m\u001b[38;5;241m100\u001b[39m)\n\u001b[1;32m      2\u001b[0m plt\u001b[38;5;241m.\u001b[39mtitle(\u001b[38;5;124m'\u001b[39m\u001b[38;5;124mdistributies van activiteit per minuuut\u001b[39m\u001b[38;5;124m'\u001b[39m)\n\u001b[1;32m      3\u001b[0m plt\u001b[38;5;241m.\u001b[39mshow()\n",
      "\u001b[0;31mNameError\u001b[0m: name 'events_all_matches' is not defined"
     ]
    }
   ],
   "source": [
    "events_all_matches['minute'].plot(kind='hist', bins=100)\n",
    "plt.title('distributies van activiteit per minuuut')\n",
    "plt.show()"
   ]
  },
  {
   "cell_type": "code",
   "execution_count": null,
   "id": "1790d3df-244d-42d3-b318-1c5f34a535fc",
   "metadata": {},
   "outputs": [],
   "source": [
    "# sns.histplot(data=events_all_matches, x=\"minute\",bins=30)"
   ]
  },
  {
   "cell_type": "markdown",
   "id": "8b185138-d558-40dc-bc19-94d862f46927",
   "metadata": {
    "tags": []
   },
   "source": [
    "#### import dataset"
   ]
  },
  {
   "cell_type": "code",
   "execution_count": 7,
   "id": "ba734c3b-01e5-49c6-8af7-8b869c8519a7",
   "metadata": {},
   "outputs": [],
   "source": [
    "df = pd.read_csv('data/train_dataset.csv', index_col=0)\n",
    "df.set_index('uniekid', inplace=True)"
   ]
  },
  {
   "cell_type": "code",
   "execution_count": null,
   "id": "258b2b75-6163-48af-bddc-20f6fcd57faa",
   "metadata": {},
   "outputs": [],
   "source": [
    "df.head(1)"
   ]
  },
  {
   "cell_type": "markdown",
   "id": "736c3f3c-47f2-459c-a07f-69fed415e846",
   "metadata": {
    "tags": []
   },
   "source": [
    "#### create train and testset"
   ]
  },
  {
   "cell_type": "code",
   "execution_count": 9,
   "id": "549678f9-0395-489e-af3b-39f3358ab80f",
   "metadata": {},
   "outputs": [],
   "source": [
    "# algemene train en testset\n",
    "X = df.drop('goal', axis=1)\n",
    "y = df['goal']\n",
    "\n",
    "X_train, X_test, y_train, y_test = train_test_split(X, y,random_state=0)"
   ]
  },
  {
   "cell_type": "code",
   "execution_count": 10,
   "id": "a2dcd674-c599-4a78-9ee7-734957af1322",
   "metadata": {},
   "outputs": [
    {
     "data": {
      "text/plain": [
       "0.0    0.982977\n",
       "1.0    0.017023\n",
       "Name: goal, dtype: float64"
      ]
     },
     "execution_count": 10,
     "metadata": {},
     "output_type": "execute_result"
    }
   ],
   "source": [
    "y_test.value_counts(normalize=True)"
   ]
  },
  {
   "cell_type": "code",
   "execution_count": 11,
   "id": "18fd5bbe-b26f-4c30-bff5-bf6730abe38b",
   "metadata": {},
   "outputs": [],
   "source": [
    "# verschillende balaning technieken testen met verschillende strategy's"
   ]
  },
  {
   "cell_type": "code",
   "execution_count": 12,
   "id": "d1033fc0-2501-40cf-bd2e-da32e8cff04d",
   "metadata": {},
   "outputs": [],
   "source": [
    "# strategies = np.linspace(0,1,10)    #1 = 50/50 distribution between 0 and 1 class, 0.5 = 66 (0) and 33 (1) distribution\n",
    "# strategy = 0.25\n",
    "# strategy = 0.5\n",
    "strategy = 0.75"
   ]
  },
  {
   "cell_type": "code",
   "execution_count": 13,
   "id": "4ad42927-4179-4a98-85aa-90264268af5d",
   "metadata": {},
   "outputs": [],
   "source": [
    "rus = RandomUnderSampler(random_state=0,sampling_strategy=strategy)    # remove 0 class\n",
    "ros = RandomOverSampler(random_state =0, sampling_strategy=strategy)   # add copies 1 class\n",
    "smote = SMOTE(random_state =0,sampling_strategy=strategy)              # add synthetic 1 class\n",
    "sme = SMOTEENN(random_state=0, sampling_strategy=strategy)             # https://towardsdatascience.com/imbalanced-classification-in-python-smote-enn-method-db5db06b8d50\n",
    "\n",
    "X_train_rus, y_train_rus = rus.fit_resample(X_train, y_train)\n",
    "X_train_ros, y_train_ros = ros.fit_resample(X_train, y_train)\n",
    "X_train_smote, y_train_smote = smote.fit_resample(X_train, y_train)\n",
    "X_train_smoteENN, y_train_smoteENN = sme.fit_resample(X_train, y_train)"
   ]
  },
  {
   "cell_type": "code",
   "execution_count": 14,
   "id": "e9ca3611-7b14-4448-91fa-ecc0b3f01594",
   "metadata": {},
   "outputs": [
    {
     "data": {
      "text/plain": [
       "0.0    0.570881\n",
       "1.0    0.429119\n",
       "Name: goal, dtype: float64"
      ]
     },
     "execution_count": 14,
     "metadata": {},
     "output_type": "execute_result"
    }
   ],
   "source": [
    "y_train_rus.value_counts(normalize=True)  "
   ]
  },
  {
   "cell_type": "code",
   "execution_count": 15,
   "id": "21ef8935-dffb-47b4-a239-7a74a4ecb6eb",
   "metadata": {},
   "outputs": [
    {
     "data": {
      "text/plain": [
       "0.0    0.571461\n",
       "1.0    0.428539\n",
       "Name: goal, dtype: float64"
      ]
     },
     "execution_count": 15,
     "metadata": {},
     "output_type": "execute_result"
    }
   ],
   "source": [
    "y_train_ros.value_counts(normalize=True)  "
   ]
  },
  {
   "cell_type": "code",
   "execution_count": 16,
   "id": "ce6a8064-074f-443a-8634-e5ea12fa1d56",
   "metadata": {},
   "outputs": [
    {
     "data": {
      "text/plain": [
       "0.0    0.571461\n",
       "1.0    0.428539\n",
       "Name: goal, dtype: float64"
      ]
     },
     "execution_count": 16,
     "metadata": {},
     "output_type": "execute_result"
    }
   ],
   "source": [
    "y_train_smote.value_counts(normalize=True)"
   ]
  },
  {
   "cell_type": "code",
   "execution_count": 17,
   "id": "ffd81e58-c3f4-4981-a5a2-d89c690e0601",
   "metadata": {},
   "outputs": [
    {
     "data": {
      "text/plain": [
       "1.0    0.508453\n",
       "0.0    0.491547\n",
       "Name: goal, dtype: float64"
      ]
     },
     "execution_count": 17,
     "metadata": {},
     "output_type": "execute_result"
    }
   ],
   "source": [
    "y_train_smoteENN.value_counts(normalize=True)  "
   ]
  },
  {
   "cell_type": "code",
   "execution_count": 18,
   "id": "04082a0a-ca85-482c-8286-a84c85c1d30b",
   "metadata": {},
   "outputs": [],
   "source": [
    "X_train_tot = [X_train, X_train_rus, X_train_ros, X_train_smote,X_train_smoteENN]\n",
    "y_train_tot = [y_train, y_train_rus, y_train_ros, y_train_smote, y_train_smoteENN]\n",
    "sampling_technique = ['nothing', 'undersampling' ,'oversampling' , 'smote' , 'smoteENN']"
   ]
  },
  {
   "cell_type": "markdown",
   "id": "b4766897-f6de-4eb0-9f4c-19c72a19d8b3",
   "metadata": {
    "tags": []
   },
   "source": [
    "#### create model"
   ]
  },
  {
   "cell_type": "code",
   "execution_count": 19,
   "id": "fdbfacce-56a9-4145-af52-53e2c32be5e3",
   "metadata": {},
   "outputs": [],
   "source": [
    "models = []\n",
    "\n",
    "models\n",
    "models.append((\"LogisticRegression\",LogisticRegression()))\n",
    "models.append((\"SVC\",SVC()))\n",
    "models.append((\"LinearSVC\",LinearSVC()))\n",
    "models.append((\"RandomForest\",RandomForestClassifier()))"
   ]
  },
  {
   "cell_type": "code",
   "execution_count": null,
   "id": "de67c4ff-42dc-45d1-ad47-02aaba760933",
   "metadata": {
    "tags": []
   },
   "outputs": [],
   "source": [
    "results = []\n",
    "techniques = []\n",
    "names = []\n",
    "train = []\n",
    "\n",
    "for name, model in models:\n",
    "    for technique, x, y in zip(sampling_technique, X_train_tot, y_train_tot):\n",
    "        mod = make_pipeline(StandardScaler(), model)\n",
    "        result = cross_val_score(mod, x, y,  cv=3)\n",
    "        mod.fit(x, y)            \n",
    "        names.append(name)\n",
    "        results.append(result)\n",
    "        techniques.append(technique)\n",
    "        print(f'volgende ronde met een bepaalde sampling technique: {technique}:')\n",
    "        print(name)\n",
    "        print(result)\n",
    "        print('with the following confusion matrix: ')\n",
    "        plot_confusion_matrix(mod, X_test, y_test)  \n",
    "        plt.show()"
   ]
  },
  {
   "cell_type": "code",
   "execution_count": null,
   "id": "45c93cd3-310e-4823-aec3-c30159a43d7a",
   "metadata": {},
   "outputs": [],
   "source": [
    "for i in range(len(names)):\n",
    "    print(names[i],results[i].mean())"
   ]
  },
  {
   "cell_type": "code",
   "execution_count": null,
   "id": "f4d81c36-f787-45d4-a62d-49fce44a550b",
   "metadata": {},
   "outputs": [],
   "source": []
  },
  {
   "cell_type": "code",
   "execution_count": null,
   "id": "3daba0cb-9b3b-4d4a-84c5-0583f1c53129",
   "metadata": {},
   "outputs": [],
   "source": []
  },
  {
   "cell_type": "code",
   "execution_count": null,
   "id": "fbea7add-ed5d-415d-a626-955d3288aa5b",
   "metadata": {},
   "outputs": [],
   "source": []
  },
  {
   "cell_type": "code",
   "execution_count": null,
   "id": "0b6fd1ea-6eea-4c08-a002-cbd1f90354e4",
   "metadata": {},
   "outputs": [],
   "source": []
  },
  {
   "cell_type": "code",
   "execution_count": null,
   "id": "877bf94d-9993-4e96-9a8f-147128ffc71a",
   "metadata": {},
   "outputs": [
    {
     "name": "stderr",
     "output_type": "stream",
     "text": [
      "/Users/nellekesmits/Documents/projects/notebook.goalpredictor/venv/lib/python3.8/site-packages/sklearn/utils/deprecation.py:87: FutureWarning: Function plot_confusion_matrix is deprecated; Function `plot_confusion_matrix` is deprecated in 1.0 and will be removed in 1.2. Use one of the class methods: ConfusionMatrixDisplay.from_predictions or ConfusionMatrixDisplay.from_estimator.\n",
      "  warnings.warn(msg, category=FutureWarning)\n"
     ]
    },
    {
     "data": {
      "image/png": "[encoded data removed]",
      "text/plain": [
       "<Figure size 432x288 with 2 Axes>"
      ]
     },
     "metadata": {
      "needs_background": "light"
     },
     "output_type": "display_data"
    },
    {
     "name": "stdout",
     "output_type": "stream",
     "text": [
      "scores:  [0.58490566 0.37735849 0.45283019 0.56603774 0.56603774]\n"
     ]
    }
   ],
   "source": []
  },
  {
   "cell_type": "code",
   "execution_count": 85,
   "id": "27464dc3-4230-4e42-a9cf-422e263e2fbd",
   "metadata": {
    "tags": []
   },
   "outputs": [],
   "source": []
  },
  {
   "cell_type": "code",
   "execution_count": 161,
   "id": "a2d21125-5597-4eb6-9414-62765663908c",
   "metadata": {},
   "outputs": [],
   "source": [
    "#bagging technique\n",
    "\n",
    "balbag = BalancedBaggingClassifier(base_estimator = forest, n_estimators = 500, bootstrap = False,  bootstrap_features= True,\n",
    "                                  sampling_strategy = strategy, replacement = False, n_jobs = -1, random_state = 5)\n",
    "model_full_sample = balbag.fit(X_train, y_train)"
   ]
  },
  {
   "cell_type": "code",
   "execution_count": 162,
   "id": "3609c4e5-eb01-4a61-b343-60db4e191dc7",
   "metadata": {},
   "outputs": [
    {
     "name": "stderr",
     "output_type": "stream",
     "text": [
      "/Users/nellekesmits/Documents/projects/notebook.goalpredictor/venv/lib/python3.8/site-packages/joblib/externals/loky/process_executor.py:702: UserWarning: A worker stopped while some jobs were given to the executor. This can be caused by a too short worker timeout or by a memory leak.\n",
      "  warnings.warn(\n"
     ]
    },
    {
     "name": "stdout",
     "output_type": "stream",
     "text": [
      "Forest -- Accuracy:0.795 / Precision:0.018 / Recall:0.243 / F1:0.034 / ROC:0.523 \n"
     ]
    },
    {
     "name": "stderr",
     "output_type": "stream",
     "text": [
      "/Users/nellekesmits/Documents/projects/notebook.goalpredictor/venv/lib/python3.8/site-packages/sklearn/utils/deprecation.py:87: FutureWarning: Function plot_roc_curve is deprecated; Function :func:`plot_roc_curve` is deprecated in 1.0 and will be removed in 1.2. Use one of the class methods: :meth:`sklearn.metric.RocCurveDisplay.from_predictions` or :meth:`sklearn.metric.RocCurveDisplay.from_estimator`.\n",
      "  warnings.warn(msg, category=FutureWarning)\n",
      "/Users/nellekesmits/Documents/projects/notebook.goalpredictor/venv/lib/python3.8/site-packages/sklearn/utils/deprecation.py:87: FutureWarning: Function plot_roc_curve is deprecated; Function :func:`plot_roc_curve` is deprecated in 1.0 and will be removed in 1.2. Use one of the class methods: :meth:`sklearn.metric.RocCurveDisplay.from_predictions` or :meth:`sklearn.metric.RocCurveDisplay.from_estimator`.\n",
      "  warnings.warn(msg, category=FutureWarning)\n"
     ]
    },
    {
     "data": {
      "image/png": "[encoded data removed]",
      "text/plain": [
       "<Figure size 432x288 with 1 Axes>"
      ]
     },
     "metadata": {
      "needs_background": "light"
     },
     "output_type": "display_data"
    }
   ],
   "source": [
    "evaluate_model('Forest', model_full_sample, X_test, y_test)\n",
    "\n",
    "rfc_single_disp = plot_roc_curve(model1, X_test, y_test)\n",
    "rfc_disp = plot_roc_curve(model_full_sample, X_test, y_test, ax=rfc_single_disp.ax_)\n",
    "rfc_disp.figure_.suptitle(\"ROC curve comparison\")\n",
    "plt.show()"
   ]
  },
  {
   "cell_type": "code",
   "execution_count": 163,
   "id": "8ef0d774-68a8-4c88-83d2-d4b73a92d3e0",
   "metadata": {},
   "outputs": [
    {
     "name": "stderr",
     "output_type": "stream",
     "text": [
      "/Users/nellekesmits/Documents/projects/notebook.goalpredictor/venv/lib/python3.8/site-packages/sklearn/utils/deprecation.py:87: FutureWarning: Function plot_confusion_matrix is deprecated; Function `plot_confusion_matrix` is deprecated in 1.0 and will be removed in 1.2. Use one of the class methods: ConfusionMatrixDisplay.from_predictions or ConfusionMatrixDisplay.from_estimator.\n",
      "  warnings.warn(msg, category=FutureWarning)\n"
     ]
    },
    {
     "data": {
      "image/png": "[encoded data removed]",
      "text/plain": [
       "<Figure size 432x288 with 2 Axes>"
      ]
     },
     "metadata": {
      "needs_background": "light"
     },
     "output_type": "display_data"
    }
   ],
   "source": [
    "plot_confusion_matrix(model_full_sample, X_test, y_test)  \n",
    "plt.show()"
   ]
  },
  {
   "cell_type": "code",
   "execution_count": null,
   "id": "b39df45e-be15-4192-ac9d-8642c8800e41",
   "metadata": {},
   "outputs": [],
   "source": [
    "# one class classifier"
   ]
  },
  {
   "cell_type": "code",
   "execution_count": null,
   "id": "a41054f8-9bea-4ecf-ab2d-c9ae684f4004",
   "metadata": {},
   "outputs": [],
   "source": []
  },
  {
   "cell_type": "code",
   "execution_count": null,
   "id": "bed270f0-d7e5-4367-a52e-6220f6029bd2",
   "metadata": {},
   "outputs": [],
   "source": []
  },
  {
   "cell_type": "code",
   "execution_count": null,
   "id": "2573603a-f72e-4aef-b480-5b01511cf246",
   "metadata": {},
   "outputs": [],
   "source": [
    "# mod.fit(X_train_rus, y_train_rus)\n",
    "# plot_confusion_matrix(mod, X_test, y_test)  \n",
    "# plt.show()\n",
    "\n",
    "# scores = cross_val_score(mod, X_train_rus, y_train_rus, cv=5)\n",
    "# print('scores: ',scores)\n",
    "\n",
    "# mod.fit(X_train_ros, y_train_ros)\n",
    "# plot_confusion_matrix(mod, X_test, y_test)  \n",
    "# plt.show()\n",
    "\n",
    "# scores = cross_val_score(mod, X_train_ros, y_train_ros, cv=5)\n",
    "# print('scores: ',scores)\n",
    "\n",
    "# mod.fit(X_train_smote, y_train_smote)\n",
    "# plot_confusion_matrix(mod, X_test, y_test)  \n",
    "# plt.show()\n",
    "\n",
    "# scores = cross_val_score(mod, X_train_smote, y_train_smote, cv=5)\n",
    "# print('scores: ',scores)\n",
    "\n",
    "# forest = RandomForestClassifier(random_state=5, criterion = 'entropy', n_jobs = -1)\n",
    "# model1 = forest.fit(X_train,y_train)\n",
    "# plot_confusion_matrix(model1, X_test, y_test)  \n",
    "# plt.show()\n",
    "\n",
    "# scores = cross_val_score(model1, X_train, y_train, cv=5)\n",
    "# print('scores: ',scores)"
   ]
  }
 ],
 "metadata": {
  "interpreter": {
   "hash": "7e1998ff7f8aa20ada591c520b972326324e5ea05489af9e422744c7c09f6dad"
  },
  "kernelspec": {
   "display_name": "Python 3 (ipykernel)",
   "language": "python",
   "name": "python3"
  },
  "language_info": {
   "codemirror_mode": {
    "name": "ipython",
    "version": 3
   },
   "file_extension": ".py",
   "mimetype": "text/x-python",
   "name": "python",
   "nbconvert_exporter": "python",
   "pygments_lexer": "ipython3",
   "version": "3.8.6"
  }
 },
 "nbformat": 4,
 "nbformat_minor": 5
}
