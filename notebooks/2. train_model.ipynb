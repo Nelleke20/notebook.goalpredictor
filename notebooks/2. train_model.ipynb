{
 "cells": [
  {
   "cell_type": "markdown",
   "id": "2b7d4ebd-e183-40ff-bd5a-fc9c8e7bec08",
   "metadata": {
    "tags": []
   },
   "source": [
    "### predict the chances for a goal in the next minute"
   ]
  },
  {
   "cell_type": "code",
   "execution_count": 55,
   "id": "d0f45c20-8b48-42e3-a8f1-89a315025653",
   "metadata": {},
   "outputs": [],
   "source": [
    "# cd "
   ]
  },
  {
   "cell_type": "code",
   "execution_count": 56,
   "id": "13b2491c-33a0-4e0f-8b51-3cd5d3de1ee7",
   "metadata": {},
   "outputs": [],
   "source": [
    "# to do:\n",
    "# check anomaly detection model; how does it work and can it work here?\n",
    "# what are the conclusions? seperate and define how each sampling and/or model works (# read smoteENN functioning)"
   ]
  },
  {
   "cell_type": "code",
   "execution_count": 57,
   "id": "5205f601-66c2-42af-a8b7-2d1b4e250825",
   "metadata": {},
   "outputs": [],
   "source": [
    "import warnings\n",
    "warnings.filterwarnings('ignore')"
   ]
  },
  {
   "cell_type": "code",
   "execution_count": 58,
   "id": "1a8e0e8d-43da-4011-9177-39cde3529e20",
   "metadata": {},
   "outputs": [],
   "source": [
    "import pandas as pd\n",
    "import matplotlib.pyplot as plt\n",
    "import numpy as np\n",
    "import seaborn as sns\n",
    "from statsbombpy import sb\n",
    "import notebooks.utils as utils\n",
    "import SoccermaticsForPython.FCPython as sfp_fcp\n",
    "import SoccermaticsForPython as sfp\n",
    "from sklearn.model_selection import train_test_split\n",
    "from sklearn.metrics import plot_roc_curve\n",
    "import matplotlib.pyplot as plt\n",
    "\n",
    "pd.set_option('display.max_columns', None)"
   ]
  },
  {
   "cell_type": "code",
   "execution_count": 59,
   "id": "8d93fac7-037c-4039-a322-15d32e0f7090",
   "metadata": {},
   "outputs": [],
   "source": [
    "from sklearn.pipeline import make_pipeline\n",
    "from sklearn.preprocessing import StandardScaler\n",
    "from sklearn.model_selection import cross_val_score\n",
    "from sklearn.model_selection import cross_val_predict\n",
    "from sklearn.metrics import confusion_matrix\n",
    "from sklearn.metrics import plot_confusion_matrix\n",
    "from sklearn.linear_model import LogisticRegression\n",
    "from imblearn.under_sampling import RandomUnderSampler\n",
    "from imblearn.over_sampling import RandomOverSampler\n",
    "from imblearn.over_sampling import SMOTE\n",
    "from imblearn.combine import SMOTEENN \n",
    "from sklearn.svm import SVC\n",
    "from sklearn.svm import LinearSVC\n",
    "from sklearn.ensemble import RandomForestClassifier\n",
    "from imblearn.ensemble import BalancedRandomForestClassifier\n",
    "from imblearn.ensemble import BalancedBaggingClassifier\n"
   ]
  },
  {
   "cell_type": "markdown",
   "id": "8b185138-d558-40dc-bc19-94d862f46927",
   "metadata": {
    "tags": []
   },
   "source": [
    "#### import dataset"
   ]
  },
  {
   "cell_type": "code",
   "execution_count": 60,
   "id": "ba734c3b-01e5-49c6-8af7-8b869c8519a7",
   "metadata": {},
   "outputs": [],
   "source": [
    "df = pd.read_csv('data/train_dataset.csv', index_col=0)\n",
    "df.set_index('uniekid', inplace=True)"
   ]
  },
  {
   "cell_type": "code",
   "execution_count": 61,
   "id": "258b2b75-6163-48af-bddc-20f6fcd57faa",
   "metadata": {},
   "outputs": [
    {
     "data": {
      "text/html": [
       "<div>\n",
       "<style scoped>\n",
       "    .dataframe tbody tr th:only-of-type {\n",
       "        vertical-align: middle;\n",
       "    }\n",
       "\n",
       "    .dataframe tbody tr th {\n",
       "        vertical-align: top;\n",
       "    }\n",
       "\n",
       "    .dataframe thead th {\n",
       "        text-align: right;\n",
       "    }\n",
       "</style>\n",
       "<table border=\"1\" class=\"dataframe\">\n",
       "  <thead>\n",
       "    <tr style=\"text-align: right;\">\n",
       "      <th></th>\n",
       "      <th>goal</th>\n",
       "      <th>competition_stage_Final</th>\n",
       "      <th>competition_stage_Group Stage</th>\n",
       "      <th>competition_stage_Quarter-finals</th>\n",
       "      <th>competition_stage_Round of 16</th>\n",
       "      <th>competition_stage_Semi-finals</th>\n",
       "      <th>under_pressure</th>\n",
       "      <th>aanvallende_helft</th>\n",
       "      <th>aanvallend_kwart</th>\n",
       "      <th>in_de_16</th>\n",
       "      <th>possession_team_Austria</th>\n",
       "      <th>possession_team_Belgium</th>\n",
       "      <th>possession_team_Croatia</th>\n",
       "      <th>possession_team_Czech Republic</th>\n",
       "      <th>possession_team_Denmark</th>\n",
       "      <th>possession_team_England</th>\n",
       "      <th>possession_team_Finland</th>\n",
       "      <th>possession_team_France</th>\n",
       "      <th>possession_team_Germany</th>\n",
       "      <th>possession_team_Hungary</th>\n",
       "      <th>possession_team_Italy</th>\n",
       "      <th>possession_team_Netherlands</th>\n",
       "      <th>possession_team_North Macedonia</th>\n",
       "      <th>possession_team_Poland</th>\n",
       "      <th>possession_team_Portugal</th>\n",
       "      <th>possession_team_Russia</th>\n",
       "      <th>possession_team_Scotland</th>\n",
       "      <th>possession_team_Slovakia</th>\n",
       "      <th>possession_team_Spain</th>\n",
       "      <th>possession_team_Sweden</th>\n",
       "      <th>possession_team_Switzerland</th>\n",
       "      <th>possession_team_Turkey</th>\n",
       "      <th>possession_team_Ukraine</th>\n",
       "      <th>possession_team_Wales</th>\n",
       "      <th>player_Aaron Ramsey</th>\n",
       "      <th>player_Adam Hložek</th>\n",
       "      <th>player_Adama Traoré Diarra</th>\n",
       "      <th>player_Admir Mehmedi</th>\n",
       "      <th>player_Adrien Rabiot</th>\n",
       "      <th>player_Albin Ekdal</th>\n",
       "      <th>player_Aleksandar Dragović</th>\n",
       "      <th>player_Aleksandar Trajkovski</th>\n",
       "      <th>player_Aleksandr Golovin</th>\n",
       "      <th>player_Aleksandr Sobolev</th>\n",
       "      <th>player_Aleksey Miranchuk</th>\n",
       "      <th>player_Alessandro Bastoni</th>\n",
       "      <th>player_Alessandro Florenzi</th>\n",
       "      <th>player_Alessandro Schöpf</th>\n",
       "      <th>player_Alex Král</th>\n",
       "      <th>player_Alexander Isak</th>\n",
       "      <th>player_Andrea Belotti</th>\n",
       "      <th>player_Andreas Christensen</th>\n",
       "      <th>player_Andreas Evald Cornelius</th>\n",
       "      <th>player_Andreas Skov Olsen</th>\n",
       "      <th>player_Andreas Ulmer</th>\n",
       "      <th>player_Andrej Kramarić</th>\n",
       "      <th>player_Andrew Robertson</th>\n",
       "      <th>player_Andrey Semenov</th>\n",
       "      <th>player_Andriy Yarmolenko</th>\n",
       "      <th>player_András Schäfer</th>\n",
       "      <th>player_André Miguel Valente Silva</th>\n",
       "      <th>player_Anga Dedryck Boyata</th>\n",
       "      <th>player_Ante Budimir</th>\n",
       "      <th>player_Ante Rebić</th>\n",
       "      <th>player_Antoine Griezmann</th>\n",
       "      <th>player_Anton Shunin</th>\n",
       "      <th>player_Antonio Rüdiger</th>\n",
       "      <th>player_Antonín Barák</th>\n",
       "      <th>player_Arijan Ademi</th>\n",
       "      <th>player_Artem Besedin</th>\n",
       "      <th>player_Artem Dovbyk</th>\n",
       "      <th>player_Artem Dzyuba</th>\n",
       "      <th>player_Attila Fiola</th>\n",
       "      <th>player_Attila Szalai</th>\n",
       "      <th>player_Axel Witsel</th>\n",
       "      <th>player_Aymeric Laporte</th>\n",
       "      <th>player_Bartosz Bereszyński</th>\n",
       "      <th>player_Ben Davies</th>\n",
       "      <th>player_Benjamin Pavard</th>\n",
       "      <th>player_Bernardo Mota Veiga de Carvalho e Silva</th>\n",
       "      <th>player_Billy Gilmour</th>\n",
       "      <th>player_Boban Nikolov</th>\n",
       "      <th>player_Borna Barišić</th>\n",
       "      <th>player_Breel-Donald Embolo</th>\n",
       "      <th>player_Bruno Miguel Borges Fernandes</th>\n",
       "      <th>player_Bruno Petković</th>\n",
       "      <th>player_Bryan Cristante</th>\n",
       "      <th>player_Bukayo Saka</th>\n",
       "      <th>player_Burak Yılmaz</th>\n",
       "      <th>player_Caglar Söyüncü</th>\n",
       "      <th>player_Callum William McGregor</th>\n",
       "      <th>player_Cengiz Umut Meraş</th>\n",
       "      <th>player_Cengiz Ünder</th>\n",
       "      <th>player_Che Adams</th>\n",
       "      <th>player_Chris Gunter</th>\n",
       "      <th>player_Christian Benteke Liolo</th>\n",
       "      <th>player_Christian Dannemann Eriksen</th>\n",
       "      <th>player_Christian Fassnacht</th>\n",
       "      <th>player_Christian Nørgaard</th>\n",
       "      <th>player_Christoph Baumgartner</th>\n",
       "      <th>player_Christopher James Mepham</th>\n",
       "      <th>player_Christopher Trimmel</th>\n",
       "      <th>player_Ciro Immobile</th>\n",
       "      <th>player_Clément Lenglet</th>\n",
       "      <th>player_Cody Mathès Gakpo</th>\n",
       "      <th>player_Connor Roberts</th>\n",
       "      <th>player_Corentin Tolisso</th>\n",
       "      <th>player_Cristiano Ronaldo dos Santos Aveiro</th>\n",
       "      <th>player_César Azpilicueta Tanco</th>\n",
       "      <th>player_Daler Kuzyaev</th>\n",
       "      <th>player_Daley Blind</th>\n",
       "      <th>player_Daniel Avramovski</th>\n",
       "      <th>player_Daniel Bachmann</th>\n",
       "      <th>player_Daniel James</th>\n",
       "      <th>player_Daniel O\"Shaughnessy</th>\n",
       "      <th>player_Daniel Olmo Carvajal</th>\n",
       "      <th>player_Daniel Wass</th>\n",
       "      <th>player_Danilo Luís Hélio Pereira</th>\n",
       "      <th>player_Danny Ward</th>\n",
       "      <th>player_Darko Churlinov</th>\n",
       "      <th>player_Darko Velkovski</th>\n",
       "      <th>player_David Brooks</th>\n",
       "      <th>player_David Marshall</th>\n",
       "      <th>player_David Olatukunbo Alaba</th>\n",
       "      <th>player_David Siger</th>\n",
       "      <th>player_Declan Rice</th>\n",
       "      <th>player_Dejan Kulusevski</th>\n",
       "      <th>player_Dejan Lovren</th>\n",
       "      <th>player_Denis Cheryshev</th>\n",
       "      <th>player_Denis Lemi Zakaria Lako Lado</th>\n",
       "      <th>player_Dennis Praet</th>\n",
       "      <th>player_Denzel Dumfries</th>\n",
       "      <th>player_Diogo José Teixeira da Silva</th>\n",
       "      <th>player_Djibril Sow</th>\n",
       "      <th>player_Dmitriy Barinov</th>\n",
       "      <th>player_Domagoj Vida</th>\n",
       "      <th>player_Domenico Berardi</th>\n",
       "      <th>player_Dominic Calvert-Lewin</th>\n",
       "      <th>player_Dominik Livaković</th>\n",
       "      <th>player_Donyell Malen</th>\n",
       "      <th>player_Dorukhan Toköz</th>\n",
       "      <th>player_Dries Mertens</th>\n",
       "      <th>player_Duje Ćaleta-Car</th>\n",
       "      <th>player_Dylan Levitt</th>\n",
       "      <th>player_Dávid Hancko</th>\n",
       "      <th>player_Eden Hazard</th>\n",
       "      <th>player_Eduard Sobol</th>\n",
       "      <th>player_Egzon Bejtulai</th>\n",
       "      <th>player_Eljif Elmas</th>\n",
       "      <th>player_Emerson Palmieri dos Santos</th>\n",
       "      <th>player_Emil Krafth</th>\n",
       "      <th>player_Emil Peter Forsberg</th>\n",
       "      <th>player_Emre Can</th>\n",
       "      <th>player_Endre Botka</th>\n",
       "      <th>player_Enis Bardhi</th>\n",
       "      <th>player_Eric García Martret</th>\n",
       "      <th>player_Ethan Ampadu</th>\n",
       "      <th>player_Evgeny Makarenko</th>\n",
       "      <th>player_Ezgjan Alioski</th>\n",
       "      <th>player_Fabian Lukas Schär</th>\n",
       "      <th>player_Fabián Ruiz Peña</th>\n",
       "      <th>player_Federico Bernardeschi</th>\n",
       "      <th>player_Federico Chiesa</th>\n",
       "      <th>player_Fedor Kudryashov</th>\n",
       "      <th>player_Ferhan Hasani</th>\n",
       "      <th>player_Ferrán Torres García</th>\n",
       "      <th>player_Filip Helander</th>\n",
       "      <th>player_Florian Grillitsch</th>\n",
       "      <th>player_Francesco Acerbi</th>\n",
       "      <th>player_Fredrik Jensen</th>\n",
       "      <th>player_Frenkie de Jong</th>\n",
       "      <th>player_Gaetano Castrovilli</th>\n",
       "      <th>player_Gareth Frank Bale</th>\n",
       "      <th>player_Georginio Wijnaldum</th>\n",
       "      <th>player_Georgiy Dzhikiya</th>\n",
       "      <th>player_Gerard Moreno Balaguero</th>\n",
       "      <th>player_Gergő Lovrencsics</th>\n",
       "      <th>player_Giacomo Raspadori</th>\n",
       "      <th>player_Gianluigi Donnarumma</th>\n",
       "      <th>player_Giorgio Chiellini</th>\n",
       "      <th>player_Giovanni Di Lorenzo</th>\n",
       "      <th>player_Glen Kamara</th>\n",
       "      <th>player_Goran Pandev</th>\n",
       "      <th>player_Granit Xhaka</th>\n",
       "      <th>player_Grant Hanley</th>\n",
       "      <th>player_Grzegorz Krychowiak</th>\n",
       "      <th>player_Gustav Svensson</th>\n",
       "      <th>player_Hakan Çalhanoğlu</th>\n",
       "      <th>player_Hans Vanaken</th>\n",
       "      <th>player_Haris Seferović</th>\n",
       "      <th>player_Harry Kane</th>\n",
       "      <th>player_Harry Maguire</th>\n",
       "      <th>player_Harry Wilson</th>\n",
       "      <th>player_Heorhii Bushchan</th>\n",
       "      <th>player_Hugo Lloris</th>\n",
       "      <th>player_Igor Diveev</th>\n",
       "      <th>player_Illia Zabarnyi</th>\n",
       "      <th>player_Ivan Perišić</th>\n",
       "      <th>player_Ivan Trichkovski</th>\n",
       "      <th>player_Jack Grealish</th>\n",
       "      <th>player_Jack Hendry</th>\n",
       "      <th>player_Jadon Sancho</th>\n",
       "      <th>player_Jakub Brabec</th>\n",
       "      <th>player_Jakub Hromada</th>\n",
       "      <th>player_Jakub Jankto</th>\n",
       "      <th>player_Jakub Moder</th>\n",
       "      <th>player_Jakub Świerczok</th>\n",
       "      <th>player_Jamal Musiala</th>\n",
       "      <th>player_James Forrest</th>\n",
       "      <th>player_Jan Bednarek</th>\n",
       "      <th>player_Jan Bořil</th>\n",
       "      <th>player_Jan Vertonghen</th>\n",
       "      <th>player_Jannik Vestergaard</th>\n",
       "      <th>player_Jason Denayer</th>\n",
       "      <th>player_Jens Stryger Larsen</th>\n",
       "      <th>player_Jens-Lys Michel Cajuste</th>\n",
       "      <th>player_Jere Juhani Uronen</th>\n",
       "      <th>player_Jeremy Doku</th>\n",
       "      <th>player_Joachim Andersen</th>\n",
       "      <th>player_Joakim Mæhle</th>\n",
       "      <th>player_Joe Allen</th>\n",
       "      <th>player_Joe Rodon</th>\n",
       "      <th>player_Joel Pohjanpalo</th>\n",
       "      <th>player_John McGinn</th>\n",
       "      <th>player_John Stones</th>\n",
       "      <th>player_Jonas Older Wind</th>\n",
       "      <th>player_Joni Ensio Kauko</th>\n",
       "      <th>player_Joona Toivio</th>\n",
       "      <th>player_Jordan Brian Henderson</th>\n",
       "      <th>player_Jordan Pickford</th>\n",
       "      <th>player_Jordi Alba Ramos</th>\n",
       "      <th>player_Jorge Luiz Frello Filho</th>\n",
       "      <th>player_Jorge Resurrección Merodio</th>\n",
       "      <th>player_Joseff Morrell</th>\n",
       "      <th>player_Joshua Kimmich</th>\n",
       "      <th>player_Josip Brekalo</th>\n",
       "      <th>player_Josip Juranović</th>\n",
       "      <th>player_José Diogo Dalot Teixeira</th>\n",
       "      <th>player_José Luis Gayà Peña</th>\n",
       "      <th>player_João Filipe Iria Santos Moutinho</th>\n",
       "      <th>player_João Félix Sequeira</th>\n",
       "      <th>player_João Maria Lobo Alves Palhinha Gonçalves</th>\n",
       "      <th>player_Joël Veltman</th>\n",
       "      <th>player_Joško Gvardiol</th>\n",
       "      <th>player_Jude Bellingham</th>\n",
       "      <th>player_Jukka Raitala</th>\n",
       "      <th>player_Jules Koundé</th>\n",
       "      <th>player_Julian Baumgartlinger</th>\n",
       "      <th>player_Juraj Kucka</th>\n",
       "      <th>player_Jurriën Maduro</th>\n",
       "      <th>player_Ján Greguš</th>\n",
       "      <th>player_Kaan Ayhan</th>\n",
       "      <th>player_Kacper Kozłowski</th>\n",
       "      <th>player_Kai Havertz</th>\n",
       "      <th>player_Kalvin Phillips</th>\n",
       "      <th>player_Kamil Glik</th>\n",
       "      <th>player_Kamil Jóźwiak</th>\n",
       "      <th>player_Karim Benzema</th>\n",
       "      <th>player_Karim Onisiwo</th>\n",
       "      <th>player_Karol Linetty</th>\n",
       "      <th>player_Karol Świderski</th>\n",
       "      <th>player_Kasper Dolberg</th>\n",
       "      <th>player_Kasper Schmeichel</th>\n",
       "      <th>player_Kenan Karaman</th>\n",
       "      <th>player_Kevin De Bruyne</th>\n",
       "      <th>player_Kevin Mbabu</th>\n",
       "      <th>player_Kevin Nisbet</th>\n",
       "      <th>player_Kevin Varga</th>\n",
       "      <th>player_Kevin Volland</th>\n",
       "      <th>player_Kieffer Roberto Francisco Moore</th>\n",
       "      <th>player_Kieran Tierney</th>\n",
       "      <th>player_Kieran Trippier</th>\n",
       "      <th>player_Kingsley Coman</th>\n",
       "      <th>player_Kire Ristevski</th>\n",
       "      <th>player_Kléper Laveran Lima Ferreira</th>\n",
       "      <th>player_Konrad Laimer</th>\n",
       "      <th>player_Kristoffer Olsson</th>\n",
       "      <th>player_Kyle Walker</th>\n",
       "      <th>player_Kylian Mbappé Lottin</th>\n",
       "      <th>player_Lassi Lappalainen</th>\n",
       "      <th>player_Leander Dendoncker</th>\n",
       "      <th>player_Leandro Trossard</th>\n",
       "      <th>player_Leo Onni Artturi Väisänen</th>\n",
       "      <th>player_Leon Goretzka</th>\n",
       "      <th>player_Leonardo Bonucci</th>\n",
       "      <th>player_Leonardo Spinazzola</th>\n",
       "      <th>player_Leroy Sané</th>\n",
       "      <th>player_Liam Cooper</th>\n",
       "      <th>player_Lorenzo Insigne</th>\n",
       "      <th>player_Loris Benito</th>\n",
       "      <th>player_Louis Schaub</th>\n",
       "      <th>player_Loïc Négo</th>\n",
       "      <th>player_Lucas Digne</th>\n",
       "      <th>player_Lucas Hernández Pi</th>\n",
       "      <th>player_Ludwig Augustinsson</th>\n",
       "      <th>player_Luka Ivanušec</th>\n",
       "      <th>player_Luka Modrić</th>\n",
       "      <th>player_Luke Shaw</th>\n",
       "      <th>player_Lukáš Haraslín</th>\n",
       "      <th>player_Lukáš Hrádecký</th>\n",
       "      <th>player_Lukáš Masopust</th>\n",
       "      <th>player_Luuk de Jong</th>\n",
       "      <th>player_Lyndon Dykes</th>\n",
       "      <th>player_László Bénes</th>\n",
       "      <th>player_László Kleinheisler</th>\n",
       "      <th>player_Maarten Stekelenburg</th>\n",
       "      <th>player_Maciej Rybus</th>\n",
       "      <th>player_Magomed Ozdoev</th>\n",
       "      <th>player_Maksim Mukhin</th>\n",
       "      <th>player_Manuel Locatelli</th>\n",
       "      <th>player_Manuel Neuer</th>\n",
       "      <th>player_Manuel Obafemi Akanji</th>\n",
       "      <th>player_Marcel Halstenberg</th>\n",
       "      <th>player_Marcel Sabitzer</th>\n",
       "      <th>player_Marcelo Brozović</th>\n",
       "      <th>player_Marco Verratti</th>\n",
       "      <th>player_Marcos Llorente Moreno</th>\n",
       "      <th>player_Marcus Andreas Danielsson</th>\n",
       "      <th>player_Marcus Berg</th>\n",
       "      <th>player_Marcus Forss</th>\n",
       "      <th>player_Marcus Rashford</th>\n",
       "      <th>player_Marcus Thuram</th>\n",
       "      <th>player_Marek Hamšík</th>\n",
       "      <th>player_Mario Gavranović</th>\n",
       "      <th>player_Mario Pašalić</th>\n",
       "      <th>player_Marko Arnautović</th>\n",
       "      <th>player_Marlos Romero Bonfim</th>\n",
       "      <th>player_Marten de Roon</th>\n",
       "      <th>player_Martin Braithwaite Christensen</th>\n",
       "      <th>player_Martin Dúbravka</th>\n",
       "      <th>player_Martin Hinteregger</th>\n",
       "      <th>player_Martin Koscelník</th>\n",
       "      <th>player_Mason Mount</th>\n",
       "      <th>player_Mateo Kovačić</th>\n",
       "      <th>player_Mateusz Andrzej Klich</th>\n",
       "      <th>player_Mathias Jensen</th>\n",
       "      <th>player_Mats Hummels</th>\n",
       "      <th>player_Matteo Pessina</th>\n",
       "      <th>player_Matthias Ginter</th>\n",
       "      <th>player_Matthijs de Ligt</th>\n",
       "      <th>player_Matvey Safonov</th>\n",
       "      <th>player_Matěj Vydra</th>\n",
       "      <th>player_Mehmet Zeki Çelik</th>\n",
       "      <th>player_Memphis Depay</th>\n",
       "      <th>player_Merih Demiral</th>\n",
       "      <th>player_Mert Müldür</th>\n",
       "      <th>player_Michael Gregoritsch</th>\n",
       "      <th>player_Michael Krmenčík</th>\n",
       "      <th>player_Michal Sadílek</th>\n",
       "      <th>player_Michal Ďuriš</th>\n",
       "      <th>player_Michy Batshuayi Tunga</th>\n",
       "      <th>player_Mikael Lustig</th>\n",
       "      <th>player_Mikel Oyarzabal Ugarte</th>\n",
       "      <th>player_Mikkel Damsgaard</th>\n",
       "      <th>player_Milan Ristovski</th>\n",
       "      <th>player_Milan Škriniar</th>\n",
       "      <th>player_Mislav Oršić</th>\n",
       "      <th>player_Moussa Sissoko</th>\n",
       "      <th>player_Mykola Matviyenko</th>\n",
       "      <th>player_Mykola Shaparenko</th>\n",
       "      <th>player_Mário Figueira Fernandes</th>\n",
       "      <th>player_N''Golo Kanté</th>\n",
       "      <th>player_Nacer Chadli</th>\n",
       "      <th>player_Nathan Aké</th>\n",
       "      <th>player_Nathan Patterson</th>\n",
       "      <th>player_Neco Williams</th>\n",
       "      <th>player_Nemanja Nikolić</th>\n",
       "      <th>player_Nico Elvedi</th>\n",
       "      <th>player_Nicolai Møller Boilesen</th>\n",
       "      <th>player_Nicolò Barella</th>\n",
       "      <th>player_Niklas Süle</th>\n",
       "      <th>player_Nikola Vlašić</th>\n",
       "      <th>player_Nikolai Alho</th>\n",
       "      <th>player_Nélson Cabral Semedo</th>\n",
       "      <th>player_Okay Yokuşlu</th>\n",
       "      <th>player_Oleksandr Karavaev</th>\n",
       "      <th>player_Oleksandr Zinchenko</th>\n",
       "      <th>player_Oleksandr Zubkov</th>\n",
       "      <th>player_Olivier Giroud</th>\n",
       "      <th>player_Ondrej Celustka</th>\n",
       "      <th>player_Ondrej Duda</th>\n",
       "      <th>player_Orkun Kökçü</th>\n",
       "      <th>player_Ousmane Dembélé</th>\n",
       "      <th>player_Owen Wijndal</th>\n",
       "      <th>player_Ozan Tufan</th>\n",
       "      <th>player_Pablo Sarabia García</th>\n",
       "      <th>player_Patrick van Aanholt</th>\n",
       "      <th>player_Patrik Hrošovský</th>\n",
       "      <th>player_Patrik Schick</th>\n",
       "      <th>player_Pau Francisco Torres</th>\n",
       "      <th>player_Paul Pogba</th>\n",
       "      <th>player_Paulus Arajuuri</th>\n",
       "      <th>player_Pavel Kadeřábek</th>\n",
       "      <th>player_Paweł Dawidowicz</th>\n",
       "      <th>player_Pedro González López</th>\n",
       "      <th>player_Peter Pekarík</th>\n",
       "      <th>player_Petr Ševčík</th>\n",
       "      <th>player_Philip Foden</th>\n",
       "      <th>player_Philipp Lienhart</th>\n",
       "      <th>player_Pierre Bengtsson</th>\n",
       "      <th>player_Pierre-Emile Højbjerg</th>\n",
       "      <th>player_Piotr Zieliński</th>\n",
       "      <th>player_Presnel Kimpembe</th>\n",
       "      <th>player_Przemysław Frankowski</th>\n",
       "      <th>player_Przemysław Płacheta</th>\n",
       "      <th>player_Pyry Henri Hidipo Soiri</th>\n",
       "      <th>player_Péter Gulácsi</th>\n",
       "      <th>player_Quincy Anton Promes</th>\n",
       "      <th>player_Rafael Alexandre Fernandes Ferreira da Silva</th>\n",
       "      <th>player_Rafael Tolói</th>\n",
       "      <th>player_Raheem Sterling</th>\n",
       "      <th>player_Raphaël Adelino José Guerreiro</th>\n",
       "      <th>player_Raphaël Varane</th>\n",
       "      <th>player_Rasmus Schüller</th>\n",
       "      <th>player_Reece James</th>\n",
       "      <th>player_Remo Freuler</th>\n",
       "      <th>player_Renato Júnior Luz Sanches</th>\n",
       "      <th>player_Ricardo Iván Rodríguez Araya</th>\n",
       "      <th>player_Rifat Zhemaletdinov</th>\n",
       "      <th>player_Robert Lewandowski</th>\n",
       "      <th>player_Robin Gosens</th>\n",
       "      <th>player_Robin Lod</th>\n",
       "      <th>player_Robin Olsen</th>\n",
       "      <th>player_Robin Quaison</th>\n",
       "      <th>player_Rodrigo Hernández Cascante</th>\n",
       "      <th>player_Roland Sallai</th>\n",
       "      <th>player_Roland Varga</th>\n",
       "      <th>player_Roman Bezus</th>\n",
       "      <th>player_Roman Yaremchuk</th>\n",
       "      <th>player_Roman Zobnin</th>\n",
       "      <th>player_Romelu Lukaku Menama</th>\n",
       "      <th>player_Ruben Vargas</th>\n",
       "      <th>player_Rui Pedro dos Santos Patrício</th>\n",
       "      <th>player_Ruslan Malinovskiy</th>\n",
       "      <th>player_Ryan Christie</th>\n",
       "      <th>player_Ryan Fraser</th>\n",
       "      <th>player_Ryan Gravenberch</th>\n",
       "      <th>player_Róbert Mak</th>\n",
       "      <th>player_Rúben Diogo Da Silva Neves</th>\n",
       "      <th>player_Rúben Santos Gato Alves Dias</th>\n",
       "      <th>player_Salvatore Sirigu</th>\n",
       "      <th>player_Sasa Kalajdzic</th>\n",
       "      <th>player_Scott McKenna</th>\n",
       "      <th>player_Scott McTominay</th>\n",
       "      <th>player_Sebastian Larsson</th>\n",
       "      <th>player_Serge Gnabry</th>\n",
       "      <th>player_Sergey Krivtsov</th>\n",
       "      <th>player_Sergio Busquets i Burgos</th>\n",
       "      <th>player_Serhii Sydorchuk</th>\n",
       "      <th>player_Silvan Widmer</th>\n",
       "      <th>player_Simon Thorup Kjær</th>\n",
       "      <th>player_Stanislav Lobotka</th>\n",
       "      <th>player_Stefan Ilsanker</th>\n",
       "      <th>player_Stefan Lainer</th>\n",
       "      <th>player_Stefan Ristovski</th>\n",
       "      <th>player_Stefan Spirovski</th>\n",
       "      <th>player_Stefan de Vrij</th>\n",
       "      <th>player_Stephen O\"Donnell</th>\n",
       "      <th>player_Steven Berghuis</th>\n",
       "      <th>player_Steven Zuber</th>\n",
       "      <th>player_Stole Dimitrievski</th>\n",
       "      <th>player_Stuart Armstrong</th>\n",
       "      <th>player_Szabolcs Schön</th>\n",
       "      <th>player_Sérgio Miguel Relvas de Oliveira</th>\n",
       "      <th>player_Tamás Cseri</th>\n",
       "      <th>player_Taras Stepanenko</th>\n",
       "      <th>player_Teemu Pukki</th>\n",
       "      <th>player_Thiago Alcântara do Nascimento</th>\n",
       "      <th>player_Thibaut Courtois</th>\n",
       "      <th>player_Thomas Delaney</th>\n",
       "      <th>player_Thomas Lemar</th>\n",
       "      <th>player_Thomas Meunier</th>\n",
       "      <th>player_Thomas Müller</th>\n",
       "      <th>player_Thomas Vermaelen</th>\n",
       "      <th>player_Thorgan Hazard</th>\n",
       "      <th>player_Tihomir Kostadinov</th>\n",
       "      <th>player_Tim Sparv</th>\n",
       "      <th>player_Timo Werner</th>\n",
       "      <th>player_Timothy Castagne</th>\n",
       "      <th>player_Toby Alderweireld</th>\n",
       "      <th>player_Tomáš Holeš</th>\n",
       "      <th>player_Tomáš Hubočan</th>\n",
       "      <th>player_Tomáš Kalas</th>\n",
       "      <th>player_Tomáš Pekhart</th>\n",
       "      <th>player_Tomáš Souček</th>\n",
       "      <th>player_Tomáš Suslov</th>\n",
       "      <th>player_Tomáš Vaclík</th>\n",
       "      <th>player_Toni Kroos</th>\n",
       "      <th>player_Tyler Roberts</th>\n",
       "      <th>player_Tymoteusz Puchacz</th>\n",
       "      <th>player_Tyrone Mings</th>\n",
       "      <th>player_Unai Simón Mendibil</th>\n",
       "      <th>player_Uğurcan Çakır</th>\n",
       "      <th>player_Valentino Lazaro</th>\n",
       "      <th>player_Victor Nilsson Lindelöf</th>\n",
       "      <th>player_Viktor Claesson</th>\n",
       "      <th>player_Viktor Tsygankov</th>\n",
       "      <th>player_Visar Musliu</th>\n",
       "      <th>player_Vitalii Mykolenko</th>\n",
       "      <th>player_Vladimír Coufal</th>\n",
       "      <th>player_Vladimír Darida</th>\n",
       "      <th>player_Vladimír Weiss</th>\n",
       "      <th>player_Vlatko Stojanovski</th>\n",
       "      <th>player_Vyacheslav Karavaev</th>\n",
       "      <th>player_Willi Orban</th>\n",
       "      <th>player_William Silva de Carvalho</th>\n",
       "      <th>player_Wojciech Szczęsny</th>\n",
       "      <th>player_Wout Weghorst</th>\n",
       "      <th>player_Xaver Schlager</th>\n",
       "      <th>player_Xherdan Shaqiri</th>\n",
       "      <th>player_Yann Sommer</th>\n",
       "      <th>player_Yannick Ferreira Carrasco</th>\n",
       "      <th>player_Youri Tielemans</th>\n",
       "      <th>player_Yuri Zhirkov</th>\n",
       "      <th>player_Yussuf Yurary Poulsen</th>\n",
       "      <th>player_Yusuf Yazıcı</th>\n",
       "      <th>player_Ádám Nagy</th>\n",
       "      <th>player_Ádám Szalai</th>\n",
       "      <th>player_Álvaro Borja Morata Martín</th>\n",
       "      <th>player_İbrahim Halil Dervişoğlu</th>\n",
       "      <th>player_İlkay Gündoğan</th>\n",
       "      <th>player_İrfan Can Kahveci</th>\n",
       "      <th>player_Ľubomír Šatka</th>\n",
       "      <th>player_Šime Vrsaljko</th>\n",
       "      <th>position_Center Attacking Midfield</th>\n",
       "      <th>position_Center Back</th>\n",
       "      <th>position_Center Defensive Midfield</th>\n",
       "      <th>position_Center Forward</th>\n",
       "      <th>position_Goalkeeper</th>\n",
       "      <th>position_Left Attacking Midfield</th>\n",
       "      <th>position_Left Back</th>\n",
       "      <th>position_Left Center Back</th>\n",
       "      <th>position_Left Center Forward</th>\n",
       "      <th>position_Left Center Midfield</th>\n",
       "      <th>position_Left Defensive Midfield</th>\n",
       "      <th>position_Left Midfield</th>\n",
       "      <th>position_Left Wing</th>\n",
       "      <th>position_Left Wing Back</th>\n",
       "      <th>position_Right Attacking Midfield</th>\n",
       "      <th>position_Right Back</th>\n",
       "      <th>position_Right Center Back</th>\n",
       "      <th>position_Right Center Forward</th>\n",
       "      <th>position_Right Center Midfield</th>\n",
       "      <th>position_Right Defensive Midfield</th>\n",
       "      <th>position_Right Midfield</th>\n",
       "      <th>position_Right Wing</th>\n",
       "      <th>position_Right Wing Back</th>\n",
       "      <th>play_pattern_From Corner</th>\n",
       "      <th>play_pattern_From Counter</th>\n",
       "      <th>play_pattern_From Free Kick</th>\n",
       "      <th>play_pattern_From Goal Kick</th>\n",
       "      <th>play_pattern_From Keeper</th>\n",
       "      <th>play_pattern_From Kick Off</th>\n",
       "      <th>play_pattern_From Throw In</th>\n",
       "      <th>play_pattern_Other</th>\n",
       "      <th>play_pattern_Regular Play</th>\n",
       "      <th>type_50/50</th>\n",
       "      <th>type_Ball Receipt*</th>\n",
       "      <th>type_Ball Recovery</th>\n",
       "      <th>type_Block</th>\n",
       "      <th>type_Carry</th>\n",
       "      <th>type_Clearance</th>\n",
       "      <th>type_Dispossessed</th>\n",
       "      <th>type_Dribble</th>\n",
       "      <th>type_Dribbled Past</th>\n",
       "      <th>type_Duel</th>\n",
       "      <th>type_Error</th>\n",
       "      <th>type_Foul Committed</th>\n",
       "      <th>type_Foul Won</th>\n",
       "      <th>type_Goal Keeper</th>\n",
       "      <th>type_Interception</th>\n",
       "      <th>type_Miscontrol</th>\n",
       "      <th>type_Offside</th>\n",
       "      <th>type_Own Goal Against</th>\n",
       "      <th>type_Own Goal For</th>\n",
       "      <th>type_Pass</th>\n",
       "      <th>type_Pressure</th>\n",
       "      <th>type_Referee Ball-Drop</th>\n",
       "      <th>type_Shield</th>\n",
       "      <th>type_Shot</th>\n",
       "    </tr>\n",
       "    <tr>\n",
       "      <th>uniekid</th>\n",
       "      <th></th>\n",
       "      <th></th>\n",
       "      <th></th>\n",
       "      <th></th>\n",
       "      <th></th>\n",
       "      <th></th>\n",
       "      <th></th>\n",
       "      <th></th>\n",
       "      <th></th>\n",
       "      <th></th>\n",
       "      <th></th>\n",
       "      <th></th>\n",
       "      <th></th>\n",
       "      <th></th>\n",
       "      <th></th>\n",
       "      <th></th>\n",
       "      <th></th>\n",
       "      <th></th>\n",
       "      <th></th>\n",
       "      <th></th>\n",
       "      <th></th>\n",
       "      <th></th>\n",
       "      <th></th>\n",
       "      <th></th>\n",
       "      <th></th>\n",
       "      <th></th>\n",
       "      <th></th>\n",
       "      <th></th>\n",
       "      <th></th>\n",
       "      <th></th>\n",
       "      <th></th>\n",
       "      <th></th>\n",
       "      <th></th>\n",
       "      <th></th>\n",
       "      <th></th>\n",
       "      <th></th>\n",
       "      <th></th>\n",
       "      <th></th>\n",
       "      <th></th>\n",
       "      <th></th>\n",
       "      <th></th>\n",
       "      <th></th>\n",
       "      <th></th>\n",
       "      <th></th>\n",
       "      <th></th>\n",
       "      <th></th>\n",
       "      <th></th>\n",
       "      <th></th>\n",
       "      <th></th>\n",
       "      <th></th>\n",
       "      <th></th>\n",
       "      <th></th>\n",
       "      <th></th>\n",
       "      <th></th>\n",
       "      <th></th>\n",
       "      <th></th>\n",
       "      <th></th>\n",
       "      <th></th>\n",
       "      <th></th>\n",
       "      <th></th>\n",
       "      <th></th>\n",
       "      <th></th>\n",
       "      <th></th>\n",
       "      <th></th>\n",
       "      <th></th>\n",
       "      <th></th>\n",
       "      <th></th>\n",
       "      <th></th>\n",
       "      <th></th>\n",
       "      <th></th>\n",
       "      <th></th>\n",
       "      <th></th>\n",
       "      <th></th>\n",
       "      <th></th>\n",
       "      <th></th>\n",
       "      <th></th>\n",
       "      <th></th>\n",
       "      <th></th>\n",
       "      <th></th>\n",
       "      <th></th>\n",
       "      <th></th>\n",
       "      <th></th>\n",
       "      <th></th>\n",
       "      <th></th>\n",
       "      <th></th>\n",
       "      <th></th>\n",
       "      <th></th>\n",
       "      <th></th>\n",
       "      <th></th>\n",
       "      <th></th>\n",
       "      <th></th>\n",
       "      <th></th>\n",
       "      <th></th>\n",
       "      <th></th>\n",
       "      <th></th>\n",
       "      <th></th>\n",
       "      <th></th>\n",
       "      <th></th>\n",
       "      <th></th>\n",
       "      <th></th>\n",
       "      <th></th>\n",
       "      <th></th>\n",
       "      <th></th>\n",
       "      <th></th>\n",
       "      <th></th>\n",
       "      <th></th>\n",
       "      <th></th>\n",
       "      <th></th>\n",
       "      <th></th>\n",
       "      <th></th>\n",
       "      <th></th>\n",
       "      <th></th>\n",
       "      <th></th>\n",
       "      <th></th>\n",
       "      <th></th>\n",
       "      <th></th>\n",
       "      <th></th>\n",
       "      <th></th>\n",
       "      <th></th>\n",
       "      <th></th>\n",
       "      <th></th>\n",
       "      <th></th>\n",
       "      <th></th>\n",
       "      <th></th>\n",
       "      <th></th>\n",
       "      <th></th>\n",
       "      <th></th>\n",
       "      <th></th>\n",
       "      <th></th>\n",
       "      <th></th>\n",
       "      <th></th>\n",
       "      <th></th>\n",
       "      <th></th>\n",
       "      <th></th>\n",
       "      <th></th>\n",
       "      <th></th>\n",
       "      <th></th>\n",
       "      <th></th>\n",
       "      <th></th>\n",
       "      <th></th>\n",
       "      <th></th>\n",
       "      <th></th>\n",
       "      <th></th>\n",
       "      <th></th>\n",
       "      <th></th>\n",
       "      <th></th>\n",
       "      <th></th>\n",
       "      <th></th>\n",
       "      <th></th>\n",
       "      <th></th>\n",
       "      <th></th>\n",
       "      <th></th>\n",
       "      <th></th>\n",
       "      <th></th>\n",
       "      <th></th>\n",
       "      <th></th>\n",
       "      <th></th>\n",
       "      <th></th>\n",
       "      <th></th>\n",
       "      <th></th>\n",
       "      <th></th>\n",
       "      <th></th>\n",
       "      <th></th>\n",
       "      <th></th>\n",
       "      <th></th>\n",
       "      <th></th>\n",
       "      <th></th>\n",
       "      <th></th>\n",
       "      <th></th>\n",
       "      <th></th>\n",
       "      <th></th>\n",
       "      <th></th>\n",
       "      <th></th>\n",
       "      <th></th>\n",
       "      <th></th>\n",
       "      <th></th>\n",
       "      <th></th>\n",
       "      <th></th>\n",
       "      <th></th>\n",
       "      <th></th>\n",
       "      <th></th>\n",
       "      <th></th>\n",
       "      <th></th>\n",
       "      <th></th>\n",
       "      <th></th>\n",
       "      <th></th>\n",
       "      <th></th>\n",
       "      <th></th>\n",
       "      <th></th>\n",
       "      <th></th>\n",
       "      <th></th>\n",
       "      <th></th>\n",
       "      <th></th>\n",
       "      <th></th>\n",
       "      <th></th>\n",
       "      <th></th>\n",
       "      <th></th>\n",
       "      <th></th>\n",
       "      <th></th>\n",
       "      <th></th>\n",
       "      <th></th>\n",
       "      <th></th>\n",
       "      <th></th>\n",
       "      <th></th>\n",
       "      <th></th>\n",
       "      <th></th>\n",
       "      <th></th>\n",
       "      <th></th>\n",
       "      <th></th>\n",
       "      <th></th>\n",
       "      <th></th>\n",
       "      <th></th>\n",
       "      <th></th>\n",
       "      <th></th>\n",
       "      <th></th>\n",
       "      <th></th>\n",
       "      <th></th>\n",
       "      <th></th>\n",
       "      <th></th>\n",
       "      <th></th>\n",
       "      <th></th>\n",
       "      <th></th>\n",
       "      <th></th>\n",
       "      <th></th>\n",
       "      <th></th>\n",
       "      <th></th>\n",
       "      <th></th>\n",
       "      <th></th>\n",
       "      <th></th>\n",
       "      <th></th>\n",
       "      <th></th>\n",
       "      <th></th>\n",
       "      <th></th>\n",
       "      <th></th>\n",
       "      <th></th>\n",
       "      <th></th>\n",
       "      <th></th>\n",
       "      <th></th>\n",
       "      <th></th>\n",
       "      <th></th>\n",
       "      <th></th>\n",
       "      <th></th>\n",
       "      <th></th>\n",
       "      <th></th>\n",
       "      <th></th>\n",
       "      <th></th>\n",
       "      <th></th>\n",
       "      <th></th>\n",
       "      <th></th>\n",
       "      <th></th>\n",
       "      <th></th>\n",
       "      <th></th>\n",
       "      <th></th>\n",
       "      <th></th>\n",
       "      <th></th>\n",
       "      <th></th>\n",
       "      <th></th>\n",
       "      <th></th>\n",
       "      <th></th>\n",
       "      <th></th>\n",
       "      <th></th>\n",
       "      <th></th>\n",
       "      <th></th>\n",
       "      <th></th>\n",
       "      <th></th>\n",
       "      <th></th>\n",
       "      <th></th>\n",
       "      <th></th>\n",
       "      <th></th>\n",
       "      <th></th>\n",
       "      <th></th>\n",
       "      <th></th>\n",
       "      <th></th>\n",
       "      <th></th>\n",
       "      <th></th>\n",
       "      <th></th>\n",
       "      <th></th>\n",
       "      <th></th>\n",
       "      <th></th>\n",
       "      <th></th>\n",
       "      <th></th>\n",
       "      <th></th>\n",
       "      <th></th>\n",
       "      <th></th>\n",
       "      <th></th>\n",
       "      <th></th>\n",
       "      <th></th>\n",
       "      <th></th>\n",
       "      <th></th>\n",
       "      <th></th>\n",
       "      <th></th>\n",
       "      <th></th>\n",
       "      <th></th>\n",
       "      <th></th>\n",
       "      <th></th>\n",
       "      <th></th>\n",
       "      <th></th>\n",
       "      <th></th>\n",
       "      <th></th>\n",
       "      <th></th>\n",
       "      <th></th>\n",
       "      <th></th>\n",
       "      <th></th>\n",
       "      <th></th>\n",
       "      <th></th>\n",
       "      <th></th>\n",
       "      <th></th>\n",
       "      <th></th>\n",
       "      <th></th>\n",
       "      <th></th>\n",
       "      <th></th>\n",
       "      <th></th>\n",
       "      <th></th>\n",
       "      <th></th>\n",
       "      <th></th>\n",
       "      <th></th>\n",
       "      <th></th>\n",
       "      <th></th>\n",
       "      <th></th>\n",
       "      <th></th>\n",
       "      <th></th>\n",
       "      <th></th>\n",
       "      <th></th>\n",
       "      <th></th>\n",
       "      <th></th>\n",
       "      <th></th>\n",
       "      <th></th>\n",
       "      <th></th>\n",
       "      <th></th>\n",
       "      <th></th>\n",
       "      <th></th>\n",
       "      <th></th>\n",
       "      <th></th>\n",
       "      <th></th>\n",
       "      <th></th>\n",
       "      <th></th>\n",
       "      <th></th>\n",
       "      <th></th>\n",
       "      <th></th>\n",
       "      <th></th>\n",
       "      <th></th>\n",
       "      <th></th>\n",
       "      <th></th>\n",
       "      <th></th>\n",
       "      <th></th>\n",
       "      <th></th>\n",
       "      <th></th>\n",
       "      <th></th>\n",
       "      <th></th>\n",
       "      <th></th>\n",
       "      <th></th>\n",
       "      <th></th>\n",
       "      <th></th>\n",
       "      <th></th>\n",
       "      <th></th>\n",
       "      <th></th>\n",
       "      <th></th>\n",
       "      <th></th>\n",
       "      <th></th>\n",
       "      <th></th>\n",
       "      <th></th>\n",
       "      <th></th>\n",
       "      <th></th>\n",
       "      <th></th>\n",
       "      <th></th>\n",
       "      <th></th>\n",
       "      <th></th>\n",
       "      <th></th>\n",
       "      <th></th>\n",
       "      <th></th>\n",
       "      <th></th>\n",
       "      <th></th>\n",
       "      <th></th>\n",
       "      <th></th>\n",
       "      <th></th>\n",
       "      <th></th>\n",
       "      <th></th>\n",
       "      <th></th>\n",
       "      <th></th>\n",
       "      <th></th>\n",
       "      <th></th>\n",
       "      <th></th>\n",
       "      <th></th>\n",
       "      <th></th>\n",
       "      <th></th>\n",
       "      <th></th>\n",
       "      <th></th>\n",
       "      <th></th>\n",
       "      <th></th>\n",
       "      <th></th>\n",
       "      <th></th>\n",
       "      <th></th>\n",
       "      <th></th>\n",
       "      <th></th>\n",
       "      <th></th>\n",
       "      <th></th>\n",
       "      <th></th>\n",
       "      <th></th>\n",
       "      <th></th>\n",
       "      <th></th>\n",
       "      <th></th>\n",
       "      <th></th>\n",
       "      <th></th>\n",
       "      <th></th>\n",
       "      <th></th>\n",
       "      <th></th>\n",
       "      <th></th>\n",
       "      <th></th>\n",
       "      <th></th>\n",
       "      <th></th>\n",
       "      <th></th>\n",
       "      <th></th>\n",
       "      <th></th>\n",
       "      <th></th>\n",
       "      <th></th>\n",
       "      <th></th>\n",
       "      <th></th>\n",
       "      <th></th>\n",
       "      <th></th>\n",
       "      <th></th>\n",
       "      <th></th>\n",
       "      <th></th>\n",
       "      <th></th>\n",
       "      <th></th>\n",
       "      <th></th>\n",
       "      <th></th>\n",
       "      <th></th>\n",
       "      <th></th>\n",
       "      <th></th>\n",
       "      <th></th>\n",
       "      <th></th>\n",
       "      <th></th>\n",
       "      <th></th>\n",
       "      <th></th>\n",
       "      <th></th>\n",
       "      <th></th>\n",
       "      <th></th>\n",
       "      <th></th>\n",
       "      <th></th>\n",
       "      <th></th>\n",
       "      <th></th>\n",
       "      <th></th>\n",
       "      <th></th>\n",
       "      <th></th>\n",
       "      <th></th>\n",
       "      <th></th>\n",
       "      <th></th>\n",
       "      <th></th>\n",
       "      <th></th>\n",
       "      <th></th>\n",
       "      <th></th>\n",
       "      <th></th>\n",
       "      <th></th>\n",
       "      <th></th>\n",
       "      <th></th>\n",
       "      <th></th>\n",
       "      <th></th>\n",
       "      <th></th>\n",
       "      <th></th>\n",
       "      <th></th>\n",
       "      <th></th>\n",
       "      <th></th>\n",
       "      <th></th>\n",
       "      <th></th>\n",
       "      <th></th>\n",
       "      <th></th>\n",
       "      <th></th>\n",
       "      <th></th>\n",
       "      <th></th>\n",
       "      <th></th>\n",
       "      <th></th>\n",
       "      <th></th>\n",
       "      <th></th>\n",
       "      <th></th>\n",
       "      <th></th>\n",
       "      <th></th>\n",
       "      <th></th>\n",
       "      <th></th>\n",
       "      <th></th>\n",
       "      <th></th>\n",
       "      <th></th>\n",
       "      <th></th>\n",
       "      <th></th>\n",
       "      <th></th>\n",
       "      <th></th>\n",
       "      <th></th>\n",
       "      <th></th>\n",
       "      <th></th>\n",
       "      <th></th>\n",
       "      <th></th>\n",
       "      <th></th>\n",
       "      <th></th>\n",
       "      <th></th>\n",
       "      <th></th>\n",
       "      <th></th>\n",
       "      <th></th>\n",
       "      <th></th>\n",
       "      <th></th>\n",
       "      <th></th>\n",
       "      <th></th>\n",
       "      <th></th>\n",
       "      <th></th>\n",
       "      <th></th>\n",
       "      <th></th>\n",
       "      <th></th>\n",
       "      <th></th>\n",
       "      <th></th>\n",
       "      <th></th>\n",
       "      <th></th>\n",
       "      <th></th>\n",
       "      <th></th>\n",
       "      <th></th>\n",
       "      <th></th>\n",
       "      <th></th>\n",
       "      <th></th>\n",
       "      <th></th>\n",
       "      <th></th>\n",
       "      <th></th>\n",
       "      <th></th>\n",
       "      <th></th>\n",
       "      <th></th>\n",
       "      <th></th>\n",
       "      <th></th>\n",
       "      <th></th>\n",
       "      <th></th>\n",
       "      <th></th>\n",
       "      <th></th>\n",
       "      <th></th>\n",
       "      <th></th>\n",
       "      <th></th>\n",
       "      <th></th>\n",
       "      <th></th>\n",
       "      <th></th>\n",
       "      <th></th>\n",
       "      <th></th>\n",
       "      <th></th>\n",
       "      <th></th>\n",
       "      <th></th>\n",
       "      <th></th>\n",
       "      <th></th>\n",
       "      <th></th>\n",
       "      <th></th>\n",
       "      <th></th>\n",
       "      <th></th>\n",
       "      <th></th>\n",
       "      <th></th>\n",
       "      <th></th>\n",
       "      <th></th>\n",
       "      <th></th>\n",
       "      <th></th>\n",
       "      <th></th>\n",
       "      <th></th>\n",
       "      <th></th>\n",
       "      <th></th>\n",
       "      <th></th>\n",
       "      <th></th>\n",
       "      <th></th>\n",
       "      <th></th>\n",
       "      <th></th>\n",
       "      <th></th>\n",
       "      <th></th>\n",
       "      <th></th>\n",
       "      <th></th>\n",
       "      <th></th>\n",
       "      <th></th>\n",
       "      <th></th>\n",
       "      <th></th>\n",
       "      <th></th>\n",
       "      <th></th>\n",
       "      <th></th>\n",
       "      <th></th>\n",
       "      <th></th>\n",
       "      <th></th>\n",
       "      <th></th>\n",
       "      <th></th>\n",
       "      <th></th>\n",
       "      <th></th>\n",
       "      <th></th>\n",
       "      <th></th>\n",
       "      <th></th>\n",
       "    </tr>\n",
       "  </thead>\n",
       "  <tbody>\n",
       "    <tr>\n",
       "      <th>3788741909</th>\n",
       "      <td>0.0</td>\n",
       "      <td>0.0</td>\n",
       "      <td>1.0</td>\n",
       "      <td>0.0</td>\n",
       "      <td>0.0</td>\n",
       "      <td>0.0</td>\n",
       "      <td>1.0</td>\n",
       "      <td>1.0</td>\n",
       "      <td>1.0</td>\n",
       "      <td>1.0</td>\n",
       "      <td>0.0</td>\n",
       "      <td>0.0</td>\n",
       "      <td>0.0</td>\n",
       "      <td>0.0</td>\n",
       "      <td>0.0</td>\n",
       "      <td>0.0</td>\n",
       "      <td>0.0</td>\n",
       "      <td>0.0</td>\n",
       "      <td>0.0</td>\n",
       "      <td>0.0</td>\n",
       "      <td>0.0</td>\n",
       "      <td>0.0</td>\n",
       "      <td>0.0</td>\n",
       "      <td>0.0</td>\n",
       "      <td>0.0</td>\n",
       "      <td>0.0</td>\n",
       "      <td>0.0</td>\n",
       "      <td>0.0</td>\n",
       "      <td>0.0</td>\n",
       "      <td>0.0</td>\n",
       "      <td>0.0</td>\n",
       "      <td>1.0</td>\n",
       "      <td>0.0</td>\n",
       "      <td>0.0</td>\n",
       "      <td>0.0</td>\n",
       "      <td>0.0</td>\n",
       "      <td>0.0</td>\n",
       "      <td>0.0</td>\n",
       "      <td>0.0</td>\n",
       "      <td>0.0</td>\n",
       "      <td>0.0</td>\n",
       "      <td>0.0</td>\n",
       "      <td>0.0</td>\n",
       "      <td>0.0</td>\n",
       "      <td>0.0</td>\n",
       "      <td>0.0</td>\n",
       "      <td>0.0</td>\n",
       "      <td>0.0</td>\n",
       "      <td>0.0</td>\n",
       "      <td>0.0</td>\n",
       "      <td>0.0</td>\n",
       "      <td>0.0</td>\n",
       "      <td>0.0</td>\n",
       "      <td>0.0</td>\n",
       "      <td>0.0</td>\n",
       "      <td>0.0</td>\n",
       "      <td>0.0</td>\n",
       "      <td>0.0</td>\n",
       "      <td>0.0</td>\n",
       "      <td>0.0</td>\n",
       "      <td>0.0</td>\n",
       "      <td>0.0</td>\n",
       "      <td>0.0</td>\n",
       "      <td>0.0</td>\n",
       "      <td>0.0</td>\n",
       "      <td>0.0</td>\n",
       "      <td>0.0</td>\n",
       "      <td>0.0</td>\n",
       "      <td>0.0</td>\n",
       "      <td>0.0</td>\n",
       "      <td>0.0</td>\n",
       "      <td>0.0</td>\n",
       "      <td>0.0</td>\n",
       "      <td>0.0</td>\n",
       "      <td>0.0</td>\n",
       "      <td>0.0</td>\n",
       "      <td>0.0</td>\n",
       "      <td>0.0</td>\n",
       "      <td>0.0</td>\n",
       "      <td>0.0</td>\n",
       "      <td>0.0</td>\n",
       "      <td>0.0</td>\n",
       "      <td>0.0</td>\n",
       "      <td>0.0</td>\n",
       "      <td>0.0</td>\n",
       "      <td>0.0</td>\n",
       "      <td>0.0</td>\n",
       "      <td>0.0</td>\n",
       "      <td>1.0</td>\n",
       "      <td>1.0</td>\n",
       "      <td>0.0</td>\n",
       "      <td>1.0</td>\n",
       "      <td>1.0</td>\n",
       "      <td>0.0</td>\n",
       "      <td>0.0</td>\n",
       "      <td>0.0</td>\n",
       "      <td>0.0</td>\n",
       "      <td>0.0</td>\n",
       "      <td>0.0</td>\n",
       "      <td>0.0</td>\n",
       "      <td>0.0</td>\n",
       "      <td>0.0</td>\n",
       "      <td>1.0</td>\n",
       "      <td>0.0</td>\n",
       "      <td>0.0</td>\n",
       "      <td>0.0</td>\n",
       "      <td>0.0</td>\n",
       "      <td>0.0</td>\n",
       "      <td>0.0</td>\n",
       "      <td>0.0</td>\n",
       "      <td>0.0</td>\n",
       "      <td>0.0</td>\n",
       "      <td>0.0</td>\n",
       "      <td>0.0</td>\n",
       "      <td>0.0</td>\n",
       "      <td>0.0</td>\n",
       "      <td>0.0</td>\n",
       "      <td>0.0</td>\n",
       "      <td>0.0</td>\n",
       "      <td>0.0</td>\n",
       "      <td>0.0</td>\n",
       "      <td>0.0</td>\n",
       "      <td>0.0</td>\n",
       "      <td>0.0</td>\n",
       "      <td>0.0</td>\n",
       "      <td>0.0</td>\n",
       "      <td>0.0</td>\n",
       "      <td>0.0</td>\n",
       "      <td>0.0</td>\n",
       "      <td>0.0</td>\n",
       "      <td>0.0</td>\n",
       "      <td>0.0</td>\n",
       "      <td>0.0</td>\n",
       "      <td>0.0</td>\n",
       "      <td>0.0</td>\n",
       "      <td>0.0</td>\n",
       "      <td>1.0</td>\n",
       "      <td>0.0</td>\n",
       "      <td>0.0</td>\n",
       "      <td>0.0</td>\n",
       "      <td>0.0</td>\n",
       "      <td>0.0</td>\n",
       "      <td>0.0</td>\n",
       "      <td>0.0</td>\n",
       "      <td>0.0</td>\n",
       "      <td>0.0</td>\n",
       "      <td>0.0</td>\n",
       "      <td>0.0</td>\n",
       "      <td>0.0</td>\n",
       "      <td>0.0</td>\n",
       "      <td>0.0</td>\n",
       "      <td>0.0</td>\n",
       "      <td>0.0</td>\n",
       "      <td>0.0</td>\n",
       "      <td>0.0</td>\n",
       "      <td>0.0</td>\n",
       "      <td>0.0</td>\n",
       "      <td>0.0</td>\n",
       "      <td>0.0</td>\n",
       "      <td>0.0</td>\n",
       "      <td>0.0</td>\n",
       "      <td>0.0</td>\n",
       "      <td>0.0</td>\n",
       "      <td>0.0</td>\n",
       "      <td>0.0</td>\n",
       "      <td>0.0</td>\n",
       "      <td>0.0</td>\n",
       "      <td>0.0</td>\n",
       "      <td>0.0</td>\n",
       "      <td>0.0</td>\n",
       "      <td>0.0</td>\n",
       "      <td>0.0</td>\n",
       "      <td>0.0</td>\n",
       "      <td>0.0</td>\n",
       "      <td>0.0</td>\n",
       "      <td>0.0</td>\n",
       "      <td>0.0</td>\n",
       "      <td>0.0</td>\n",
       "      <td>0.0</td>\n",
       "      <td>0.0</td>\n",
       "      <td>1.0</td>\n",
       "      <td>0.0</td>\n",
       "      <td>0.0</td>\n",
       "      <td>0.0</td>\n",
       "      <td>0.0</td>\n",
       "      <td>0.0</td>\n",
       "      <td>0.0</td>\n",
       "      <td>1.0</td>\n",
       "      <td>0.0</td>\n",
       "      <td>0.0</td>\n",
       "      <td>0.0</td>\n",
       "      <td>0.0</td>\n",
       "      <td>0.0</td>\n",
       "      <td>0.0</td>\n",
       "      <td>0.0</td>\n",
       "      <td>0.0</td>\n",
       "      <td>0.0</td>\n",
       "      <td>0.0</td>\n",
       "      <td>0.0</td>\n",
       "      <td>0.0</td>\n",
       "      <td>0.0</td>\n",
       "      <td>0.0</td>\n",
       "      <td>0.0</td>\n",
       "      <td>0.0</td>\n",
       "      <td>0.0</td>\n",
       "      <td>0.0</td>\n",
       "      <td>0.0</td>\n",
       "      <td>0.0</td>\n",
       "      <td>0.0</td>\n",
       "      <td>0.0</td>\n",
       "      <td>0.0</td>\n",
       "      <td>0.0</td>\n",
       "      <td>0.0</td>\n",
       "      <td>0.0</td>\n",
       "      <td>0.0</td>\n",
       "      <td>0.0</td>\n",
       "      <td>0.0</td>\n",
       "      <td>0.0</td>\n",
       "      <td>0.0</td>\n",
       "      <td>0.0</td>\n",
       "      <td>0.0</td>\n",
       "      <td>0.0</td>\n",
       "      <td>0.0</td>\n",
       "      <td>0.0</td>\n",
       "      <td>0.0</td>\n",
       "      <td>0.0</td>\n",
       "      <td>0.0</td>\n",
       "      <td>0.0</td>\n",
       "      <td>0.0</td>\n",
       "      <td>0.0</td>\n",
       "      <td>0.0</td>\n",
       "      <td>1.0</td>\n",
       "      <td>0.0</td>\n",
       "      <td>0.0</td>\n",
       "      <td>0.0</td>\n",
       "      <td>0.0</td>\n",
       "      <td>0.0</td>\n",
       "      <td>0.0</td>\n",
       "      <td>0.0</td>\n",
       "      <td>0.0</td>\n",
       "      <td>0.0</td>\n",
       "      <td>0.0</td>\n",
       "      <td>0.0</td>\n",
       "      <td>0.0</td>\n",
       "      <td>0.0</td>\n",
       "      <td>0.0</td>\n",
       "      <td>0.0</td>\n",
       "      <td>0.0</td>\n",
       "      <td>0.0</td>\n",
       "      <td>0.0</td>\n",
       "      <td>0.0</td>\n",
       "      <td>0.0</td>\n",
       "      <td>0.0</td>\n",
       "      <td>0.0</td>\n",
       "      <td>0.0</td>\n",
       "      <td>0.0</td>\n",
       "      <td>0.0</td>\n",
       "      <td>0.0</td>\n",
       "      <td>0.0</td>\n",
       "      <td>0.0</td>\n",
       "      <td>0.0</td>\n",
       "      <td>0.0</td>\n",
       "      <td>0.0</td>\n",
       "      <td>1.0</td>\n",
       "      <td>0.0</td>\n",
       "      <td>0.0</td>\n",
       "      <td>0.0</td>\n",
       "      <td>0.0</td>\n",
       "      <td>0.0</td>\n",
       "      <td>0.0</td>\n",
       "      <td>0.0</td>\n",
       "      <td>0.0</td>\n",
       "      <td>0.0</td>\n",
       "      <td>0.0</td>\n",
       "      <td>0.0</td>\n",
       "      <td>0.0</td>\n",
       "      <td>0.0</td>\n",
       "      <td>0.0</td>\n",
       "      <td>0.0</td>\n",
       "      <td>0.0</td>\n",
       "      <td>0.0</td>\n",
       "      <td>0.0</td>\n",
       "      <td>0.0</td>\n",
       "      <td>0.0</td>\n",
       "      <td>1.0</td>\n",
       "      <td>0.0</td>\n",
       "      <td>0.0</td>\n",
       "      <td>0.0</td>\n",
       "      <td>0.0</td>\n",
       "      <td>0.0</td>\n",
       "      <td>0.0</td>\n",
       "      <td>0.0</td>\n",
       "      <td>0.0</td>\n",
       "      <td>0.0</td>\n",
       "      <td>0.0</td>\n",
       "      <td>0.0</td>\n",
       "      <td>0.0</td>\n",
       "      <td>0.0</td>\n",
       "      <td>0.0</td>\n",
       "      <td>0.0</td>\n",
       "      <td>0.0</td>\n",
       "      <td>0.0</td>\n",
       "      <td>0.0</td>\n",
       "      <td>0.0</td>\n",
       "      <td>0.0</td>\n",
       "      <td>0.0</td>\n",
       "      <td>0.0</td>\n",
       "      <td>0.0</td>\n",
       "      <td>0.0</td>\n",
       "      <td>0.0</td>\n",
       "      <td>0.0</td>\n",
       "      <td>0.0</td>\n",
       "      <td>0.0</td>\n",
       "      <td>0.0</td>\n",
       "      <td>0.0</td>\n",
       "      <td>0.0</td>\n",
       "      <td>0.0</td>\n",
       "      <td>0.0</td>\n",
       "      <td>0.0</td>\n",
       "      <td>0.0</td>\n",
       "      <td>0.0</td>\n",
       "      <td>0.0</td>\n",
       "      <td>0.0</td>\n",
       "      <td>0.0</td>\n",
       "      <td>0.0</td>\n",
       "      <td>0.0</td>\n",
       "      <td>0.0</td>\n",
       "      <td>0.0</td>\n",
       "      <td>0.0</td>\n",
       "      <td>0.0</td>\n",
       "      <td>0.0</td>\n",
       "      <td>0.0</td>\n",
       "      <td>0.0</td>\n",
       "      <td>0.0</td>\n",
       "      <td>0.0</td>\n",
       "      <td>0.0</td>\n",
       "      <td>0.0</td>\n",
       "      <td>0.0</td>\n",
       "      <td>0.0</td>\n",
       "      <td>0.0</td>\n",
       "      <td>0.0</td>\n",
       "      <td>0.0</td>\n",
       "      <td>0.0</td>\n",
       "      <td>0.0</td>\n",
       "      <td>0.0</td>\n",
       "      <td>0.0</td>\n",
       "      <td>0.0</td>\n",
       "      <td>0.0</td>\n",
       "      <td>0.0</td>\n",
       "      <td>0.0</td>\n",
       "      <td>0.0</td>\n",
       "      <td>0.0</td>\n",
       "      <td>0.0</td>\n",
       "      <td>0.0</td>\n",
       "      <td>0.0</td>\n",
       "      <td>0.0</td>\n",
       "      <td>0.0</td>\n",
       "      <td>0.0</td>\n",
       "      <td>0.0</td>\n",
       "      <td>0.0</td>\n",
       "      <td>0.0</td>\n",
       "      <td>0.0</td>\n",
       "      <td>0.0</td>\n",
       "      <td>0.0</td>\n",
       "      <td>0.0</td>\n",
       "      <td>0.0</td>\n",
       "      <td>0.0</td>\n",
       "      <td>0.0</td>\n",
       "      <td>0.0</td>\n",
       "      <td>1.0</td>\n",
       "      <td>0.0</td>\n",
       "      <td>0.0</td>\n",
       "      <td>0.0</td>\n",
       "      <td>0.0</td>\n",
       "      <td>1.0</td>\n",
       "      <td>0.0</td>\n",
       "      <td>0.0</td>\n",
       "      <td>0.0</td>\n",
       "      <td>0.0</td>\n",
       "      <td>0.0</td>\n",
       "      <td>0.0</td>\n",
       "      <td>0.0</td>\n",
       "      <td>0.0</td>\n",
       "      <td>0.0</td>\n",
       "      <td>0.0</td>\n",
       "      <td>0.0</td>\n",
       "      <td>0.0</td>\n",
       "      <td>0.0</td>\n",
       "      <td>0.0</td>\n",
       "      <td>0.0</td>\n",
       "      <td>0.0</td>\n",
       "      <td>0.0</td>\n",
       "      <td>0.0</td>\n",
       "      <td>0.0</td>\n",
       "      <td>0.0</td>\n",
       "      <td>0.0</td>\n",
       "      <td>0.0</td>\n",
       "      <td>0.0</td>\n",
       "      <td>0.0</td>\n",
       "      <td>0.0</td>\n",
       "      <td>0.0</td>\n",
       "      <td>0.0</td>\n",
       "      <td>0.0</td>\n",
       "      <td>0.0</td>\n",
       "      <td>0.0</td>\n",
       "      <td>0.0</td>\n",
       "      <td>0.0</td>\n",
       "      <td>0.0</td>\n",
       "      <td>0.0</td>\n",
       "      <td>0.0</td>\n",
       "      <td>0.0</td>\n",
       "      <td>0.0</td>\n",
       "      <td>0.0</td>\n",
       "      <td>0.0</td>\n",
       "      <td>0.0</td>\n",
       "      <td>0.0</td>\n",
       "      <td>0.0</td>\n",
       "      <td>0.0</td>\n",
       "      <td>0.0</td>\n",
       "      <td>0.0</td>\n",
       "      <td>0.0</td>\n",
       "      <td>0.0</td>\n",
       "      <td>0.0</td>\n",
       "      <td>0.0</td>\n",
       "      <td>0.0</td>\n",
       "      <td>0.0</td>\n",
       "      <td>0.0</td>\n",
       "      <td>0.0</td>\n",
       "      <td>0.0</td>\n",
       "      <td>0.0</td>\n",
       "      <td>0.0</td>\n",
       "      <td>0.0</td>\n",
       "      <td>0.0</td>\n",
       "      <td>0.0</td>\n",
       "      <td>0.0</td>\n",
       "      <td>0.0</td>\n",
       "      <td>0.0</td>\n",
       "      <td>0.0</td>\n",
       "      <td>0.0</td>\n",
       "      <td>0.0</td>\n",
       "      <td>0.0</td>\n",
       "      <td>0.0</td>\n",
       "      <td>0.0</td>\n",
       "      <td>0.0</td>\n",
       "      <td>0.0</td>\n",
       "      <td>0.0</td>\n",
       "      <td>0.0</td>\n",
       "      <td>0.0</td>\n",
       "      <td>0.0</td>\n",
       "      <td>0.0</td>\n",
       "      <td>0.0</td>\n",
       "      <td>0.0</td>\n",
       "      <td>0.0</td>\n",
       "      <td>0.0</td>\n",
       "      <td>0.0</td>\n",
       "      <td>0.0</td>\n",
       "      <td>0.0</td>\n",
       "      <td>0.0</td>\n",
       "      <td>0.0</td>\n",
       "      <td>0.0</td>\n",
       "      <td>0.0</td>\n",
       "      <td>0.0</td>\n",
       "      <td>0.0</td>\n",
       "      <td>0.0</td>\n",
       "      <td>0.0</td>\n",
       "      <td>0.0</td>\n",
       "      <td>0.0</td>\n",
       "      <td>0.0</td>\n",
       "      <td>0.0</td>\n",
       "      <td>0.0</td>\n",
       "      <td>0.0</td>\n",
       "      <td>0.0</td>\n",
       "      <td>0.0</td>\n",
       "      <td>0.0</td>\n",
       "      <td>0.0</td>\n",
       "      <td>0.0</td>\n",
       "      <td>0.0</td>\n",
       "      <td>0.0</td>\n",
       "      <td>0.0</td>\n",
       "      <td>0.0</td>\n",
       "      <td>0.0</td>\n",
       "      <td>0.0</td>\n",
       "      <td>0.0</td>\n",
       "      <td>0.0</td>\n",
       "      <td>0.0</td>\n",
       "      <td>0.0</td>\n",
       "      <td>0.0</td>\n",
       "      <td>0.0</td>\n",
       "      <td>0.0</td>\n",
       "      <td>0.0</td>\n",
       "      <td>0.0</td>\n",
       "      <td>0.0</td>\n",
       "      <td>0.0</td>\n",
       "      <td>0.0</td>\n",
       "      <td>0.0</td>\n",
       "      <td>0.0</td>\n",
       "      <td>0.0</td>\n",
       "      <td>0.0</td>\n",
       "      <td>0.0</td>\n",
       "      <td>0.0</td>\n",
       "      <td>0.0</td>\n",
       "      <td>0.0</td>\n",
       "      <td>0.0</td>\n",
       "      <td>0.0</td>\n",
       "      <td>0.0</td>\n",
       "      <td>0.0</td>\n",
       "      <td>0.0</td>\n",
       "      <td>0.0</td>\n",
       "      <td>0.0</td>\n",
       "      <td>0.0</td>\n",
       "      <td>0.0</td>\n",
       "      <td>0.0</td>\n",
       "      <td>0.0</td>\n",
       "      <td>0.0</td>\n",
       "      <td>0.0</td>\n",
       "      <td>0.0</td>\n",
       "      <td>0.0</td>\n",
       "      <td>0.0</td>\n",
       "      <td>0.0</td>\n",
       "      <td>0.0</td>\n",
       "      <td>0.0</td>\n",
       "      <td>0.0</td>\n",
       "      <td>0.0</td>\n",
       "      <td>0.0</td>\n",
       "      <td>0.0</td>\n",
       "      <td>0.0</td>\n",
       "      <td>1.0</td>\n",
       "      <td>1.0</td>\n",
       "      <td>0.0</td>\n",
       "      <td>0.0</td>\n",
       "      <td>1.0</td>\n",
       "      <td>1.0</td>\n",
       "      <td>0.0</td>\n",
       "      <td>0.0</td>\n",
       "      <td>0.0</td>\n",
       "      <td>1.0</td>\n",
       "      <td>0.0</td>\n",
       "      <td>0.0</td>\n",
       "      <td>0.0</td>\n",
       "      <td>1.0</td>\n",
       "      <td>1.0</td>\n",
       "      <td>0.0</td>\n",
       "      <td>1.0</td>\n",
       "      <td>0.0</td>\n",
       "      <td>1.0</td>\n",
       "      <td>1.0</td>\n",
       "      <td>0.0</td>\n",
       "      <td>0.0</td>\n",
       "      <td>0.0</td>\n",
       "      <td>1.0</td>\n",
       "      <td>0.0</td>\n",
       "      <td>0.0</td>\n",
       "      <td>0.0</td>\n",
       "      <td>1.0</td>\n",
       "      <td>0.0</td>\n",
       "      <td>0.0</td>\n",
       "      <td>0.0</td>\n",
       "      <td>1.0</td>\n",
       "      <td>0.0</td>\n",
       "      <td>0.0</td>\n",
       "      <td>1.0</td>\n",
       "      <td>1.0</td>\n",
       "      <td>1.0</td>\n",
       "      <td>0.0</td>\n",
       "      <td>0.0</td>\n",
       "      <td>1.0</td>\n",
       "      <td>0.0</td>\n",
       "      <td>1.0</td>\n",
       "      <td>1.0</td>\n",
       "      <td>0.0</td>\n",
       "      <td>0.0</td>\n",
       "      <td>0.0</td>\n",
       "      <td>0.0</td>\n",
       "      <td>0.0</td>\n",
       "      <td>0.0</td>\n",
       "      <td>1.0</td>\n",
       "      <td>1.0</td>\n",
       "      <td>0.0</td>\n",
       "      <td>0.0</td>\n",
       "      <td>0.0</td>\n",
       "    </tr>\n",
       "  </tbody>\n",
       "</table>\n",
       "</div>"
      ],
      "text/plain": [
       "            goal  competition_stage_Final  competition_stage_Group Stage  \\\n",
       "uniekid                                                                    \n",
       "3788741909   0.0                      0.0                            1.0   \n",
       "\n",
       "            competition_stage_Quarter-finals  competition_stage_Round of 16  \\\n",
       "uniekid                                                                       \n",
       "3788741909                               0.0                            0.0   \n",
       "\n",
       "            competition_stage_Semi-finals  under_pressure  aanvallende_helft  \\\n",
       "uniekid                                                                        \n",
       "3788741909                            0.0             1.0                1.0   \n",
       "\n",
       "            aanvallend_kwart  in_de_16  possession_team_Austria  \\\n",
       "uniekid                                                           \n",
       "3788741909               1.0       1.0                      0.0   \n",
       "\n",
       "            possession_team_Belgium  possession_team_Croatia  \\\n",
       "uniekid                                                        \n",
       "3788741909                      0.0                      0.0   \n",
       "\n",
       "            possession_team_Czech Republic  possession_team_Denmark  \\\n",
       "uniekid                                                               \n",
       "3788741909                             0.0                      0.0   \n",
       "\n",
       "            possession_team_England  possession_team_Finland  \\\n",
       "uniekid                                                        \n",
       "3788741909                      0.0                      0.0   \n",
       "\n",
       "            possession_team_France  possession_team_Germany  \\\n",
       "uniekid                                                       \n",
       "3788741909                     0.0                      0.0   \n",
       "\n",
       "            possession_team_Hungary  possession_team_Italy  \\\n",
       "uniekid                                                      \n",
       "3788741909                      0.0                    0.0   \n",
       "\n",
       "            possession_team_Netherlands  possession_team_North Macedonia  \\\n",
       "uniekid                                                                    \n",
       "3788741909                          0.0                              0.0   \n",
       "\n",
       "            possession_team_Poland  possession_team_Portugal  \\\n",
       "uniekid                                                        \n",
       "3788741909                     0.0                       0.0   \n",
       "\n",
       "            possession_team_Russia  possession_team_Scotland  \\\n",
       "uniekid                                                        \n",
       "3788741909                     0.0                       0.0   \n",
       "\n",
       "            possession_team_Slovakia  possession_team_Spain  \\\n",
       "uniekid                                                       \n",
       "3788741909                       0.0                    0.0   \n",
       "\n",
       "            possession_team_Sweden  possession_team_Switzerland  \\\n",
       "uniekid                                                           \n",
       "3788741909                     0.0                          0.0   \n",
       "\n",
       "            possession_team_Turkey  possession_team_Ukraine  \\\n",
       "uniekid                                                       \n",
       "3788741909                     1.0                      0.0   \n",
       "\n",
       "            possession_team_Wales  player_Aaron Ramsey  player_Adam Hložek  \\\n",
       "uniekid                                                                      \n",
       "3788741909                    0.0                  0.0                 0.0   \n",
       "\n",
       "            player_Adama Traoré Diarra  player_Admir Mehmedi  \\\n",
       "uniekid                                                        \n",
       "3788741909                         0.0                   0.0   \n",
       "\n",
       "            player_Adrien Rabiot  player_Albin Ekdal  \\\n",
       "uniekid                                                \n",
       "3788741909                   0.0                 0.0   \n",
       "\n",
       "            player_Aleksandar Dragović  player_Aleksandar Trajkovski  \\\n",
       "uniekid                                                                \n",
       "3788741909                         0.0                           0.0   \n",
       "\n",
       "            player_Aleksandr Golovin  player_Aleksandr Sobolev  \\\n",
       "uniekid                                                          \n",
       "3788741909                       0.0                       0.0   \n",
       "\n",
       "            player_Aleksey Miranchuk  player_Alessandro Bastoni  \\\n",
       "uniekid                                                           \n",
       "3788741909                       0.0                        0.0   \n",
       "\n",
       "            player_Alessandro Florenzi  player_Alessandro Schöpf  \\\n",
       "uniekid                                                            \n",
       "3788741909                         0.0                       0.0   \n",
       "\n",
       "            player_Alex Král  player_Alexander Isak  player_Andrea Belotti  \\\n",
       "uniekid                                                                      \n",
       "3788741909               0.0                    0.0                    0.0   \n",
       "\n",
       "            player_Andreas Christensen  player_Andreas Evald Cornelius  \\\n",
       "uniekid                                                                  \n",
       "3788741909                         0.0                             0.0   \n",
       "\n",
       "            player_Andreas Skov Olsen  player_Andreas Ulmer  \\\n",
       "uniekid                                                       \n",
       "3788741909                        0.0                   0.0   \n",
       "\n",
       "            player_Andrej Kramarić  player_Andrew Robertson  \\\n",
       "uniekid                                                       \n",
       "3788741909                     0.0                      0.0   \n",
       "\n",
       "            player_Andrey Semenov  player_Andriy Yarmolenko  \\\n",
       "uniekid                                                       \n",
       "3788741909                    0.0                       0.0   \n",
       "\n",
       "            player_András Schäfer  player_André Miguel Valente Silva  \\\n",
       "uniekid                                                                \n",
       "3788741909                    0.0                                0.0   \n",
       "\n",
       "            player_Anga Dedryck Boyata  player_Ante Budimir  \\\n",
       "uniekid                                                       \n",
       "3788741909                         0.0                  0.0   \n",
       "\n",
       "            player_Ante Rebić  player_Antoine Griezmann  player_Anton Shunin  \\\n",
       "uniekid                                                                        \n",
       "3788741909                0.0                       0.0                  0.0   \n",
       "\n",
       "            player_Antonio Rüdiger  player_Antonín Barák  player_Arijan Ademi  \\\n",
       "uniekid                                                                         \n",
       "3788741909                     0.0                   0.0                  0.0   \n",
       "\n",
       "            player_Artem Besedin  player_Artem Dovbyk  player_Artem Dzyuba  \\\n",
       "uniekid                                                                      \n",
       "3788741909                   0.0                  0.0                  0.0   \n",
       "\n",
       "            player_Attila Fiola  player_Attila Szalai  player_Axel Witsel  \\\n",
       "uniekid                                                                     \n",
       "3788741909                  0.0                   0.0                 0.0   \n",
       "\n",
       "            player_Aymeric Laporte  player_Bartosz Bereszyński  \\\n",
       "uniekid                                                          \n",
       "3788741909                     0.0                         0.0   \n",
       "\n",
       "            player_Ben Davies  player_Benjamin Pavard  \\\n",
       "uniekid                                                 \n",
       "3788741909                0.0                     0.0   \n",
       "\n",
       "            player_Bernardo Mota Veiga de Carvalho e Silva  \\\n",
       "uniekid                                                      \n",
       "3788741909                                             0.0   \n",
       "\n",
       "            player_Billy Gilmour  player_Boban Nikolov  player_Borna Barišić  \\\n",
       "uniekid                                                                        \n",
       "3788741909                   0.0                   0.0                   0.0   \n",
       "\n",
       "            player_Breel-Donald Embolo  player_Bruno Miguel Borges Fernandes  \\\n",
       "uniekid                                                                        \n",
       "3788741909                         0.0                                   0.0   \n",
       "\n",
       "            player_Bruno Petković  player_Bryan Cristante  player_Bukayo Saka  \\\n",
       "uniekid                                                                         \n",
       "3788741909                    0.0                     0.0                 0.0   \n",
       "\n",
       "            player_Burak Yılmaz  player_Caglar Söyüncü  \\\n",
       "uniekid                                                  \n",
       "3788741909                  1.0                    1.0   \n",
       "\n",
       "            player_Callum William McGregor  player_Cengiz Umut Meraş  \\\n",
       "uniekid                                                                \n",
       "3788741909                             0.0                       1.0   \n",
       "\n",
       "            player_Cengiz Ünder  player_Che Adams  player_Chris Gunter  \\\n",
       "uniekid                                                                  \n",
       "3788741909                  1.0               0.0                  0.0   \n",
       "\n",
       "            player_Christian Benteke Liolo  \\\n",
       "uniekid                                      \n",
       "3788741909                             0.0   \n",
       "\n",
       "            player_Christian Dannemann Eriksen  player_Christian Fassnacht  \\\n",
       "uniekid                                                                      \n",
       "3788741909                                 0.0                         0.0   \n",
       "\n",
       "            player_Christian Nørgaard  player_Christoph Baumgartner  \\\n",
       "uniekid                                                               \n",
       "3788741909                        0.0                           0.0   \n",
       "\n",
       "            player_Christopher James Mepham  player_Christopher Trimmel  \\\n",
       "uniekid                                                                   \n",
       "3788741909                              0.0                         0.0   \n",
       "\n",
       "            player_Ciro Immobile  player_Clément Lenglet  \\\n",
       "uniekid                                                    \n",
       "3788741909                   1.0                     0.0   \n",
       "\n",
       "            player_Cody Mathès Gakpo  player_Connor Roberts  \\\n",
       "uniekid                                                       \n",
       "3788741909                       0.0                    0.0   \n",
       "\n",
       "            player_Corentin Tolisso  \\\n",
       "uniekid                               \n",
       "3788741909                      0.0   \n",
       "\n",
       "            player_Cristiano Ronaldo dos Santos Aveiro  \\\n",
       "uniekid                                                  \n",
       "3788741909                                         0.0   \n",
       "\n",
       "            player_César Azpilicueta Tanco  player_Daler Kuzyaev  \\\n",
       "uniekid                                                            \n",
       "3788741909                             0.0                   0.0   \n",
       "\n",
       "            player_Daley Blind  player_Daniel Avramovski  \\\n",
       "uniekid                                                    \n",
       "3788741909                 0.0                       0.0   \n",
       "\n",
       "            player_Daniel Bachmann  player_Daniel James  \\\n",
       "uniekid                                                   \n",
       "3788741909                     0.0                  0.0   \n",
       "\n",
       "            player_Daniel O\"Shaughnessy  player_Daniel Olmo Carvajal  \\\n",
       "uniekid                                                                \n",
       "3788741909                          0.0                          0.0   \n",
       "\n",
       "            player_Daniel Wass  player_Danilo Luís Hélio Pereira  \\\n",
       "uniekid                                                            \n",
       "3788741909                 0.0                               0.0   \n",
       "\n",
       "            player_Danny Ward  player_Darko Churlinov  player_Darko Velkovski  \\\n",
       "uniekid                                                                         \n",
       "3788741909                0.0                     0.0                     0.0   \n",
       "\n",
       "            player_David Brooks  player_David Marshall  \\\n",
       "uniekid                                                  \n",
       "3788741909                  0.0                    0.0   \n",
       "\n",
       "            player_David Olatukunbo Alaba  player_David Siger  \\\n",
       "uniekid                                                         \n",
       "3788741909                            0.0                 0.0   \n",
       "\n",
       "            player_Declan Rice  player_Dejan Kulusevski  player_Dejan Lovren  \\\n",
       "uniekid                                                                        \n",
       "3788741909                 0.0                      0.0                  0.0   \n",
       "\n",
       "            player_Denis Cheryshev  player_Denis Lemi Zakaria Lako Lado  \\\n",
       "uniekid                                                                   \n",
       "3788741909                     0.0                                  0.0   \n",
       "\n",
       "            player_Dennis Praet  player_Denzel Dumfries  \\\n",
       "uniekid                                                   \n",
       "3788741909                  0.0                     0.0   \n",
       "\n",
       "            player_Diogo José Teixeira da Silva  player_Djibril Sow  \\\n",
       "uniekid                                                               \n",
       "3788741909                                  0.0                 0.0   \n",
       "\n",
       "            player_Dmitriy Barinov  player_Domagoj Vida  \\\n",
       "uniekid                                                   \n",
       "3788741909                     0.0                  0.0   \n",
       "\n",
       "            player_Domenico Berardi  player_Dominic Calvert-Lewin  \\\n",
       "uniekid                                                             \n",
       "3788741909                      1.0                           0.0   \n",
       "\n",
       "            player_Dominik Livaković  player_Donyell Malen  \\\n",
       "uniekid                                                      \n",
       "3788741909                       0.0                   0.0   \n",
       "\n",
       "            player_Dorukhan Toköz  player_Dries Mertens  \\\n",
       "uniekid                                                   \n",
       "3788741909                    0.0                   0.0   \n",
       "\n",
       "            player_Duje Ćaleta-Car  player_Dylan Levitt  player_Dávid Hancko  \\\n",
       "uniekid                                                                        \n",
       "3788741909                     0.0                  0.0                  0.0   \n",
       "\n",
       "            player_Eden Hazard  player_Eduard Sobol  player_Egzon Bejtulai  \\\n",
       "uniekid                                                                      \n",
       "3788741909                 0.0                  0.0                    0.0   \n",
       "\n",
       "            player_Eljif Elmas  player_Emerson Palmieri dos Santos  \\\n",
       "uniekid                                                              \n",
       "3788741909                 0.0                                 0.0   \n",
       "\n",
       "            player_Emil Krafth  player_Emil Peter Forsberg  player_Emre Can  \\\n",
       "uniekid                                                                       \n",
       "3788741909                 0.0                         0.0              0.0   \n",
       "\n",
       "            player_Endre Botka  player_Enis Bardhi  \\\n",
       "uniekid                                              \n",
       "3788741909                 0.0                 0.0   \n",
       "\n",
       "            player_Eric García Martret  player_Ethan Ampadu  \\\n",
       "uniekid                                                       \n",
       "3788741909                         0.0                  0.0   \n",
       "\n",
       "            player_Evgeny Makarenko  player_Ezgjan Alioski  \\\n",
       "uniekid                                                      \n",
       "3788741909                      0.0                    0.0   \n",
       "\n",
       "            player_Fabian Lukas Schär  player_Fabián Ruiz Peña  \\\n",
       "uniekid                                                          \n",
       "3788741909                        0.0                      0.0   \n",
       "\n",
       "            player_Federico Bernardeschi  player_Federico Chiesa  \\\n",
       "uniekid                                                            \n",
       "3788741909                           0.0                     0.0   \n",
       "\n",
       "            player_Fedor Kudryashov  player_Ferhan Hasani  \\\n",
       "uniekid                                                     \n",
       "3788741909                      0.0                   0.0   \n",
       "\n",
       "            player_Ferrán Torres García  player_Filip Helander  \\\n",
       "uniekid                                                          \n",
       "3788741909                          0.0                    0.0   \n",
       "\n",
       "            player_Florian Grillitsch  player_Francesco Acerbi  \\\n",
       "uniekid                                                          \n",
       "3788741909                        0.0                      0.0   \n",
       "\n",
       "            player_Fredrik Jensen  player_Frenkie de Jong  \\\n",
       "uniekid                                                     \n",
       "3788741909                    0.0                     0.0   \n",
       "\n",
       "            player_Gaetano Castrovilli  player_Gareth Frank Bale  \\\n",
       "uniekid                                                            \n",
       "3788741909                         0.0                       0.0   \n",
       "\n",
       "            player_Georginio Wijnaldum  player_Georgiy Dzhikiya  \\\n",
       "uniekid                                                           \n",
       "3788741909                         0.0                      0.0   \n",
       "\n",
       "            player_Gerard Moreno Balaguero  player_Gergő Lovrencsics  \\\n",
       "uniekid                                                                \n",
       "3788741909                             0.0                       0.0   \n",
       "\n",
       "            player_Giacomo Raspadori  player_Gianluigi Donnarumma  \\\n",
       "uniekid                                                             \n",
       "3788741909                       0.0                          0.0   \n",
       "\n",
       "            player_Giorgio Chiellini  player_Giovanni Di Lorenzo  \\\n",
       "uniekid                                                            \n",
       "3788741909                       0.0                         1.0   \n",
       "\n",
       "            player_Glen Kamara  player_Goran Pandev  player_Granit Xhaka  \\\n",
       "uniekid                                                                    \n",
       "3788741909                 0.0                  0.0                  0.0   \n",
       "\n",
       "            player_Grant Hanley  player_Grzegorz Krychowiak  \\\n",
       "uniekid                                                       \n",
       "3788741909                  0.0                         0.0   \n",
       "\n",
       "            player_Gustav Svensson  player_Hakan Çalhanoğlu  \\\n",
       "uniekid                                                       \n",
       "3788741909                     0.0                      1.0   \n",
       "\n",
       "            player_Hans Vanaken  player_Haris Seferović  player_Harry Kane  \\\n",
       "uniekid                                                                      \n",
       "3788741909                  0.0                     0.0                0.0   \n",
       "\n",
       "            player_Harry Maguire  player_Harry Wilson  \\\n",
       "uniekid                                                 \n",
       "3788741909                   0.0                  0.0   \n",
       "\n",
       "            player_Heorhii Bushchan  player_Hugo Lloris  player_Igor Diveev  \\\n",
       "uniekid                                                                       \n",
       "3788741909                      0.0                 0.0                 0.0   \n",
       "\n",
       "            player_Illia Zabarnyi  player_Ivan Perišić  \\\n",
       "uniekid                                                  \n",
       "3788741909                    0.0                  0.0   \n",
       "\n",
       "            player_Ivan Trichkovski  player_Jack Grealish  player_Jack Hendry  \\\n",
       "uniekid                                                                         \n",
       "3788741909                      0.0                   0.0                 0.0   \n",
       "\n",
       "            player_Jadon Sancho  player_Jakub Brabec  player_Jakub Hromada  \\\n",
       "uniekid                                                                      \n",
       "3788741909                  0.0                  0.0                   0.0   \n",
       "\n",
       "            player_Jakub Jankto  player_Jakub Moder  player_Jakub Świerczok  \\\n",
       "uniekid                                                                       \n",
       "3788741909                  0.0                 0.0                     0.0   \n",
       "\n",
       "            player_Jamal Musiala  player_James Forrest  player_Jan Bednarek  \\\n",
       "uniekid                                                                       \n",
       "3788741909                   0.0                   0.0                  0.0   \n",
       "\n",
       "            player_Jan Bořil  player_Jan Vertonghen  \\\n",
       "uniekid                                               \n",
       "3788741909               0.0                    0.0   \n",
       "\n",
       "            player_Jannik Vestergaard  player_Jason Denayer  \\\n",
       "uniekid                                                       \n",
       "3788741909                        0.0                   0.0   \n",
       "\n",
       "            player_Jens Stryger Larsen  player_Jens-Lys Michel Cajuste  \\\n",
       "uniekid                                                                  \n",
       "3788741909                         0.0                             0.0   \n",
       "\n",
       "            player_Jere Juhani Uronen  player_Jeremy Doku  \\\n",
       "uniekid                                                     \n",
       "3788741909                        0.0                 0.0   \n",
       "\n",
       "            player_Joachim Andersen  player_Joakim Mæhle  player_Joe Allen  \\\n",
       "uniekid                                                                      \n",
       "3788741909                      0.0                  0.0               0.0   \n",
       "\n",
       "            player_Joe Rodon  player_Joel Pohjanpalo  player_John McGinn  \\\n",
       "uniekid                                                                    \n",
       "3788741909               0.0                     0.0                 0.0   \n",
       "\n",
       "            player_John Stones  player_Jonas Older Wind  \\\n",
       "uniekid                                                   \n",
       "3788741909                 0.0                      0.0   \n",
       "\n",
       "            player_Joni Ensio Kauko  player_Joona Toivio  \\\n",
       "uniekid                                                    \n",
       "3788741909                      0.0                  0.0   \n",
       "\n",
       "            player_Jordan Brian Henderson  player_Jordan Pickford  \\\n",
       "uniekid                                                             \n",
       "3788741909                            0.0                     0.0   \n",
       "\n",
       "            player_Jordi Alba Ramos  player_Jorge Luiz Frello Filho  \\\n",
       "uniekid                                                               \n",
       "3788741909                      0.0                             1.0   \n",
       "\n",
       "            player_Jorge Resurrección Merodio  player_Joseff Morrell  \\\n",
       "uniekid                                                                \n",
       "3788741909                                0.0                    0.0   \n",
       "\n",
       "            player_Joshua Kimmich  player_Josip Brekalo  \\\n",
       "uniekid                                                   \n",
       "3788741909                    0.0                   0.0   \n",
       "\n",
       "            player_Josip Juranović  player_José Diogo Dalot Teixeira  \\\n",
       "uniekid                                                                \n",
       "3788741909                     0.0                               0.0   \n",
       "\n",
       "            player_José Luis Gayà Peña  \\\n",
       "uniekid                                  \n",
       "3788741909                         0.0   \n",
       "\n",
       "            player_João Filipe Iria Santos Moutinho  \\\n",
       "uniekid                                               \n",
       "3788741909                                      0.0   \n",
       "\n",
       "            player_João Félix Sequeira  \\\n",
       "uniekid                                  \n",
       "3788741909                         0.0   \n",
       "\n",
       "            player_João Maria Lobo Alves Palhinha Gonçalves  \\\n",
       "uniekid                                                       \n",
       "3788741909                                              0.0   \n",
       "\n",
       "            player_Joël Veltman  player_Joško Gvardiol  \\\n",
       "uniekid                                                  \n",
       "3788741909                  0.0                    0.0   \n",
       "\n",
       "            player_Jude Bellingham  player_Jukka Raitala  player_Jules Koundé  \\\n",
       "uniekid                                                                         \n",
       "3788741909                     0.0                   0.0                  0.0   \n",
       "\n",
       "            player_Julian Baumgartlinger  player_Juraj Kucka  \\\n",
       "uniekid                                                        \n",
       "3788741909                           0.0                 0.0   \n",
       "\n",
       "            player_Jurriën Maduro  player_Ján Greguš  player_Kaan Ayhan  \\\n",
       "uniekid                                                                   \n",
       "3788741909                    0.0                0.0                0.0   \n",
       "\n",
       "            player_Kacper Kozłowski  player_Kai Havertz  \\\n",
       "uniekid                                                   \n",
       "3788741909                      0.0                 0.0   \n",
       "\n",
       "            player_Kalvin Phillips  player_Kamil Glik  player_Kamil Jóźwiak  \\\n",
       "uniekid                                                                       \n",
       "3788741909                     0.0                0.0                   0.0   \n",
       "\n",
       "            player_Karim Benzema  player_Karim Onisiwo  player_Karol Linetty  \\\n",
       "uniekid                                                                        \n",
       "3788741909                   0.0                   0.0                   0.0   \n",
       "\n",
       "            player_Karol Świderski  player_Kasper Dolberg  \\\n",
       "uniekid                                                     \n",
       "3788741909                     0.0                    0.0   \n",
       "\n",
       "            player_Kasper Schmeichel  player_Kenan Karaman  \\\n",
       "uniekid                                                      \n",
       "3788741909                       0.0                   1.0   \n",
       "\n",
       "            player_Kevin De Bruyne  player_Kevin Mbabu  player_Kevin Nisbet  \\\n",
       "uniekid                                                                       \n",
       "3788741909                     0.0                 0.0                  0.0   \n",
       "\n",
       "            player_Kevin Varga  player_Kevin Volland  \\\n",
       "uniekid                                                \n",
       "3788741909                 0.0                   0.0   \n",
       "\n",
       "            player_Kieffer Roberto Francisco Moore  player_Kieran Tierney  \\\n",
       "uniekid                                                                     \n",
       "3788741909                                     0.0                    0.0   \n",
       "\n",
       "            player_Kieran Trippier  player_Kingsley Coman  \\\n",
       "uniekid                                                     \n",
       "3788741909                     0.0                    0.0   \n",
       "\n",
       "            player_Kire Ristevski  player_Kléper Laveran Lima Ferreira  \\\n",
       "uniekid                                                                  \n",
       "3788741909                    0.0                                  0.0   \n",
       "\n",
       "            player_Konrad Laimer  player_Kristoffer Olsson  \\\n",
       "uniekid                                                      \n",
       "3788741909                   0.0                       0.0   \n",
       "\n",
       "            player_Kyle Walker  player_Kylian Mbappé Lottin  \\\n",
       "uniekid                                                       \n",
       "3788741909                 0.0                          0.0   \n",
       "\n",
       "            player_Lassi Lappalainen  player_Leander Dendoncker  \\\n",
       "uniekid                                                           \n",
       "3788741909                       0.0                        0.0   \n",
       "\n",
       "            player_Leandro Trossard  player_Leo Onni Artturi Väisänen  \\\n",
       "uniekid                                                                 \n",
       "3788741909                      0.0                               0.0   \n",
       "\n",
       "            player_Leon Goretzka  player_Leonardo Bonucci  \\\n",
       "uniekid                                                     \n",
       "3788741909                   0.0                      1.0   \n",
       "\n",
       "            player_Leonardo Spinazzola  player_Leroy Sané  player_Liam Cooper  \\\n",
       "uniekid                                                                         \n",
       "3788741909                         0.0                0.0                 0.0   \n",
       "\n",
       "            player_Lorenzo Insigne  player_Loris Benito  player_Louis Schaub  \\\n",
       "uniekid                                                                        \n",
       "3788741909                     0.0                  0.0                  0.0   \n",
       "\n",
       "            player_Loïc Négo  player_Lucas Digne  player_Lucas Hernández Pi  \\\n",
       "uniekid                                                                       \n",
       "3788741909               0.0                 0.0                        0.0   \n",
       "\n",
       "            player_Ludwig Augustinsson  player_Luka Ivanušec  \\\n",
       "uniekid                                                        \n",
       "3788741909                         0.0                   0.0   \n",
       "\n",
       "            player_Luka Modrić  player_Luke Shaw  player_Lukáš Haraslín  \\\n",
       "uniekid                                                                   \n",
       "3788741909                 0.0               0.0                    0.0   \n",
       "\n",
       "            player_Lukáš Hrádecký  player_Lukáš Masopust  player_Luuk de Jong  \\\n",
       "uniekid                                                                         \n",
       "3788741909                    0.0                    0.0                  0.0   \n",
       "\n",
       "            player_Lyndon Dykes  player_László Bénes  \\\n",
       "uniekid                                                \n",
       "3788741909                  0.0                  0.0   \n",
       "\n",
       "            player_László Kleinheisler  player_Maarten Stekelenburg  \\\n",
       "uniekid                                                               \n",
       "3788741909                         0.0                          0.0   \n",
       "\n",
       "            player_Maciej Rybus  player_Magomed Ozdoev  player_Maksim Mukhin  \\\n",
       "uniekid                                                                        \n",
       "3788741909                  0.0                    0.0                   0.0   \n",
       "\n",
       "            player_Manuel Locatelli  player_Manuel Neuer  \\\n",
       "uniekid                                                    \n",
       "3788741909                      0.0                  0.0   \n",
       "\n",
       "            player_Manuel Obafemi Akanji  player_Marcel Halstenberg  \\\n",
       "uniekid                                                               \n",
       "3788741909                           0.0                        0.0   \n",
       "\n",
       "            player_Marcel Sabitzer  player_Marcelo Brozović  \\\n",
       "uniekid                                                       \n",
       "3788741909                     0.0                      0.0   \n",
       "\n",
       "            player_Marco Verratti  player_Marcos Llorente Moreno  \\\n",
       "uniekid                                                            \n",
       "3788741909                    0.0                            0.0   \n",
       "\n",
       "            player_Marcus Andreas Danielsson  player_Marcus Berg  \\\n",
       "uniekid                                                            \n",
       "3788741909                               0.0                 0.0   \n",
       "\n",
       "            player_Marcus Forss  player_Marcus Rashford  player_Marcus Thuram  \\\n",
       "uniekid                                                                         \n",
       "3788741909                  0.0                     0.0                   0.0   \n",
       "\n",
       "            player_Marek Hamšík  player_Mario Gavranović  \\\n",
       "uniekid                                                    \n",
       "3788741909                  0.0                      0.0   \n",
       "\n",
       "            player_Mario Pašalić  player_Marko Arnautović  \\\n",
       "uniekid                                                     \n",
       "3788741909                   0.0                      0.0   \n",
       "\n",
       "            player_Marlos Romero Bonfim  player_Marten de Roon  \\\n",
       "uniekid                                                          \n",
       "3788741909                          0.0                    0.0   \n",
       "\n",
       "            player_Martin Braithwaite Christensen  player_Martin Dúbravka  \\\n",
       "uniekid                                                                     \n",
       "3788741909                                    0.0                     0.0   \n",
       "\n",
       "            player_Martin Hinteregger  player_Martin Koscelník  \\\n",
       "uniekid                                                          \n",
       "3788741909                        0.0                      0.0   \n",
       "\n",
       "            player_Mason Mount  player_Mateo Kovačić  \\\n",
       "uniekid                                                \n",
       "3788741909                 0.0                   0.0   \n",
       "\n",
       "            player_Mateusz Andrzej Klich  player_Mathias Jensen  \\\n",
       "uniekid                                                           \n",
       "3788741909                           0.0                    0.0   \n",
       "\n",
       "            player_Mats Hummels  player_Matteo Pessina  \\\n",
       "uniekid                                                  \n",
       "3788741909                  0.0                    0.0   \n",
       "\n",
       "            player_Matthias Ginter  player_Matthijs de Ligt  \\\n",
       "uniekid                                                       \n",
       "3788741909                     0.0                      0.0   \n",
       "\n",
       "            player_Matvey Safonov  player_Matěj Vydra  \\\n",
       "uniekid                                                 \n",
       "3788741909                    0.0                 0.0   \n",
       "\n",
       "            player_Mehmet Zeki Çelik  player_Memphis Depay  \\\n",
       "uniekid                                                      \n",
       "3788741909                       0.0                   0.0   \n",
       "\n",
       "            player_Merih Demiral  player_Mert Müldür  \\\n",
       "uniekid                                                \n",
       "3788741909                   0.0                 0.0   \n",
       "\n",
       "            player_Michael Gregoritsch  player_Michael Krmenčík  \\\n",
       "uniekid                                                           \n",
       "3788741909                         0.0                      0.0   \n",
       "\n",
       "            player_Michal Sadílek  player_Michal Ďuriš  \\\n",
       "uniekid                                                  \n",
       "3788741909                    0.0                  0.0   \n",
       "\n",
       "            player_Michy Batshuayi Tunga  player_Mikael Lustig  \\\n",
       "uniekid                                                          \n",
       "3788741909                           0.0                   0.0   \n",
       "\n",
       "            player_Mikel Oyarzabal Ugarte  player_Mikkel Damsgaard  \\\n",
       "uniekid                                                              \n",
       "3788741909                            0.0                      0.0   \n",
       "\n",
       "            player_Milan Ristovski  player_Milan Škriniar  \\\n",
       "uniekid                                                     \n",
       "3788741909                     0.0                    0.0   \n",
       "\n",
       "            player_Mislav Oršić  player_Moussa Sissoko  \\\n",
       "uniekid                                                  \n",
       "3788741909                  0.0                    0.0   \n",
       "\n",
       "            player_Mykola Matviyenko  player_Mykola Shaparenko  \\\n",
       "uniekid                                                          \n",
       "3788741909                       0.0                       0.0   \n",
       "\n",
       "            player_Mário Figueira Fernandes  player_N''Golo Kanté  \\\n",
       "uniekid                                                             \n",
       "3788741909                              0.0                   0.0   \n",
       "\n",
       "            player_Nacer Chadli  player_Nathan Aké  player_Nathan Patterson  \\\n",
       "uniekid                                                                       \n",
       "3788741909                  0.0                0.0                      0.0   \n",
       "\n",
       "            player_Neco Williams  player_Nemanja Nikolić  player_Nico Elvedi  \\\n",
       "uniekid                                                                        \n",
       "3788741909                   0.0                     0.0                 0.0   \n",
       "\n",
       "            player_Nicolai Møller Boilesen  player_Nicolò Barella  \\\n",
       "uniekid                                                             \n",
       "3788741909                             0.0                    1.0   \n",
       "\n",
       "            player_Niklas Süle  player_Nikola Vlašić  player_Nikolai Alho  \\\n",
       "uniekid                                                                     \n",
       "3788741909                 0.0                   0.0                  0.0   \n",
       "\n",
       "            player_Nélson Cabral Semedo  player_Okay Yokuşlu  \\\n",
       "uniekid                                                        \n",
       "3788741909                          0.0                  1.0   \n",
       "\n",
       "            player_Oleksandr Karavaev  player_Oleksandr Zinchenko  \\\n",
       "uniekid                                                             \n",
       "3788741909                        0.0                         0.0   \n",
       "\n",
       "            player_Oleksandr Zubkov  player_Olivier Giroud  \\\n",
       "uniekid                                                      \n",
       "3788741909                      0.0                    0.0   \n",
       "\n",
       "            player_Ondrej Celustka  player_Ondrej Duda  player_Orkun Kökçü  \\\n",
       "uniekid                                                                      \n",
       "3788741909                     0.0                 0.0                 0.0   \n",
       "\n",
       "            player_Ousmane Dembélé  player_Owen Wijndal  player_Ozan Tufan  \\\n",
       "uniekid                                                                      \n",
       "3788741909                     0.0                  0.0                0.0   \n",
       "\n",
       "            player_Pablo Sarabia García  player_Patrick van Aanholt  \\\n",
       "uniekid                                                               \n",
       "3788741909                          0.0                         0.0   \n",
       "\n",
       "            player_Patrik Hrošovský  player_Patrik Schick  \\\n",
       "uniekid                                                     \n",
       "3788741909                      0.0                   0.0   \n",
       "\n",
       "            player_Pau Francisco Torres  player_Paul Pogba  \\\n",
       "uniekid                                                      \n",
       "3788741909                          0.0                0.0   \n",
       "\n",
       "            player_Paulus Arajuuri  player_Pavel Kadeřábek  \\\n",
       "uniekid                                                      \n",
       "3788741909                     0.0                     0.0   \n",
       "\n",
       "            player_Paweł Dawidowicz  player_Pedro González López  \\\n",
       "uniekid                                                            \n",
       "3788741909                      0.0                          0.0   \n",
       "\n",
       "            player_Peter Pekarík  player_Petr Ševčík  player_Philip Foden  \\\n",
       "uniekid                                                                     \n",
       "3788741909                   0.0                 0.0                  0.0   \n",
       "\n",
       "            player_Philipp Lienhart  player_Pierre Bengtsson  \\\n",
       "uniekid                                                        \n",
       "3788741909                      0.0                      0.0   \n",
       "\n",
       "            player_Pierre-Emile Højbjerg  player_Piotr Zieliński  \\\n",
       "uniekid                                                            \n",
       "3788741909                           0.0                     0.0   \n",
       "\n",
       "            player_Presnel Kimpembe  player_Przemysław Frankowski  \\\n",
       "uniekid                                                             \n",
       "3788741909                      0.0                           0.0   \n",
       "\n",
       "            player_Przemysław Płacheta  player_Pyry Henri Hidipo Soiri  \\\n",
       "uniekid                                                                  \n",
       "3788741909                         0.0                             0.0   \n",
       "\n",
       "            player_Péter Gulácsi  player_Quincy Anton Promes  \\\n",
       "uniekid                                                        \n",
       "3788741909                   0.0                         0.0   \n",
       "\n",
       "            player_Rafael Alexandre Fernandes Ferreira da Silva  \\\n",
       "uniekid                                                           \n",
       "3788741909                                                0.0     \n",
       "\n",
       "            player_Rafael Tolói  player_Raheem Sterling  \\\n",
       "uniekid                                                   \n",
       "3788741909                  0.0                     0.0   \n",
       "\n",
       "            player_Raphaël Adelino José Guerreiro  player_Raphaël Varane  \\\n",
       "uniekid                                                                    \n",
       "3788741909                                    0.0                    0.0   \n",
       "\n",
       "            player_Rasmus Schüller  player_Reece James  player_Remo Freuler  \\\n",
       "uniekid                                                                       \n",
       "3788741909                     0.0                 0.0                  0.0   \n",
       "\n",
       "            player_Renato Júnior Luz Sanches  \\\n",
       "uniekid                                        \n",
       "3788741909                               0.0   \n",
       "\n",
       "            player_Ricardo Iván Rodríguez Araya  player_Rifat Zhemaletdinov  \\\n",
       "uniekid                                                                       \n",
       "3788741909                                  0.0                         0.0   \n",
       "\n",
       "            player_Robert Lewandowski  player_Robin Gosens  player_Robin Lod  \\\n",
       "uniekid                                                                        \n",
       "3788741909                        0.0                  0.0               0.0   \n",
       "\n",
       "            player_Robin Olsen  player_Robin Quaison  \\\n",
       "uniekid                                                \n",
       "3788741909                 0.0                   0.0   \n",
       "\n",
       "            player_Rodrigo Hernández Cascante  player_Roland Sallai  \\\n",
       "uniekid                                                               \n",
       "3788741909                                0.0                   0.0   \n",
       "\n",
       "            player_Roland Varga  player_Roman Bezus  player_Roman Yaremchuk  \\\n",
       "uniekid                                                                       \n",
       "3788741909                  0.0                 0.0                     0.0   \n",
       "\n",
       "            player_Roman Zobnin  player_Romelu Lukaku Menama  \\\n",
       "uniekid                                                        \n",
       "3788741909                  0.0                          0.0   \n",
       "\n",
       "            player_Ruben Vargas  player_Rui Pedro dos Santos Patrício  \\\n",
       "uniekid                                                                 \n",
       "3788741909                  0.0                                   0.0   \n",
       "\n",
       "            player_Ruslan Malinovskiy  player_Ryan Christie  \\\n",
       "uniekid                                                       \n",
       "3788741909                        0.0                   0.0   \n",
       "\n",
       "            player_Ryan Fraser  player_Ryan Gravenberch  player_Róbert Mak  \\\n",
       "uniekid                                                                      \n",
       "3788741909                 0.0                      0.0                0.0   \n",
       "\n",
       "            player_Rúben Diogo Da Silva Neves  \\\n",
       "uniekid                                         \n",
       "3788741909                                0.0   \n",
       "\n",
       "            player_Rúben Santos Gato Alves Dias  player_Salvatore Sirigu  \\\n",
       "uniekid                                                                    \n",
       "3788741909                                  0.0                      0.0   \n",
       "\n",
       "            player_Sasa Kalajdzic  player_Scott McKenna  \\\n",
       "uniekid                                                   \n",
       "3788741909                    0.0                   0.0   \n",
       "\n",
       "            player_Scott McTominay  player_Sebastian Larsson  \\\n",
       "uniekid                                                        \n",
       "3788741909                     0.0                       0.0   \n",
       "\n",
       "            player_Serge Gnabry  player_Sergey Krivtsov  \\\n",
       "uniekid                                                   \n",
       "3788741909                  0.0                     0.0   \n",
       "\n",
       "            player_Sergio Busquets i Burgos  player_Serhii Sydorchuk  \\\n",
       "uniekid                                                                \n",
       "3788741909                              0.0                      0.0   \n",
       "\n",
       "            player_Silvan Widmer  player_Simon Thorup Kjær  \\\n",
       "uniekid                                                      \n",
       "3788741909                   0.0                       0.0   \n",
       "\n",
       "            player_Stanislav Lobotka  player_Stefan Ilsanker  \\\n",
       "uniekid                                                        \n",
       "3788741909                       0.0                     0.0   \n",
       "\n",
       "            player_Stefan Lainer  player_Stefan Ristovski  \\\n",
       "uniekid                                                     \n",
       "3788741909                   0.0                      0.0   \n",
       "\n",
       "            player_Stefan Spirovski  player_Stefan de Vrij  \\\n",
       "uniekid                                                      \n",
       "3788741909                      0.0                    0.0   \n",
       "\n",
       "            player_Stephen O\"Donnell  player_Steven Berghuis  \\\n",
       "uniekid                                                        \n",
       "3788741909                       0.0                     0.0   \n",
       "\n",
       "            player_Steven Zuber  player_Stole Dimitrievski  \\\n",
       "uniekid                                                      \n",
       "3788741909                  0.0                        0.0   \n",
       "\n",
       "            player_Stuart Armstrong  player_Szabolcs Schön  \\\n",
       "uniekid                                                      \n",
       "3788741909                      0.0                    0.0   \n",
       "\n",
       "            player_Sérgio Miguel Relvas de Oliveira  player_Tamás Cseri  \\\n",
       "uniekid                                                                   \n",
       "3788741909                                      0.0                 0.0   \n",
       "\n",
       "            player_Taras Stepanenko  player_Teemu Pukki  \\\n",
       "uniekid                                                   \n",
       "3788741909                      0.0                 0.0   \n",
       "\n",
       "            player_Thiago Alcântara do Nascimento  player_Thibaut Courtois  \\\n",
       "uniekid                                                                      \n",
       "3788741909                                    0.0                      0.0   \n",
       "\n",
       "            player_Thomas Delaney  player_Thomas Lemar  player_Thomas Meunier  \\\n",
       "uniekid                                                                         \n",
       "3788741909                    0.0                  0.0                    0.0   \n",
       "\n",
       "            player_Thomas Müller  player_Thomas Vermaelen  \\\n",
       "uniekid                                                     \n",
       "3788741909                   0.0                      0.0   \n",
       "\n",
       "            player_Thorgan Hazard  player_Tihomir Kostadinov  \\\n",
       "uniekid                                                        \n",
       "3788741909                    0.0                        0.0   \n",
       "\n",
       "            player_Tim Sparv  player_Timo Werner  player_Timothy Castagne  \\\n",
       "uniekid                                                                     \n",
       "3788741909               0.0                 0.0                      0.0   \n",
       "\n",
       "            player_Toby Alderweireld  player_Tomáš Holeš  \\\n",
       "uniekid                                                    \n",
       "3788741909                       0.0                 0.0   \n",
       "\n",
       "            player_Tomáš Hubočan  player_Tomáš Kalas  player_Tomáš Pekhart  \\\n",
       "uniekid                                                                      \n",
       "3788741909                   0.0                 0.0                   0.0   \n",
       "\n",
       "            player_Tomáš Souček  player_Tomáš Suslov  player_Tomáš Vaclík  \\\n",
       "uniekid                                                                     \n",
       "3788741909                  0.0                  0.0                  0.0   \n",
       "\n",
       "            player_Toni Kroos  player_Tyler Roberts  player_Tymoteusz Puchacz  \\\n",
       "uniekid                                                                         \n",
       "3788741909                0.0                   0.0                       0.0   \n",
       "\n",
       "            player_Tyrone Mings  player_Unai Simón Mendibil  \\\n",
       "uniekid                                                       \n",
       "3788741909                  0.0                         0.0   \n",
       "\n",
       "            player_Uğurcan Çakır  player_Valentino Lazaro  \\\n",
       "uniekid                                                     \n",
       "3788741909                   0.0                      0.0   \n",
       "\n",
       "            player_Victor Nilsson Lindelöf  player_Viktor Claesson  \\\n",
       "uniekid                                                              \n",
       "3788741909                             0.0                     0.0   \n",
       "\n",
       "            player_Viktor Tsygankov  player_Visar Musliu  \\\n",
       "uniekid                                                    \n",
       "3788741909                      0.0                  0.0   \n",
       "\n",
       "            player_Vitalii Mykolenko  player_Vladimír Coufal  \\\n",
       "uniekid                                                        \n",
       "3788741909                       0.0                     0.0   \n",
       "\n",
       "            player_Vladimír Darida  player_Vladimír Weiss  \\\n",
       "uniekid                                                     \n",
       "3788741909                     0.0                    0.0   \n",
       "\n",
       "            player_Vlatko Stojanovski  player_Vyacheslav Karavaev  \\\n",
       "uniekid                                                             \n",
       "3788741909                        0.0                         0.0   \n",
       "\n",
       "            player_Willi Orban  player_William Silva de Carvalho  \\\n",
       "uniekid                                                            \n",
       "3788741909                 0.0                               0.0   \n",
       "\n",
       "            player_Wojciech Szczęsny  player_Wout Weghorst  \\\n",
       "uniekid                                                      \n",
       "3788741909                       0.0                   0.0   \n",
       "\n",
       "            player_Xaver Schlager  player_Xherdan Shaqiri  player_Yann Sommer  \\\n",
       "uniekid                                                                         \n",
       "3788741909                    0.0                     0.0                 0.0   \n",
       "\n",
       "            player_Yannick Ferreira Carrasco  player_Youri Tielemans  \\\n",
       "uniekid                                                                \n",
       "3788741909                               0.0                     0.0   \n",
       "\n",
       "            player_Yuri Zhirkov  player_Yussuf Yurary Poulsen  \\\n",
       "uniekid                                                         \n",
       "3788741909                  0.0                           0.0   \n",
       "\n",
       "            player_Yusuf Yazıcı  player_Ádám Nagy  player_Ádám Szalai  \\\n",
       "uniekid                                                                 \n",
       "3788741909                  0.0               0.0                 0.0   \n",
       "\n",
       "            player_Álvaro Borja Morata Martín  \\\n",
       "uniekid                                         \n",
       "3788741909                                0.0   \n",
       "\n",
       "            player_İbrahim Halil Dervişoğlu  player_İlkay Gündoğan  \\\n",
       "uniekid                                                              \n",
       "3788741909                              0.0                    0.0   \n",
       "\n",
       "            player_İrfan Can Kahveci  player_Ľubomír Šatka  \\\n",
       "uniekid                                                      \n",
       "3788741909                       0.0                   0.0   \n",
       "\n",
       "            player_Šime Vrsaljko  position_Center Attacking Midfield  \\\n",
       "uniekid                                                                \n",
       "3788741909                   0.0                                 0.0   \n",
       "\n",
       "            position_Center Back  position_Center Defensive Midfield  \\\n",
       "uniekid                                                                \n",
       "3788741909                   0.0                                 1.0   \n",
       "\n",
       "            position_Center Forward  position_Goalkeeper  \\\n",
       "uniekid                                                    \n",
       "3788741909                      1.0                  0.0   \n",
       "\n",
       "            position_Left Attacking Midfield  position_Left Back  \\\n",
       "uniekid                                                            \n",
       "3788741909                               0.0                 1.0   \n",
       "\n",
       "            position_Left Center Back  position_Left Center Forward  \\\n",
       "uniekid                                                               \n",
       "3788741909                        1.0                           0.0   \n",
       "\n",
       "            position_Left Center Midfield  position_Left Defensive Midfield  \\\n",
       "uniekid                                                                       \n",
       "3788741909                            0.0                               0.0   \n",
       "\n",
       "            position_Left Midfield  position_Left Wing  \\\n",
       "uniekid                                                  \n",
       "3788741909                     1.0                 0.0   \n",
       "\n",
       "            position_Left Wing Back  position_Right Attacking Midfield  \\\n",
       "uniekid                                                                  \n",
       "3788741909                      0.0                                0.0   \n",
       "\n",
       "            position_Right Back  position_Right Center Back  \\\n",
       "uniekid                                                       \n",
       "3788741909                  1.0                         1.0   \n",
       "\n",
       "            position_Right Center Forward  position_Right Center Midfield  \\\n",
       "uniekid                                                                     \n",
       "3788741909                            0.0                             1.0   \n",
       "\n",
       "            position_Right Defensive Midfield  position_Right Midfield  \\\n",
       "uniekid                                                                  \n",
       "3788741909                                0.0                      1.0   \n",
       "\n",
       "            position_Right Wing  position_Right Wing Back  \\\n",
       "uniekid                                                     \n",
       "3788741909                  1.0                       0.0   \n",
       "\n",
       "            play_pattern_From Corner  play_pattern_From Counter  \\\n",
       "uniekid                                                           \n",
       "3788741909                       0.0                        0.0   \n",
       "\n",
       "            play_pattern_From Free Kick  play_pattern_From Goal Kick  \\\n",
       "uniekid                                                                \n",
       "3788741909                          1.0                          0.0   \n",
       "\n",
       "            play_pattern_From Keeper  play_pattern_From Kick Off  \\\n",
       "uniekid                                                            \n",
       "3788741909                       0.0                         0.0   \n",
       "\n",
       "            play_pattern_From Throw In  play_pattern_Other  \\\n",
       "uniekid                                                      \n",
       "3788741909                         1.0                 0.0   \n",
       "\n",
       "            play_pattern_Regular Play  type_50/50  type_Ball Receipt*  \\\n",
       "uniekid                                                                 \n",
       "3788741909                        0.0         0.0                 1.0   \n",
       "\n",
       "            type_Ball Recovery  type_Block  type_Carry  type_Clearance  \\\n",
       "uniekid                                                                  \n",
       "3788741909                 0.0         0.0         1.0             1.0   \n",
       "\n",
       "            type_Dispossessed  type_Dribble  type_Dribbled Past  type_Duel  \\\n",
       "uniekid                                                                      \n",
       "3788741909                1.0           0.0                 0.0        1.0   \n",
       "\n",
       "            type_Error  type_Foul Committed  type_Foul Won  type_Goal Keeper  \\\n",
       "uniekid                                                                        \n",
       "3788741909         0.0                  1.0            1.0               0.0   \n",
       "\n",
       "            type_Interception  type_Miscontrol  type_Offside  \\\n",
       "uniekid                                                        \n",
       "3788741909                0.0              0.0           0.0   \n",
       "\n",
       "            type_Own Goal Against  type_Own Goal For  type_Pass  \\\n",
       "uniekid                                                           \n",
       "3788741909                    0.0                0.0        1.0   \n",
       "\n",
       "            type_Pressure  type_Referee Ball-Drop  type_Shield  type_Shot  \n",
       "uniekid                                                                    \n",
       "3788741909            1.0                     0.0          0.0        0.0  "
      ]
     },
     "execution_count": 61,
     "metadata": {},
     "output_type": "execute_result"
    }
   ],
   "source": [
    "df.head(1)"
   ]
  },
  {
   "cell_type": "markdown",
   "id": "736c3f3c-47f2-459c-a07f-69fed415e846",
   "metadata": {
    "tags": []
   },
   "source": [
    "#### create train and testset"
   ]
  },
  {
   "cell_type": "code",
   "execution_count": 62,
   "id": "549678f9-0395-489e-af3b-39f3358ab80f",
   "metadata": {},
   "outputs": [],
   "source": [
    "# algemene train en testset\n",
    "X = df.drop('goal', axis=1)\n",
    "y = df['goal']\n",
    "\n",
    "X_train, X_test, y_train, y_test = train_test_split(X, y,random_state=0)"
   ]
  },
  {
   "cell_type": "code",
   "execution_count": 63,
   "id": "a2dcd674-c599-4a78-9ee7-734957af1322",
   "metadata": {},
   "outputs": [
    {
     "data": {
      "text/plain": [
       "0.0    0.982977\n",
       "1.0    0.017023\n",
       "Name: goal, dtype: float64"
      ]
     },
     "execution_count": 63,
     "metadata": {},
     "output_type": "execute_result"
    }
   ],
   "source": [
    "y_test.value_counts(normalize=True)"
   ]
  },
  {
   "cell_type": "code",
   "execution_count": 64,
   "id": "18fd5bbe-b26f-4c30-bff5-bf6730abe38b",
   "metadata": {},
   "outputs": [],
   "source": [
    "# verschillende balaning technieken testen met verschillende strategy's"
   ]
  },
  {
   "cell_type": "code",
   "execution_count": 65,
   "id": "d1033fc0-2501-40cf-bd2e-da32e8cff04d",
   "metadata": {},
   "outputs": [],
   "source": [
    "# strategies = np.linspace(0,1,10)    #1 = 50/50 distribution between 0 and 1 class, 0.5 = 66 (0) and 33 (1) distribution\n",
    "# strategy = 0.25\n",
    "# strategy = 0.5\n",
    "# strategy = 0.75\n",
    "strategy = 0.85\n",
    "# strategy = 1"
   ]
  },
  {
   "cell_type": "code",
   "execution_count": 66,
   "id": "4ad42927-4179-4a98-85aa-90264268af5d",
   "metadata": {},
   "outputs": [],
   "source": [
    "rus = RandomUnderSampler(random_state=0,sampling_strategy=strategy)    # remove 0 class\n",
    "ros = RandomOverSampler(random_state =0, sampling_strategy=strategy)   # add copies 1 class\n",
    "smote = SMOTE(random_state =0,sampling_strategy=strategy)              # add synthetic 1 class\n",
    "sme = SMOTEENN(random_state=0, sampling_strategy=strategy)             # https://towardsdatascience.com/imbalanced-classification-in-python-smote-enn-method-db5db06b8d50\n",
    "\n",
    "X_train_rus, y_train_rus = rus.fit_resample(X_train, y_train)\n",
    "X_train_ros, y_train_ros = ros.fit_resample(X_train, y_train)\n",
    "X_train_smote, y_train_smote = smote.fit_resample(X_train, y_train)\n",
    "X_train_smoteENN, y_train_smoteENN = sme.fit_resample(X_train, y_train)"
   ]
  },
  {
   "cell_type": "code",
   "execution_count": 67,
   "id": "e9ca3611-7b14-4448-91fa-ecc0b3f01594",
   "metadata": {},
   "outputs": [
    {
     "data": {
      "text/plain": [
       "0.0    0.539095\n",
       "1.0    0.460905\n",
       "Name: goal, dtype: float64"
      ]
     },
     "execution_count": 67,
     "metadata": {},
     "output_type": "execute_result"
    }
   ],
   "source": [
    "y_train_rus.value_counts(normalize=True)  "
   ]
  },
  {
   "cell_type": "code",
   "execution_count": 68,
   "id": "21ef8935-dffb-47b4-a239-7a74a4ecb6eb",
   "metadata": {},
   "outputs": [
    {
     "data": {
      "text/plain": [
       "0.0    0.54055\n",
       "1.0    0.45945\n",
       "Name: goal, dtype: float64"
      ]
     },
     "execution_count": 68,
     "metadata": {},
     "output_type": "execute_result"
    }
   ],
   "source": [
    "y_train_ros.value_counts(normalize=True)  "
   ]
  },
  {
   "cell_type": "code",
   "execution_count": 69,
   "id": "ce6a8064-074f-443a-8634-e5ea12fa1d56",
   "metadata": {},
   "outputs": [
    {
     "data": {
      "text/plain": [
       "0.0    0.54055\n",
       "1.0    0.45945\n",
       "Name: goal, dtype: float64"
      ]
     },
     "execution_count": 69,
     "metadata": {},
     "output_type": "execute_result"
    }
   ],
   "source": [
    "y_train_smote.value_counts(normalize=True)"
   ]
  },
  {
   "cell_type": "code",
   "execution_count": 70,
   "id": "ffd81e58-c3f4-4981-a5a2-d89c690e0601",
   "metadata": {},
   "outputs": [
    {
     "data": {
      "text/plain": [
       "1.0    0.540386\n",
       "0.0    0.459614\n",
       "Name: goal, dtype: float64"
      ]
     },
     "execution_count": 70,
     "metadata": {},
     "output_type": "execute_result"
    }
   ],
   "source": [
    "y_train_smoteENN.value_counts(normalize=True)  "
   ]
  },
  {
   "cell_type": "code",
   "execution_count": 71,
   "id": "04082a0a-ca85-482c-8286-a84c85c1d30b",
   "metadata": {},
   "outputs": [],
   "source": [
    "X_train_tot = [X_train, X_train_rus, X_train_ros, X_train_smote,X_train_smoteENN]\n",
    "y_train_tot = [y_train, y_train_rus, y_train_ros, y_train_smote, y_train_smoteENN]\n",
    "sampling_technique = ['nothing', 'undersampling' ,'oversampling' , 'smote' , 'smoteENN']"
   ]
  },
  {
   "cell_type": "markdown",
   "id": "b4766897-f6de-4eb0-9f4c-19c72a19d8b3",
   "metadata": {
    "tags": []
   },
   "source": [
    "#### create model"
   ]
  },
  {
   "cell_type": "code",
   "execution_count": 48,
   "id": "fdbfacce-56a9-4145-af52-53e2c32be5e3",
   "metadata": {},
   "outputs": [],
   "source": [
    "models = []\n",
    "\n",
    "models.append((\"LogisticRegression\",LogisticRegression(random_state=42)))\n",
    "models.append((\"SVC\",SVC(random_state=42)))\n",
    "# models.append((\"LinearSVC\",LinearSVC(random_state=42)))\n",
    "models.append((\"RandomForest\",RandomForestClassifier(random_state=42)))\n",
    "models.append((\"BalancedBagging\", BalancedBaggingClassifier(random_state=42)))\n",
    "models.append((\"BalancedRandom\", BalancedRandomForestClassifier(max_depth=2, random_state=42)))"
   ]
  },
  {
   "cell_type": "code",
   "execution_count": 49,
   "id": "bf56d468-2f77-4d0e-82ca-628d6d64db6a",
   "metadata": {},
   "outputs": [
    {
     "name": "stdout",
     "output_type": "stream",
     "text": [
      "volgende ronde met een bepaalde sampling technique: nothing:\n",
      "LogisticRegression\n",
      "[0.97505938 0.97743468 0.97425743]\n",
      "with the following confusion matrix: \n"
     ]
    },
    {
     "data": {
      "image/png": "[encoded data removed]",
      "text/plain": [
       "<Figure size 432x288 with 2 Axes>"
      ]
     },
     "metadata": {
      "needs_background": "light"
     },
     "output_type": "display_data"
    },
    {
     "name": "stdout",
     "output_type": "stream",
     "text": [
      "volgende ronde met een bepaalde sampling technique: undersampling:\n",
      "LogisticRegression\n",
      "[0.45679012 0.55555556 0.54320988]\n",
      "with the following confusion matrix: \n"
     ]
    },
    {
     "data": {
      "image/png": "[encoded data removed]",
      "text/plain": [
       "<Figure size 432x288 with 2 Axes>"
      ]
     },
     "metadata": {
      "needs_background": "light"
     },
     "output_type": "display_data"
    },
    {
     "name": "stdout",
     "output_type": "stream",
     "text": [
      "volgende ronde met een bepaalde sampling technique: oversampling:\n",
      "LogisticRegression\n",
      "[0.88097307 0.8865957  0.87812296]\n",
      "with the following confusion matrix: \n"
     ]
    },
    {
     "data": {
      "image/png": "[encoded data removed]",
      "text/plain": [
       "<Figure size 432x288 with 2 Axes>"
      ]
     },
     "metadata": {
      "needs_background": "light"
     },
     "output_type": "display_data"
    },
    {
     "name": "stdout",
     "output_type": "stream",
     "text": [
      "volgende ronde met een bepaalde sampling technique: smote:\n",
      "LogisticRegression\n",
      "[0.87858384 0.88203346 0.87573322]\n",
      "with the following confusion matrix: \n"
     ]
    },
    {
     "data": {
      "image/png": "[encoded data removed]",
      "text/plain": [
       "<Figure size 432x288 with 2 Axes>"
      ]
     },
     "metadata": {
      "needs_background": "light"
     },
     "output_type": "display_data"
    },
    {
     "name": "stdout",
     "output_type": "stream",
     "text": [
      "volgende ronde met een bepaalde sampling technique: smoteENN:\n",
      "LogisticRegression\n",
      "[0.96991736 0.97322314 0.97454545]\n",
      "with the following confusion matrix: \n"
     ]
    },
    {
     "data": {
      "image/png": "[encoded data removed]",
      "text/plain": [
       "<Figure size 432x288 with 2 Axes>"
      ]
     },
     "metadata": {
      "needs_background": "light"
     },
     "output_type": "display_data"
    },
    {
     "name": "stdout",
     "output_type": "stream",
     "text": [
      "volgende ronde met een bepaalde sampling technique: nothing:\n",
      "SVC\n",
      "[0.98535234 0.98495645 0.98534653]\n",
      "with the following confusion matrix: \n"
     ]
    },
    {
     "data": {
      "image/png": "[encoded data removed]",
      "text/plain": [
       "<Figure size 432x288 with 2 Axes>"
      ]
     },
     "metadata": {
      "needs_background": "light"
     },
     "output_type": "display_data"
    },
    {
     "name": "stdout",
     "output_type": "stream",
     "text": [
      "volgende ronde met een bepaalde sampling technique: undersampling:\n",
      "SVC\n",
      "[0.50617284 0.5308642  0.5308642 ]\n",
      "with the following confusion matrix: \n"
     ]
    },
    {
     "data": {
      "image/png": "[encoded data removed]",
      "text/plain": [
       "<Figure size 432x288 with 2 Axes>"
      ]
     },
     "metadata": {
      "needs_background": "light"
     },
     "output_type": "display_data"
    },
    {
     "name": "stdout",
     "output_type": "stream",
     "text": [
      "volgende ronde met een bepaalde sampling technique: oversampling:\n",
      "SVC\n",
      "[0.9016073  0.90028242 0.89224419]\n",
      "with the following confusion matrix: \n"
     ]
    },
    {
     "data": {
      "image/png": "[encoded data removed]",
      "text/plain": [
       "<Figure size 432x288 with 2 Axes>"
      ]
     },
     "metadata": {
      "needs_background": "light"
     },
     "output_type": "display_data"
    },
    {
     "name": "stdout",
     "output_type": "stream",
     "text": [
      "volgende ronde met een bepaalde sampling technique: smote:\n",
      "SVC\n",
      "[0.88683753 0.87442972 0.88246796]\n",
      "with the following confusion matrix: \n"
     ]
    },
    {
     "data": {
      "image/png": "[encoded data removed]",
      "text/plain": [
       "<Figure size 432x288 with 2 Axes>"
      ]
     },
     "metadata": {
      "needs_background": "light"
     },
     "output_type": "display_data"
    },
    {
     "name": "stdout",
     "output_type": "stream",
     "text": [
      "volgende ronde met een bepaalde sampling technique: smoteENN:\n",
      "SVC\n",
      "[0.9768595  0.96727273 0.9861157 ]\n",
      "with the following confusion matrix: \n"
     ]
    },
    {
     "data": {
      "image/png": "[encoded data removed]",
      "text/plain": [
       "<Figure size 432x288 with 2 Axes>"
      ]
     },
     "metadata": {
      "needs_background": "light"
     },
     "output_type": "display_data"
    },
    {
     "name": "stdout",
     "output_type": "stream",
     "text": [
      "volgende ronde met een bepaalde sampling technique: nothing:\n",
      "RandomForest\n",
      "[0.98535234 0.98495645 0.98534653]\n",
      "with the following confusion matrix: \n"
     ]
    },
    {
     "data": {
      "image/png": "[encoded data removed]",
      "text/plain": [
       "<Figure size 432x288 with 2 Axes>"
      ]
     },
     "metadata": {
      "needs_background": "light"
     },
     "output_type": "display_data"
    },
    {
     "name": "stdout",
     "output_type": "stream",
     "text": [
      "volgende ronde met een bepaalde sampling technique: undersampling:\n",
      "RandomForest\n",
      "[0.60493827 0.50617284 0.49382716]\n",
      "with the following confusion matrix: \n"
     ]
    },
    {
     "data": {
      "image/png": "[encoded data removed]",
      "text/plain": [
       "<Figure size 432x288 with 2 Axes>"
      ]
     },
     "metadata": {
      "needs_background": "light"
     },
     "output_type": "display_data"
    },
    {
     "name": "stdout",
     "output_type": "stream",
     "text": [
      "volgende ronde met een bepaalde sampling technique: oversampling:\n",
      "RandomForest\n",
      "[0.90595135 0.90614816 0.89876168]\n",
      "with the following confusion matrix: \n"
     ]
    },
    {
     "data": {
      "image/png": "[encoded data removed]",
      "text/plain": [
       "<Figure size 432x288 with 2 Axes>"
      ]
     },
     "metadata": {
      "needs_background": "light"
     },
     "output_type": "display_data"
    },
    {
     "name": "stdout",
     "output_type": "stream",
     "text": [
      "volgende ronde met een bepaalde sampling technique: smote:\n",
      "RandomForest\n",
      "[0.89617724 0.91657615 0.91071041]\n",
      "with the following confusion matrix: \n"
     ]
    },
    {
     "data": {
      "image/png": "[encoded data removed]",
      "text/plain": [
       "<Figure size 432x288 with 2 Axes>"
      ]
     },
     "metadata": {
      "needs_background": "light"
     },
     "output_type": "display_data"
    },
    {
     "name": "stdout",
     "output_type": "stream",
     "text": [
      "volgende ronde met een bepaalde sampling technique: smoteENN:\n",
      "RandomForest\n",
      "[0.97652893 1.         1.        ]\n",
      "with the following confusion matrix: \n"
     ]
    },
    {
     "data": {
      "image/png": "[encoded data removed]",
      "text/plain": [
       "<Figure size 432x288 with 2 Axes>"
      ]
     },
     "metadata": {
      "needs_background": "light"
     },
     "output_type": "display_data"
    },
    {
     "name": "stdout",
     "output_type": "stream",
     "text": [
      "volgende ronde met een bepaalde sampling technique: nothing:\n",
      "BalancedBagging\n",
      "[0.82343626 0.61916073 0.62970297]\n",
      "with the following confusion matrix: \n"
     ]
    },
    {
     "data": {
      "image/png": "[encoded data removed]",
      "text/plain": [
       "<Figure size 432x288 with 2 Axes>"
      ]
     },
     "metadata": {
      "needs_background": "light"
     },
     "output_type": "display_data"
    },
    {
     "name": "stdout",
     "output_type": "stream",
     "text": [
      "volgende ronde met een bepaalde sampling technique: undersampling:\n",
      "BalancedBagging\n",
      "[0.59259259 0.49382716 0.5308642 ]\n",
      "with the following confusion matrix: \n"
     ]
    },
    {
     "data": {
      "image/png": "[encoded data removed]",
      "text/plain": [
       "<Figure size 432x288 with 2 Axes>"
      ]
     },
     "metadata": {
      "needs_background": "light"
     },
     "output_type": "display_data"
    },
    {
     "name": "stdout",
     "output_type": "stream",
     "text": [
      "volgende ronde met een bepaalde sampling technique: oversampling:\n",
      "BalancedBagging\n",
      "[0.9018245  0.90245492 0.89289594]\n",
      "with the following confusion matrix: \n"
     ]
    },
    {
     "data": {
      "image/png": "[encoded data removed]",
      "text/plain": [
       "<Figure size 432x288 with 2 Axes>"
      ]
     },
     "metadata": {
      "needs_background": "light"
     },
     "output_type": "display_data"
    },
    {
     "name": "stdout",
     "output_type": "stream",
     "text": [
      "volgende ronde met een bepaalde sampling technique: smote:\n",
      "BalancedBagging\n",
      "[0.89617724 0.91223115 0.90875516]\n",
      "with the following confusion matrix: \n"
     ]
    },
    {
     "data": {
      "image/png": "[encoded data removed]",
      "text/plain": [
       "<Figure size 432x288 with 2 Axes>"
      ]
     },
     "metadata": {
      "needs_background": "light"
     },
     "output_type": "display_data"
    },
    {
     "name": "stdout",
     "output_type": "stream",
     "text": [
      "volgende ronde met een bepaalde sampling technique: smoteENN:\n",
      "BalancedBagging\n",
      "[0.97355372 0.99867769 0.99735537]\n",
      "with the following confusion matrix: \n"
     ]
    },
    {
     "data": {
      "image/png": "[encoded data removed]",
      "text/plain": [
       "<Figure size 432x288 with 2 Axes>"
      ]
     },
     "metadata": {
      "needs_background": "light"
     },
     "output_type": "display_data"
    },
    {
     "name": "stdout",
     "output_type": "stream",
     "text": [
      "volgende ronde met een bepaalde sampling technique: nothing:\n",
      "BalancedRandom\n",
      "[0.29889153 0.2810768  0.30217822]\n",
      "with the following confusion matrix: \n"
     ]
    },
    {
     "data": {
      "image/png": "[encoded data removed]",
      "text/plain": [
       "<Figure size 432x288 with 2 Axes>"
      ]
     },
     "metadata": {
      "needs_background": "light"
     },
     "output_type": "display_data"
    },
    {
     "name": "stdout",
     "output_type": "stream",
     "text": [
      "volgende ronde met een bepaalde sampling technique: undersampling:\n",
      "BalancedRandom\n",
      "[0.4691358  0.50617284 0.45679012]\n",
      "with the following confusion matrix: \n"
     ]
    },
    {
     "data": {
      "image/png": "[encoded data removed]",
      "text/plain": [
       "<Figure size 432x288 with 2 Axes>"
      ]
     },
     "metadata": {
      "needs_background": "light"
     },
     "output_type": "display_data"
    },
    {
     "name": "stdout",
     "output_type": "stream",
     "text": [
      "volgende ronde met een bepaalde sampling technique: oversampling:\n",
      "BalancedRandom\n",
      "[0.6874457  0.67868781 0.67238757]\n",
      "with the following confusion matrix: \n"
     ]
    },
    {
     "data": {
      "image/png": "[encoded data removed]",
      "text/plain": [
       "<Figure size 432x288 with 2 Axes>"
      ]
     },
     "metadata": {
      "needs_background": "light"
     },
     "output_type": "display_data"
    },
    {
     "name": "stdout",
     "output_type": "stream",
     "text": [
      "volgende ronde met een bepaalde sampling technique: smote:\n",
      "BalancedRandom\n",
      "[0.75412685 0.73473821 0.74321095]\n",
      "with the following confusion matrix: \n"
     ]
    },
    {
     "data": {
      "image/png": "[encoded data removed]",
      "text/plain": [
       "<Figure size 432x288 with 2 Axes>"
      ]
     },
     "metadata": {
      "needs_background": "light"
     },
     "output_type": "display_data"
    },
    {
     "name": "stdout",
     "output_type": "stream",
     "text": [
      "volgende ronde met een bepaalde sampling technique: smoteENN:\n",
      "BalancedRandom\n",
      "[0.82214876 0.82710744 0.84429752]\n",
      "with the following confusion matrix: \n"
     ]
    },
    {
     "data": {
      "image/png": "[encoded data removed]",
      "text/plain": [
       "<Figure size 432x288 with 2 Axes>"
      ]
     },
     "metadata": {
      "needs_background": "light"
     },
     "output_type": "display_data"
    }
   ],
   "source": [
    "#sampling 0.85\n",
    "results = []\n",
    "techniques = []\n",
    "names = []\n",
    "train = []\n",
    "\n",
    "for name, model in models:\n",
    "    for technique, x, y in zip(sampling_technique, X_train_tot, y_train_tot):\n",
    "        mod = make_pipeline(StandardScaler(), model)\n",
    "        result = cross_val_score(mod, x, y,  cv=3)\n",
    "        mod.fit(x, y)            \n",
    "        names.append(name)\n",
    "        results.append(result)\n",
    "        techniques.append(technique)\n",
    "        print(f'volgende ronde met een bepaalde sampling technique: {technique}:')\n",
    "        print(name)\n",
    "        print(result)\n",
    "        print('with the following confusion matrix: ')\n",
    "        plot_confusion_matrix(mod, X_test, y_test)  \n",
    "        plt.show()"
   ]
  },
  {
   "cell_type": "code",
   "execution_count": 40,
   "id": "e0f54f38-9bcd-44b5-9bc9-8f106c0bca7e",
   "metadata": {
    "tags": []
   },
   "outputs": [
    {
     "name": "stdout",
     "output_type": "stream",
     "text": [
      "volgende ronde met een bepaalde sampling technique: nothing:\n",
      "LogisticRegression\n",
      "[0.97505938 0.97743468 0.97425743]\n",
      "with the following confusion matrix: \n"
     ]
    },
    {
     "data": {
      "image/png": "[encoded data removed]",
      "text/plain": [
       "<Figure size 432x288 with 2 Axes>"
      ]
     },
     "metadata": {
      "needs_background": "light"
     },
     "output_type": "display_data"
    },
    {
     "name": "stdout",
     "output_type": "stream",
     "text": [
      "volgende ronde met een bepaalde sampling technique: undersampling:\n",
      "LogisticRegression\n",
      "[0.50666667 0.50666667 0.5       ]\n",
      "with the following confusion matrix: \n"
     ]
    },
    {
     "data": {
      "image/png": "[encoded data removed]",
      "text/plain": [
       "<Figure size 432x288 with 2 Axes>"
      ]
     },
     "metadata": {
      "needs_background": "light"
     },
     "output_type": "display_data"
    },
    {
     "name": "stdout",
     "output_type": "stream",
     "text": [
      "volgende ronde met een bepaalde sampling technique: oversampling:\n",
      "LogisticRegression\n",
      "[0.88205746 0.88507133 0.86796624]\n",
      "with the following confusion matrix: \n"
     ]
    },
    {
     "data": {
      "image/png": "[encoded data removed]",
      "text/plain": [
       "<Figure size 432x288 with 2 Axes>"
      ]
     },
     "metadata": {
      "needs_background": "light"
     },
     "output_type": "display_data"
    },
    {
     "name": "stdout",
     "output_type": "stream",
     "text": [
      "volgende ronde met een bepaalde sampling technique: smote:\n",
      "LogisticRegression\n",
      "[0.87542696 0.87281495 0.87258842]\n",
      "with the following confusion matrix: \n"
     ]
    },
    {
     "data": {
      "image/png": "[encoded data removed]",
      "text/plain": [
       "<Figure size 432x288 with 2 Axes>"
      ]
     },
     "metadata": {
      "needs_background": "light"
     },
     "output_type": "display_data"
    },
    {
     "name": "stdout",
     "output_type": "stream",
     "text": [
      "volgende ronde met een bepaalde sampling technique: smoteENN:\n",
      "LogisticRegression\n",
      "[0.97213534 0.97782201 0.97753767]\n",
      "with the following confusion matrix: \n"
     ]
    },
    {
     "data": {
      "image/png": "[encoded data removed]",
      "text/plain": [
       "<Figure size 432x288 with 2 Axes>"
      ]
     },
     "metadata": {
      "needs_background": "light"
     },
     "output_type": "display_data"
    },
    {
     "name": "stdout",
     "output_type": "stream",
     "text": [
      "volgende ronde met een bepaalde sampling technique: nothing:\n",
      "SVC\n",
      "[0.98535234 0.98495645 0.98534653]\n",
      "with the following confusion matrix: \n"
     ]
    },
    {
     "data": {
      "image/png": "[encoded data removed]",
      "text/plain": [
       "<Figure size 432x288 with 2 Axes>"
      ]
     },
     "metadata": {
      "needs_background": "light"
     },
     "output_type": "display_data"
    },
    {
     "name": "stdout",
     "output_type": "stream",
     "text": [
      "volgende ronde met een bepaalde sampling technique: undersampling:\n",
      "SVC\n",
      "[0.54666667 0.61333333 0.54054054]\n",
      "with the following confusion matrix: \n"
     ]
    },
    {
     "data": {
      "image/png": "[encoded data removed]",
      "text/plain": [
       "<Figure size 432x288 with 2 Axes>"
      ]
     },
     "metadata": {
      "needs_background": "light"
     },
     "output_type": "display_data"
    },
    {
     "name": "stdout",
     "output_type": "stream",
     "text": [
      "volgende ronde met een bepaalde sampling technique: oversampling:\n",
      "SVC\n",
      "[0.90114527 0.88386578 0.88223473]\n",
      "with the following confusion matrix: \n"
     ]
    },
    {
     "data": {
      "image/png": "[encoded data removed]",
      "text/plain": [
       "<Figure size 432x288 with 2 Axes>"
      ]
     },
     "metadata": {
      "needs_background": "light"
     },
     "output_type": "display_data"
    },
    {
     "name": "stdout",
     "output_type": "stream",
     "text": [
      "volgende ronde met een bepaalde sampling technique: smote:\n",
      "SVC\n",
      "[0.89531846 0.88446856 0.88605305]\n",
      "with the following confusion matrix: \n"
     ]
    },
    {
     "data": {
      "image/png": "[encoded data removed]",
      "text/plain": [
       "<Figure size 432x288 with 2 Axes>"
      ]
     },
     "metadata": {
      "needs_background": "light"
     },
     "output_type": "display_data"
    },
    {
     "name": "stdout",
     "output_type": "stream",
     "text": [
      "volgende ronde met een bepaalde sampling technique: smoteENN:\n",
      "SVC\n",
      "[0.97952801 0.97241968 0.97725334]\n",
      "with the following confusion matrix: \n"
     ]
    },
    {
     "data": {
      "image/png": "[encoded data removed]",
      "text/plain": [
       "<Figure size 432x288 with 2 Axes>"
      ]
     },
     "metadata": {
      "needs_background": "light"
     },
     "output_type": "display_data"
    },
    {
     "name": "stdout",
     "output_type": "stream",
     "text": [
      "volgende ronde met een bepaalde sampling technique: nothing:\n",
      "RandomForest\n",
      "[0.98535234 0.98495645 0.98534653]\n",
      "with the following confusion matrix: \n"
     ]
    },
    {
     "data": {
      "image/png": "[encoded data removed]",
      "text/plain": [
       "<Figure size 432x288 with 2 Axes>"
      ]
     },
     "metadata": {
      "needs_background": "light"
     },
     "output_type": "display_data"
    },
    {
     "name": "stdout",
     "output_type": "stream",
     "text": [
      "volgende ronde met een bepaalde sampling technique: undersampling:\n",
      "RandomForest\n",
      "[0.52       0.50666667 0.51351351]\n",
      "with the following confusion matrix: \n"
     ]
    },
    {
     "data": {
      "image/png": "[encoded data removed]",
      "text/plain": [
       "<Figure size 432x288 with 2 Axes>"
      ]
     },
     "metadata": {
      "needs_background": "light"
     },
     "output_type": "display_data"
    },
    {
     "name": "stdout",
     "output_type": "stream",
     "text": [
      "volgende ronde met een bepaalde sampling technique: oversampling:\n",
      "RandomForest\n",
      "[0.90516375 0.90255174 0.88826367]\n",
      "with the following confusion matrix: \n"
     ]
    },
    {
     "data": {
      "image/png": "[encoded data removed]",
      "text/plain": [
       "<Figure size 432x288 with 2 Axes>"
      ]
     },
     "metadata": {
      "needs_background": "light"
     },
     "output_type": "display_data"
    },
    {
     "name": "stdout",
     "output_type": "stream",
     "text": [
      "volgende ronde met een bepaalde sampling technique: smote:\n",
      "RandomForest\n",
      "[0.89290737 0.91561181 0.9017283 ]\n",
      "with the following confusion matrix: \n"
     ]
    },
    {
     "data": {
      "image/png": "[encoded data removed]",
      "text/plain": [
       "<Figure size 432x288 with 2 Axes>"
      ]
     },
     "metadata": {
      "needs_background": "light"
     },
     "output_type": "display_data"
    },
    {
     "name": "stdout",
     "output_type": "stream",
     "text": [
      "volgende ronde met een bepaalde sampling technique: smoteENN:\n",
      "RandomForest\n",
      "[0.97952801 1.         1.        ]\n",
      "with the following confusion matrix: \n"
     ]
    },
    {
     "data": {
      "image/png": "[encoded data removed]",
      "text/plain": [
       "<Figure size 432x288 with 2 Axes>"
      ]
     },
     "metadata": {
      "needs_background": "light"
     },
     "output_type": "display_data"
    },
    {
     "name": "stdout",
     "output_type": "stream",
     "text": [
      "volgende ronde met een bepaalde sampling technique: nothing:\n",
      "BalancedBagging\n",
      "[0.82343626 0.61916073 0.62970297]\n",
      "with the following confusion matrix: \n"
     ]
    },
    {
     "data": {
      "image/png": "[encoded data removed]",
      "text/plain": [
       "<Figure size 432x288 with 2 Axes>"
      ]
     },
     "metadata": {
      "needs_background": "light"
     },
     "output_type": "display_data"
    },
    {
     "name": "stdout",
     "output_type": "stream",
     "text": [
      "volgende ronde met een bepaalde sampling technique: undersampling:\n",
      "BalancedBagging\n",
      "[0.50666667 0.48       0.40540541]\n",
      "with the following confusion matrix: \n"
     ]
    },
    {
     "data": {
      "image/png": "[encoded data removed]",
      "text/plain": [
       "<Figure size 432x288 with 2 Axes>"
      ]
     },
     "metadata": {
      "needs_background": "light"
     },
     "output_type": "display_data"
    },
    {
     "name": "stdout",
     "output_type": "stream",
     "text": [
      "volgende ronde met een bepaalde sampling technique: oversampling:\n",
      "BalancedBagging\n",
      "[0.90255174 0.89933695 0.8818328 ]\n",
      "with the following confusion matrix: \n"
     ]
    },
    {
     "data": {
      "image/png": "[encoded data removed]",
      "text/plain": [
       "<Figure size 432x288 with 2 Axes>"
      ]
     },
     "metadata": {
      "needs_background": "light"
     },
     "output_type": "display_data"
    },
    {
     "name": "stdout",
     "output_type": "stream",
     "text": [
      "volgende ronde met een bepaalde sampling technique: smote:\n",
      "BalancedBagging\n",
      "[0.893912   0.9138035  0.90052251]\n",
      "with the following confusion matrix: \n"
     ]
    },
    {
     "data": {
      "image/png": "[encoded data removed]",
      "text/plain": [
       "<Figure size 432x288 with 2 Axes>"
      ]
     },
     "metadata": {
      "needs_background": "light"
     },
     "output_type": "display_data"
    },
    {
     "name": "stdout",
     "output_type": "stream",
     "text": [
      "volgende ronde met een bepaalde sampling technique: smoteENN:\n",
      "BalancedBagging\n",
      "[0.97924367 0.99857833 0.99687233]\n",
      "with the following confusion matrix: \n"
     ]
    },
    {
     "data": {
      "image/png": "[encoded data removed]",
      "text/plain": [
       "<Figure size 432x288 with 2 Axes>"
      ]
     },
     "metadata": {
      "needs_background": "light"
     },
     "output_type": "display_data"
    },
    {
     "name": "stdout",
     "output_type": "stream",
     "text": [
      "volgende ronde met een bepaalde sampling technique: nothing:\n",
      "BalancedRandom\n",
      "[0.29889153 0.2810768  0.30217822]\n",
      "with the following confusion matrix: \n"
     ]
    },
    {
     "data": {
      "image/png": "[encoded data removed]",
      "text/plain": [
       "<Figure size 432x288 with 2 Axes>"
      ]
     },
     "metadata": {
      "needs_background": "light"
     },
     "output_type": "display_data"
    },
    {
     "name": "stdout",
     "output_type": "stream",
     "text": [
      "volgende ronde met een bepaalde sampling technique: undersampling:\n",
      "BalancedRandom\n",
      "[0.54666667 0.50666667 0.48648649]\n",
      "with the following confusion matrix: \n"
     ]
    },
    {
     "data": {
      "image/png": "[encoded data removed]",
      "text/plain": [
       "<Figure size 432x288 with 2 Axes>"
      ]
     },
     "metadata": {
      "needs_background": "light"
     },
     "output_type": "display_data"
    },
    {
     "name": "stdout",
     "output_type": "stream",
     "text": [
      "volgende ronde met een bepaalde sampling technique: oversampling:\n",
      "BalancedRandom\n",
      "[0.70102471 0.71046815 0.69815113]\n",
      "with the following confusion matrix: \n"
     ]
    },
    {
     "data": {
      "image/png": "[encoded data removed]",
      "text/plain": [
       "<Figure size 432x288 with 2 Axes>"
      ]
     },
     "metadata": {
      "needs_background": "light"
     },
     "output_type": "display_data"
    },
    {
     "name": "stdout",
     "output_type": "stream",
     "text": [
      "volgende ronde met een bepaalde sampling technique: smote:\n",
      "BalancedRandom\n",
      "[0.74663452 0.72935503 0.7562299 ]\n",
      "with the following confusion matrix: \n"
     ]
    },
    {
     "data": {
      "image/png": "[encoded data removed]",
      "text/plain": [
       "<Figure size 432x288 with 2 Axes>"
      ]
     },
     "metadata": {
      "needs_background": "light"
     },
     "output_type": "display_data"
    },
    {
     "name": "stdout",
     "output_type": "stream",
     "text": [
      "volgende ronde met een bepaalde sampling technique: smoteENN:\n",
      "BalancedRandom\n",
      "[0.8117714  0.81319306 0.83110606]\n",
      "with the following confusion matrix: \n"
     ]
    },
    {
     "data": {
      "image/png": "[encoded data removed]",
      "text/plain": [
       "<Figure size 432x288 with 2 Axes>"
      ]
     },
     "metadata": {
      "needs_background": "light"
     },
     "output_type": "display_data"
    }
   ],
   "source": [
    "#sampling 1.0\n",
    "results = []\n",
    "techniques = []\n",
    "names = []\n",
    "train = []\n",
    "\n",
    "for name, model in models:\n",
    "    for technique, x, y in zip(sampling_technique, X_train_tot, y_train_tot):\n",
    "        mod = make_pipeline(StandardScaler(), model)\n",
    "        result = cross_val_score(mod, x, y,  cv=3)\n",
    "        mod.fit(x, y)            \n",
    "        names.append(name)\n",
    "        results.append(result)\n",
    "        techniques.append(technique)\n",
    "        print(f'volgende ronde met een bepaalde sampling technique: {technique}:')\n",
    "        print(name)\n",
    "        print(result)\n",
    "        print('with the following confusion matrix: ')\n",
    "        plot_confusion_matrix(mod, X_test, y_test)  \n",
    "        plt.show()"
   ]
  },
  {
   "cell_type": "code",
   "execution_count": 19,
   "id": "de67c4ff-42dc-45d1-ad47-02aaba760933",
   "metadata": {
    "tags": []
   },
   "outputs": [
    {
     "name": "stdout",
     "output_type": "stream",
     "text": [
      "volgende ronde met een bepaalde sampling technique: nothing:\n",
      "LogisticRegression\n",
      "[0.97505938 0.97743468 0.97425743]\n",
      "with the following confusion matrix: \n"
     ]
    },
    {
     "data": {
      "image/png": "[encoded data removed]",
      "text/plain": [
       "<Figure size 432x288 with 2 Axes>"
      ]
     },
     "metadata": {
      "needs_background": "light"
     },
     "output_type": "display_data"
    },
    {
     "name": "stdout",
     "output_type": "stream",
     "text": [
      "volgende ronde met een bepaalde sampling technique: undersampling:\n",
      "LogisticRegression\n",
      "[0.625      0.59821429 0.53571429]\n",
      "with the following confusion matrix: \n"
     ]
    },
    {
     "data": {
      "image/png": "[encoded data removed]",
      "text/plain": [
       "<Figure size 432x288 with 2 Axes>"
      ]
     },
     "metadata": {
      "needs_background": "light"
     },
     "output_type": "display_data"
    },
    {
     "name": "stdout",
     "output_type": "stream",
     "text": [
      "volgende ronde met een bepaalde sampling technique: oversampling:\n",
      "LogisticRegression\n",
      "[0.88534691 0.88531618 0.88504823]\n",
      "with the following confusion matrix: \n"
     ]
    },
    {
     "data": {
      "image/png": "[encoded data removed]",
      "text/plain": [
       "<Figure size 432x288 with 2 Axes>"
      ]
     },
     "metadata": {
      "needs_background": "light"
     },
     "output_type": "display_data"
    },
    {
     "name": "stdout",
     "output_type": "stream",
     "text": [
      "volgende ronde met een bepaalde sampling technique: smote:\n",
      "LogisticRegression\n",
      "[0.88159657 0.88049303 0.88370847]\n",
      "with the following confusion matrix: \n"
     ]
    },
    {
     "data": {
      "image/png": "[encoded data removed]",
      "text/plain": [
       "<Figure size 432x288 with 2 Axes>"
      ]
     },
     "metadata": {
      "needs_background": "light"
     },
     "output_type": "display_data"
    },
    {
     "name": "stdout",
     "output_type": "stream",
     "text": [
      "volgende ronde met een bepaalde sampling technique: smoteENN:\n",
      "LogisticRegression\n",
      "[0.96889258 0.97511406 0.97677312]\n",
      "with the following confusion matrix: \n"
     ]
    },
    {
     "data": {
      "image/png": "[encoded data removed]",
      "text/plain": [
       "<Figure size 432x288 with 2 Axes>"
      ]
     },
     "metadata": {
      "needs_background": "light"
     },
     "output_type": "display_data"
    },
    {
     "name": "stdout",
     "output_type": "stream",
     "text": [
      "volgende ronde met een bepaalde sampling technique: nothing:\n",
      "SVC\n",
      "[0.98535234 0.98495645 0.98534653]\n",
      "with the following confusion matrix: \n"
     ]
    },
    {
     "data": {
      "image/png": "[encoded data removed]",
      "text/plain": [
       "<Figure size 432x288 with 2 Axes>"
      ]
     },
     "metadata": {
      "needs_background": "light"
     },
     "output_type": "display_data"
    },
    {
     "name": "stdout",
     "output_type": "stream",
     "text": [
      "volgende ronde met een bepaalde sampling technique: undersampling:\n",
      "SVC\n",
      "[0.66964286 0.66071429 0.66071429]\n",
      "with the following confusion matrix: \n"
     ]
    },
    {
     "data": {
      "image/png": "[encoded data removed]",
      "text/plain": [
       "<Figure size 432x288 with 2 Axes>"
      ]
     },
     "metadata": {
      "needs_background": "light"
     },
     "output_type": "display_data"
    },
    {
     "name": "stdout",
     "output_type": "stream",
     "text": [
      "volgende ronde met een bepaalde sampling technique: oversampling:\n",
      "SVC\n",
      "[0.90865256 0.90755627 0.91371919]\n",
      "with the following confusion matrix: \n"
     ]
    },
    {
     "data": {
      "image/png": "[encoded data removed]",
      "text/plain": [
       "<Figure size 432x288 with 2 Axes>"
      ]
     },
     "metadata": {
      "needs_background": "light"
     },
     "output_type": "display_data"
    },
    {
     "name": "stdout",
     "output_type": "stream",
     "text": [
      "volgende ronde met een bepaalde sampling technique: smote:\n",
      "SVC\n",
      "[0.90275917 0.89255091 0.89067524]\n",
      "with the following confusion matrix: \n"
     ]
    },
    {
     "data": {
      "image/png": "[encoded data removed]",
      "text/plain": [
       "<Figure size 432x288 with 2 Axes>"
      ]
     },
     "metadata": {
      "needs_background": "light"
     },
     "output_type": "display_data"
    },
    {
     "name": "stdout",
     "output_type": "stream",
     "text": [
      "volgende ronde met een bepaalde sampling technique: smoteENN:\n",
      "SVC\n",
      "[0.99294898 0.99170469 0.98838656]\n",
      "with the following confusion matrix: \n"
     ]
    },
    {
     "data": {
      "image/png": "[encoded data removed]",
      "text/plain": [
       "<Figure size 432x288 with 2 Axes>"
      ]
     },
     "metadata": {
      "needs_background": "light"
     },
     "output_type": "display_data"
    },
    {
     "name": "stdout",
     "output_type": "stream",
     "text": [
      "volgende ronde met een bepaalde sampling technique: nothing:\n",
      "RandomForest\n",
      "[0.98535234 0.98495645 0.98534653]\n",
      "with the following confusion matrix: \n"
     ]
    },
    {
     "data": {
      "image/png": "[encoded data removed]",
      "text/plain": [
       "<Figure size 432x288 with 2 Axes>"
      ]
     },
     "metadata": {
      "needs_background": "light"
     },
     "output_type": "display_data"
    },
    {
     "name": "stdout",
     "output_type": "stream",
     "text": [
      "volgende ronde met een bepaalde sampling technique: undersampling:\n",
      "RandomForest\n",
      "[0.67857143 0.64285714 0.60714286]\n",
      "with the following confusion matrix: \n"
     ]
    },
    {
     "data": {
      "image/png": "[encoded data removed]",
      "text/plain": [
       "<Figure size 432x288 with 2 Axes>"
      ]
     },
     "metadata": {
      "needs_background": "light"
     },
     "output_type": "display_data"
    },
    {
     "name": "stdout",
     "output_type": "stream",
     "text": [
      "volgende ronde met een bepaalde sampling technique: oversampling:\n",
      "RandomForest\n",
      "[0.91481382 0.90943194 0.90916399]\n",
      "with the following confusion matrix: \n"
     ]
    },
    {
     "data": {
      "image/png": "[encoded data removed]",
      "text/plain": [
       "<Figure size 432x288 with 2 Axes>"
      ]
     },
     "metadata": {
      "needs_background": "light"
     },
     "output_type": "display_data"
    },
    {
     "name": "stdout",
     "output_type": "stream",
     "text": [
      "volgende ronde met een bepaalde sampling technique: smote:\n",
      "RandomForest\n",
      "[0.89900884 0.9244373  0.92416935]\n",
      "with the following confusion matrix: \n"
     ]
    },
    {
     "data": {
      "image/png": "[encoded data removed]",
      "text/plain": [
       "<Figure size 432x288 with 2 Axes>"
      ]
     },
     "metadata": {
      "needs_background": "light"
     },
     "output_type": "display_data"
    },
    {
     "name": "stdout",
     "output_type": "stream",
     "text": [
      "volgende ronde met een bepaalde sampling technique: smoteENN:\n",
      "RandomForest\n",
      "[0.97138117 1.         1.        ]\n",
      "with the following confusion matrix: \n"
     ]
    },
    {
     "data": {
      "image/png": "[encoded data removed]",
      "text/plain": [
       "<Figure size 432x288 with 2 Axes>"
      ]
     },
     "metadata": {
      "needs_background": "light"
     },
     "output_type": "display_data"
    },
    {
     "name": "stdout",
     "output_type": "stream",
     "text": [
      "volgende ronde met een bepaalde sampling technique: nothing:\n",
      "bagging\n",
      "[0.82343626 0.61916073 0.62970297]\n",
      "with the following confusion matrix: \n"
     ]
    },
    {
     "data": {
      "image/png": "[encoded data removed]",
      "text/plain": [
       "<Figure size 432x288 with 2 Axes>"
      ]
     },
     "metadata": {
      "needs_background": "light"
     },
     "output_type": "display_data"
    },
    {
     "name": "stdout",
     "output_type": "stream",
     "text": [
      "volgende ronde met een bepaalde sampling technique: undersampling:\n",
      "bagging\n",
      "[0.61607143 0.55357143 0.60714286]\n",
      "with the following confusion matrix: \n"
     ]
    },
    {
     "data": {
      "image/png": "[encoded data removed]",
      "text/plain": [
       "<Figure size 432x288 with 2 Axes>"
      ]
     },
     "metadata": {
      "needs_background": "light"
     },
     "output_type": "display_data"
    },
    {
     "name": "stdout",
     "output_type": "stream",
     "text": [
      "volgende ronde met een bepaalde sampling technique: oversampling:\n",
      "bagging\n",
      "[0.91561747 0.90541265 0.90434084]\n",
      "with the following confusion matrix: \n"
     ]
    },
    {
     "data": {
      "image/png": "[encoded data removed]",
      "text/plain": [
       "<Figure size 432x288 with 2 Axes>"
      ]
     },
     "metadata": {
      "needs_background": "light"
     },
     "output_type": "display_data"
    },
    {
     "name": "stdout",
     "output_type": "stream",
     "text": [
      "volgende ronde met een bepaalde sampling technique: smote:\n",
      "bagging\n",
      "[0.90704527 0.92095391 0.92282958]\n",
      "with the following confusion matrix: \n"
     ]
    },
    {
     "data": {
      "image/png": "[encoded data removed]",
      "text/plain": [
       "<Figure size 432x288 with 2 Axes>"
      ]
     },
     "metadata": {
      "needs_background": "light"
     },
     "output_type": "display_data"
    },
    {
     "name": "stdout",
     "output_type": "stream",
     "text": [
      "volgende ronde met een bepaalde sampling technique: smoteENN:\n",
      "bagging\n",
      "[0.96847781 0.99792617 0.99709664]\n",
      "with the following confusion matrix: \n"
     ]
    },
    {
     "data": {
      "image/png": "[encoded data removed]",
      "text/plain": [
       "<Figure size 432x288 with 2 Axes>"
      ]
     },
     "metadata": {
      "needs_background": "light"
     },
     "output_type": "display_data"
    },
    {
     "name": "stdout",
     "output_type": "stream",
     "text": [
      "volgende ronde met een bepaalde sampling technique: nothing:\n",
      "bagging\n",
      "[0.29889153 0.2810768  0.30217822]\n",
      "with the following confusion matrix: \n"
     ]
    },
    {
     "data": {
      "image/png": "[encoded data removed]",
      "text/plain": [
       "<Figure size 432x288 with 2 Axes>"
      ]
     },
     "metadata": {
      "needs_background": "light"
     },
     "output_type": "display_data"
    },
    {
     "name": "stdout",
     "output_type": "stream",
     "text": [
      "volgende ronde met een bepaalde sampling technique: undersampling:\n",
      "bagging\n",
      "[0.5        0.51785714 0.48214286]\n",
      "with the following confusion matrix: \n"
     ]
    },
    {
     "data": {
      "image/png": "[encoded data removed]",
      "text/plain": [
       "<Figure size 432x288 with 2 Axes>"
      ]
     },
     "metadata": {
      "needs_background": "light"
     },
     "output_type": "display_data"
    },
    {
     "name": "stdout",
     "output_type": "stream",
     "text": [
      "volgende ronde met een bepaalde sampling technique: oversampling:\n",
      "bagging\n",
      "[0.62710956 0.62513398 0.62031083]\n",
      "with the following confusion matrix: \n"
     ]
    },
    {
     "data": {
      "image/png": "[encoded data removed]",
      "text/plain": [
       "<Figure size 432x288 with 2 Axes>"
      ]
     },
     "metadata": {
      "needs_background": "light"
     },
     "output_type": "display_data"
    },
    {
     "name": "stdout",
     "output_type": "stream",
     "text": [
      "volgende ronde met een bepaalde sampling technique: smote:\n",
      "bagging\n",
      "[0.74497723 0.72534834 0.73258307]\n",
      "with the following confusion matrix: \n"
     ]
    },
    {
     "data": {
      "image/png": "[encoded data removed]",
      "text/plain": [
       "<Figure size 432x288 with 2 Axes>"
      ]
     },
     "metadata": {
      "needs_background": "light"
     },
     "output_type": "display_data"
    },
    {
     "name": "stdout",
     "output_type": "stream",
     "text": [
      "volgende ronde met een bepaalde sampling technique: smoteENN:\n",
      "bagging\n",
      "[0.82787225 0.83326421 0.83616757]\n",
      "with the following confusion matrix: \n"
     ]
    },
    {
     "data": {
      "image/png": "[encoded data removed]",
      "text/plain": [
       "<Figure size 432x288 with 2 Axes>"
      ]
     },
     "metadata": {
      "needs_background": "light"
     },
     "output_type": "display_data"
    }
   ],
   "source": [
    "#sampling 0.5\n",
    "results = []\n",
    "techniques = []\n",
    "names = []\n",
    "train = []\n",
    "\n",
    "for name, model in models:\n",
    "    for technique, x, y in zip(sampling_technique, X_train_tot, y_train_tot):\n",
    "        mod = make_pipeline(StandardScaler(), model)\n",
    "        result = cross_val_score(mod, x, y,  cv=3)\n",
    "        mod.fit(x, y)            \n",
    "        names.append(name)\n",
    "        results.append(result)\n",
    "        techniques.append(technique)\n",
    "        print(f'volgende ronde met een bepaalde sampling technique: {technique}:')\n",
    "        print(name)\n",
    "        print(result)\n",
    "        print('with the following confusion matrix: ')\n",
    "        plot_confusion_matrix(mod, X_test, y_test)  \n",
    "        plt.show()"
   ]
  },
  {
   "cell_type": "code",
   "execution_count": 22,
   "id": "45c93cd3-310e-4823-aec3-c30159a43d7a",
   "metadata": {},
   "outputs": [],
   "source": [
    "# for i in range(len(names)):\n",
    "#     print(names[i],results[i].mean(), techniques[i])"
   ]
  },
  {
   "cell_type": "code",
   "execution_count": 35,
   "id": "b39df45e-be15-4192-ac9d-8642c8800e41",
   "metadata": {},
   "outputs": [],
   "source": [
    "# one class classifier"
   ]
  },
  {
   "cell_type": "code",
   "execution_count": null,
   "id": "f47deb68-607b-4423-81d7-21073e6b55f5",
   "metadata": {},
   "outputs": [],
   "source": []
  },
  {
   "cell_type": "code",
   "execution_count": null,
   "id": "a19817e5-9c50-4ddd-abbd-bdc26f478f24",
   "metadata": {},
   "outputs": [],
   "source": []
  },
  {
   "cell_type": "code",
   "execution_count": null,
   "id": "bf0ed3a9-228b-4e74-a1e8-2bd0023f430a",
   "metadata": {},
   "outputs": [],
   "source": []
  },
  {
   "cell_type": "code",
   "execution_count": 20,
   "id": "3609c4e5-eb01-4a61-b343-60db4e191dc7",
   "metadata": {},
   "outputs": [],
   "source": [
    "# utils.evaluate_model('Forest', model_full_sample, X_test, y_test)\n",
    "\n",
    "# # rfc_single_disp = plot_roc_curve(model1, X_test, y_test)\n",
    "# rfc_disp = plot_roc_curve(model_full_sample, X_test, y_test, ax=rfc_single_disp.ax_)\n",
    "# rfc_disp.figure_.suptitle(\"ROC curve comparison\")\n",
    "# plt.show()"
   ]
  },
  {
   "cell_type": "code",
   "execution_count": null,
   "id": "a41054f8-9bea-4ecf-ab2d-c9ae684f4004",
   "metadata": {},
   "outputs": [],
   "source": []
  },
  {
   "cell_type": "code",
   "execution_count": null,
   "id": "bed270f0-d7e5-4367-a52e-6220f6029bd2",
   "metadata": {},
   "outputs": [],
   "source": []
  }
 ],
 "metadata": {
  "interpreter": {
   "hash": "7e1998ff7f8aa20ada591c520b972326324e5ea05489af9e422744c7c09f6dad"
  },
  "kernelspec": {
   "display_name": "Python 3 (ipykernel)",
   "language": "python",
   "name": "python3"
  },
  "language_info": {
   "codemirror_mode": {
    "name": "ipython",
    "version": 3
   },
   "file_extension": ".py",
   "mimetype": "text/x-python",
   "name": "python",
   "nbconvert_exporter": "python",
   "pygments_lexer": "ipython3",
   "version": "3.8.6"
  }
 },
 "nbformat": 4,
 "nbformat_minor": 5
}
