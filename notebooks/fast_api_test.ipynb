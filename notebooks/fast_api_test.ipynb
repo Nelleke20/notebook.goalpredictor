{
 "cells": [
  {
   "cell_type": "markdown",
   "id": "eacc0df3-fe99-49bc-a2bf-9236dfcb564a",
   "metadata": {
    "tags": []
   },
   "source": [
    "### test the model with an fast-api"
   ]
  },
  {
   "cell_type": "code",
   "execution_count": 3,
   "id": "e318c9de-2b3d-4b72-a83c-3f380f22d824",
   "metadata": {},
   "outputs": [],
   "source": [
    "# input data\n",
    "testset = pd.read_csv('../data/testset_api.csv')\n",
    "testset = testset.set_index('uniekid')\n",
    "testset = testset.drop('goal', axis=1)\n",
    "\n",
    "# Create an empty list\n",
    "rowlist =[]\n",
    "  \n",
    "# Iterate over each row\n",
    "for index, rows in testset.iterrows():      \n",
    "    # append the list to the final list\n",
    "    rowlist.append(rows)"
   ]
  },
  {
   "cell_type": "code",
   "execution_count": null,
   "id": "4966f059-76a6-4016-9c83-53a2b26ad22b",
   "metadata": {},
   "outputs": [],
   "source": [
    "url = 'http://0.0.0.0:8000/predict'"
   ]
  },
  {
   "cell_type": "code",
   "execution_count": 77,
   "id": "c1b7d4dc-d55c-4f2f-a81b-0ba3bdc4c96c",
   "metadata": {
    "tags": []
   },
   "outputs": [
    {
     "name": "stdout",
     "output_type": "stream",
     "text": [
      "{\"prediction\":0.0}\n"
     ]
    }
   ],
   "source": [
    "# test one api call\n",
    "row_features_as_list = rowlist[3].values.tolist()\n",
    "data = {\"features\" : [row_features_as_list]}\n",
    "response = requests.post(url, json=data)\n",
    "print(response.text)"
   ]
  },
  {
   "cell_type": "code",
   "execution_count": 76,
   "id": "b011bed3-dea0-49b2-9728-2029598e1908",
   "metadata": {},
   "outputs": [
    {
     "name": "stdout",
     "output_type": "stream",
     "text": [
      "the next minute there will be: no goal..\n",
      "the next minute there will be: a goal!\n",
      "the next minute there will be: a goal!\n",
      "the next minute there will be: no goal..\n",
      "the next minute there will be: a goal!\n"
     ]
    }
   ],
   "source": [
    "answer =[]\n",
    "for item in rowlist:\n",
    "    row_features_as_list = item.values.tolist()\n",
    "    data = {\"features\" : [row_features_as_list]}\n",
    "    response = requests.post(url, json=data)\n",
    "    answer_type = json.loads(response.text)['prediction']\n",
    "    if answer_type == 0:\n",
    "        print('the next minute there will be: no goal..')\n",
    "    elif answer_type == 1:\n",
    "        print('the next minute there will be: a goal!')\n",
    "    answer.append(answer_type)"
   ]
  },
  {
   "cell_type": "code",
   "execution_count": 74,
   "id": "b1e375d4-4178-4dbe-af27-d52775962ba7",
   "metadata": {},
   "outputs": [
    {
     "data": {
      "text/plain": [
       "[0.0, 1.0, 1.0, 0.0, 1.0]"
      ]
     },
     "execution_count": 74,
     "metadata": {},
     "output_type": "execute_result"
    }
   ],
   "source": [
    "answer"
   ]
  },
  {
   "cell_type": "raw",
   "id": "b91ea80f-2717-491d-a61e-b02213725872",
   "metadata": {},
   "source": [
    "using the json parameter sets the content-type in the headers to application/json. "
   ]
  },
  {
   "cell_type": "code",
   "execution_count": null,
   "id": "07dd3584-1a43-44bf-8215-9c6daedfce5e",
   "metadata": {},
   "outputs": [],
   "source": []
  }
 ],
 "metadata": {
  "kernelspec": {
   "display_name": "Python 3 (ipykernel)",
   "language": "python",
   "name": "python3"
  },
  "language_info": {
   "codemirror_mode": {
    "name": "ipython",
    "version": 3
   },
   "file_extension": ".py",
   "mimetype": "text/x-python",
   "name": "python",
   "nbconvert_exporter": "python",
   "pygments_lexer": "ipython3",
   "version": "3.8.6"
  }
 },
 "nbformat": 4,
 "nbformat_minor": 5
}
