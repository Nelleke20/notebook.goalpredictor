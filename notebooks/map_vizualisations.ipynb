{
 "cells": [
  {
   "cell_type": "code",
   "execution_count": 1,
   "id": "8fb0f8b3-c07e-4d01-b59c-e8d815a0b5e1",
   "metadata": {},
   "outputs": [],
   "source": [
    "# https://data.overheid.nl/dataset/strooiroutes-utrecht#panel-resources"
   ]
  },
  {
   "cell_type": "code",
   "execution_count": null,
   "id": "19692bd3-295b-4982-a0b2-a8f4dde81655",
   "metadata": {},
   "outputs": [],
   "source": []
  }
 ],
 "metadata": {
  "kernelspec": {
   "display_name": "Python 3 (ipykernel)",
   "language": "python",
   "name": "python3"
  },
  "language_info": {
   "codemirror_mode": {
    "name": "ipython",
    "version": 3
   },
   "file_extension": ".py",
   "mimetype": "text/x-python",
   "name": "python",
   "nbconvert_exporter": "python",
   "pygments_lexer": "ipython3",
   "version": "3.8.6"
  }
 },
 "nbformat": 4,
 "nbformat_minor": 5
}
