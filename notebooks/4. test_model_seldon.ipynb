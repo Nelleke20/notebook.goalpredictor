{
 "cells": [
  {
   "cell_type": "markdown",
   "id": "1b1e1836-3ae1-403c-89d9-8229d70b4187",
   "metadata": {
    "tags": []
   },
   "source": [
    "### deploy the model with an api"
   ]
  },
  {
   "cell_type": "code",
   "execution_count": 1,
   "id": "0e4de549-ab31-44a4-bd7f-4a0ab4875f45",
   "metadata": {},
   "outputs": [],
   "source": [
    "import pandas as pd"
   ]
  },
  {
   "cell_type": "raw",
   "id": "783b6299-e64f-4653-a2f0-801de28fe23c",
   "metadata": {},
   "source": [
    "# use seldon to create microservice\n",
    "\n",
    "High Level Features¶\n",
    "With over 2M installs, Seldon Core is used across organisations to manage large scale deployment of machine learning models, and key benefits include:\n",
    "Easy way to containerise ML models using our pre-packaged inference servers, custom servers, or language wrappers.\n",
    "Out of the box endpoints which can be tested through Swagger UI, Seldon Python Client or Curl / GRPCurl.\n",
    "Cloud agnostic and tested on AWS EKS, Azure AKS, Google GKE, Alicloud, Digital Ocean and Openshift.\n",
    "Powerful and rich inference graphs made out of predictors, transformers, routers, combiners, and more.\n",
    "Metadata provenance to ensure each model can be traced back to its respective training system, data and metrics.\n",
    "Advanced and customisable metrics with integration to Prometheus and Grafana.\n",
    "Full auditability through model input-output request logging integration with Elasticsearch.\n",
    "Microservice distributed tracing through integration to Jaeger for insights on latency across microservice hops.\n",
    "Secure, reliable and robust system maintained through a consistent security & updates policy."
   ]
  },
  {
   "cell_type": "code",
   "execution_count": 5,
   "id": "a7081945-de57-463e-83ff-efcb9a2fd7af",
   "metadata": {},
   "outputs": [],
   "source": [
    "# steps\n",
    "\n",
    "# run a model locally on my kubernetes cluster"
   ]
  },
  {
   "cell_type": "code",
   "execution_count": null,
   "id": "39fb06d0-cb28-4b24-ad49-e29a61110f8d",
   "metadata": {},
   "outputs": [],
   "source": []
  },
  {
   "cell_type": "code",
   "execution_count": 2,
   "id": "f6e00aac-e4d0-4776-aefd-ab29a70f685f",
   "metadata": {},
   "outputs": [],
   "source": [
    "# input data\n",
    "testset = pd.read_csv('../data/testset_api.csv')\n",
    "testset = testset.set_index('uniekid')\n",
    "testset = testset.drop('goal', axis=1)\n",
    "\n",
    "# Create an empty list\n",
    "rowlist =[]\n",
    "  \n",
    "# Iterate over each row\n",
    "for index, rows in testset.iterrows():      \n",
    "    # append the list to the final list\n",
    "    rowlist.append(rows)"
   ]
  },
  {
   "cell_type": "code",
   "execution_count": null,
   "id": "043fdae0-4983-4863-80c2-e9e38dfaf3f5",
   "metadata": {},
   "outputs": [],
   "source": []
  }
 ],
 "metadata": {
  "kernelspec": {
   "display_name": "Python 3 (ipykernel)",
   "language": "python",
   "name": "python3"
  },
  "language_info": {
   "codemirror_mode": {
    "name": "ipython",
    "version": 3
   },
   "file_extension": ".py",
   "mimetype": "text/x-python",
   "name": "python",
   "nbconvert_exporter": "python",
   "pygments_lexer": "ipython3",
   "version": "3.8.6"
  }
 },
 "nbformat": 4,
 "nbformat_minor": 5
}
