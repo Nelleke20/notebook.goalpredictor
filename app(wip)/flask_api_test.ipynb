{
 "cells": [
  {
   "cell_type": "markdown",
   "id": "eacc0df3-fe99-49bc-a2bf-9236dfcb564a",
   "metadata": {
    "tags": []
   },
   "source": [
    "### TESTING: deploy the model with the flask-api"
   ]
  },
  {
   "cell_type": "code",
   "execution_count": null,
   "id": "24d77718-ac21-4c0b-b426-48f822801620",
   "metadata": {},
   "outputs": [],
   "source": [
    "from flask import Flask\n",
    "from joblib import load\n",
    "import pandas as pd\n",
    "import requests\n",
    "import json\n",
    "from joblib import load\n",
    "import pandas as pd\n",
    "import requests\n",
    "# from flask import Flask, request, jsonify   #jsonify data  is json dump for flask app with correct content-type hearders\n",
    "import numpy as np\n",
    "from fastapi import FastAPI\n",
    "import uvicorn"
   ]
  },
  {
   "cell_type": "code",
   "execution_count": null,
   "id": "e318c9de-2b3d-4b72-a83c-3f380f22d824",
   "metadata": {},
   "outputs": [],
   "source": [
    "# input data\n",
    "testset = pd.read_csv('../data/testset_api.csv')\n",
    "testset = testset.set_index('uniekid')\n",
    "testset = testset.drop('goal', axis=1)\n",
    "\n",
    "# Create an empty list\n",
    "rowlist =[]\n",
    "  \n",
    "# Iterate over each row\n",
    "for index, rows in testset.iterrows():      \n",
    "    # append the list to the final list\n",
    "    rowlist.append(rows)"
   ]
  },
  {
   "cell_type": "code",
   "execution_count": null,
   "id": "f9c50fef-c680-4b7d-a55c-018ee8ef5ba0",
   "metadata": {
    "tags": []
   },
   "outputs": [],
   "source": [
    "0, 1, 0, 0, 0, 0, 0, 0, 0, 0, 0, 0, 0, 0, 0, 0, 0, 0, 0, 0, 0, 0, 0, 0, 0, 0, 0, 0, 0, 0, 0, 0, 0, 0, 0, 0, 0, 0, 0, 0, 0, 0, 0, 0, 0, 0, 0, 0, 0, 0, 0, 0, 0, 0, 0, 0, 0, 0, 0, 0, 0, 0, 0, 0, 0, 0, 0, 0, 0, 0, 0, 0, 0, 0, 0, 0, 0, 0, 0, 0, 0, 0, 0, 0, 0, 0, 0, 0, 0, 0, 0, 0, 0, 0, 0, 0, 0, 0, 0, 0, 0, 0, 0, 0, 0, 0, 0, 0, 0, 0, 0, 0, 0, 0, 0, 0, 0, 0, 0, 0, 0, 0, 0, 0, 0, 0, 0, 0, 0, 0, 0, 0, 0, 0, 0, 0, 0, 0, 0, 0, 0, 0, 0, 0, 0, 0, 0, 0, 0, 0, 0, 0, 0, 0, 0, 0, 0, 0, 0, 0, 0, 0, 0, 0, 0, 0, 0, 0, 0, 0, 0, 0, 0, 0, 0, 0, 0, 0, 0, 0, 0, 0, 0, 0, 0, 0, 0, 0, 0, 0, 0, 0, 0, 0, 0, 0, 0, 0, 0, 0, 0, 0, 0, 0, 0, 0, 0, 0, 0, 0, 0, 0, 0, 0, 0, 0, 0, 0, 0, 0, 0, 0, 0, 0, 0, 0, 0, 0, 0, 0, 0, 0, 0, 0, 0, 0, 0, 0, 0, 0, 0, 0, 0, 0, 0, 0, 0, 0, 0, 0, 0, 0, 0, 0, 0, 0, 0, 0, 0, 0, 0, 0, 0, 0, 0, 0, 0, 0, 0, 0, 0, 0, 0, 0, 0, 0, 0, 0, 0, 0, 0, 0, 0, 0, 0, 0, 0, 0, 0, 0, 0, 0, 0, 0, 0, 0, 0, 0, 0, 0, 0, 0, 0, 0, 0, 0, 0, 0, 0, 0, 0, 0, 0, 0, 0, 0, 0, 0, 0, 0, 0, 0, 0, 0, 0, 0, 0, 0, 0, 0, 0, 0, 0, 0, 0, 0, 0, 0, 0, 0, 0, 0, 0, 0, 0, 0, 0, 0, 0, 0, 0, 0, 0, 0, 0, 0, 0, 0, 0, 0, 0, 0, 0, 0, 0, 0, 0, 0, 0, 0, 0, 0, 0, 0, 0, 0, 0, 0, 0, 0, 0, 0, 0, 0, 0, 0, 0, 0, 0, 0, 0, 0, 0, 0, 0, 0, 0, 0, 0, 0, 0, 0, 0, 0, 0, 0, 0, 0, 0, 0, 0, 0, 0, 0, 0, 0, 0, 0, 0, 0, 0, 0, 0, 0, 0, 0, 0, 0, 0, 0, 0, 0, 0, 0, 0, 0, 0, 0, 0, 0, 0, 0, 0, 0, 0, 0, 0, 0, 0, 0, 0, 0, 0, 0, 0, 0, 0, 0, 0, 0, 0, 0, 0, 0, 0, 0, 0, 0, 0, 0, 0, 0, 0, 0, 0, 0, 0, 0, 0, 0, 0, 0, 0, 0, 0, 0, 0, 0, 0, 0, 0, 0, 0, 0, 0, 0, 0, 0, 0, 0, 0, 0, 0, 0, 0, 0, 0, 0, 0, 0, 0, 0, 0, 0, 0, 0, 0, 0, 0, 0, 0, 0, 0, 0, 0, 0, 0, 0, 0, 0, 0, 0, 0, 0, 0, 0, 0, 0, 0, 0, 0, 0, 0, 0, 0, 0, 0, 0, 0, 0, 0, 0, 0, 0, 0, 0, 0, 0, 0, 0, 0, 0, 0, 0, 0, 0, 0, 0, 0, 0, 0, 0, 0, 0, 0, 0, 0, 0, 0"
   ]
  },
  {
   "cell_type": "code",
   "execution_count": null,
   "id": "1b91d1df-c269-4732-aa55-8f2870d27775",
   "metadata": {
    "tags": []
   },
   "outputs": [],
   "source": [
    "rowlist[1].values"
   ]
  },
  {
   "cell_type": "code",
   "execution_count": null,
   "id": "4280b176-8cad-4857-b780-7cd1a6080f68",
   "metadata": {},
   "outputs": [],
   "source": [
    "\n",
    "@app.route('/predict', methods=['POST'])\n",
    "def predict():\n",
    "    \"\"\"Grabs the input values and uses them to make prediction\"\"\"\n",
    "    features = list(request.form[\"features\"])\n",
    "    prediction = model.predict([features])  \n",
    "    return render_template('index.html', prediction_text=f'the result is{prediction}')"
   ]
  },
  {
   "cell_type": "code",
   "execution_count": null,
   "id": "32509105-6e9a-46e9-beab-48fd1ba5affb",
   "metadata": {
    "tags": []
   },
   "outputs": [],
   "source": [
    "# test api call\n",
    "response = requests.get('http://localhost:5000')\n",
    "response.text"
   ]
  },
  {
   "cell_type": "code",
   "execution_count": null,
   "id": "65dd1a2a-25e1-4bc4-83b6-d7e83b1e4574",
   "metadata": {},
   "outputs": [],
   "source": [
    "# test api call\n",
    "url = 'http://0.0.0.0:5000/predict'\n",
    "\n",
    "row_features_as_list = rowlist[3].values.tolist()\n",
    "# data = row_features_as_list\n",
    "data = [row_features_as_list]\n",
    "json_data = json.dumps(data)\n",
    "headers = {'content-type': 'application/json', 'Accept-Charset': 'UTF-8'}\n",
    "response = requests.post(url, data=json_data, headers=headers)\n",
    "print(response.text)"
   ]
  },
  {
   "cell_type": "code",
   "execution_count": null,
   "id": "f886d8b8-d454-438c-abb2-e9f8f6419e9c",
   "metadata": {},
   "outputs": [],
   "source": []
  }
 ],
 "metadata": {
  "kernelspec": {
   "display_name": "Python 3 (ipykernel)",
   "language": "python",
   "name": "python3"
  },
  "language_info": {
   "codemirror_mode": {
    "name": "ipython",
    "version": 3
   },
   "file_extension": ".py",
   "mimetype": "text/x-python",
   "name": "python",
   "nbconvert_exporter": "python",
   "pygments_lexer": "ipython3",
   "version": "3.8.6"
  }
 },
 "nbformat": 4,
 "nbformat_minor": 5
}
